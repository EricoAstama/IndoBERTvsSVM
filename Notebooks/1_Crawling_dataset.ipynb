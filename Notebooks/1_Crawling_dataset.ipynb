{
  "cells": [
    {
      "cell_type": "markdown",
      "metadata": {
        "id": "xEWpayxURuUn"
      },
      "source": [
        "# **Crawl Data Twitter > 2000 Tweets**\n",
        "The crawling process was done using Tweet-Harvest.\n",
        "\n",
        "c7dbb7f92599fa2b6a300af88b48d5ddd631d55a = erico 1st\n",
        "\n",
        "fb6ba15a40e8786ef39befa37c31805321345e04 = erico skripsi\n",
        "\n",
        "b96c2192e1a08ab1d434aa99fccbba068310ab41 = ericodenisa\n",
        "\n"
      ]
    },
    {
      "cell_type": "code",
      "execution_count": null,
      "metadata": {
        "id": "6S00x_f6-GeD"
      },
      "outputs": [],
      "source": [
        "#@title Twitter Auth Token\n",
        "\n",
        "twitter_auth_token = '**********************************' # change this auth token"
      ]
    },
    {
      "cell_type": "code",
      "execution_count": 1,
      "metadata": {
        "colab": {
          "base_uri": "https://localhost:8080/"
        },
        "id": "4UIL1x21P9rQ",
        "outputId": "7c806fdc-d6d5-4c11-c91e-a8e163ef5080"
      },
      "outputs": [
        {
          "name": "stdout",
          "output_type": "stream",
          "text": [
            "Requirement already satisfied: pandas in c:\\users\\erico\\anaconda3\\lib\\site-packages (2.2.2)\n",
            "Requirement already satisfied: numpy>=1.26.0 in c:\\users\\erico\\anaconda3\\lib\\site-packages (from pandas) (1.26.4)\n",
            "Requirement already satisfied: python-dateutil>=2.8.2 in c:\\users\\erico\\anaconda3\\lib\\site-packages (from pandas) (2.9.0.post0)\n",
            "Requirement already satisfied: pytz>=2020.1 in c:\\users\\erico\\anaconda3\\lib\\site-packages (from pandas) (2024.1)\n",
            "Requirement already satisfied: tzdata>=2022.7 in c:\\users\\erico\\anaconda3\\lib\\site-packages (from pandas) (2023.3)\n",
            "Requirement already satisfied: six>=1.5 in c:\\users\\erico\\anaconda3\\lib\\site-packages (from python-dateutil>=2.8.2->pandas) (1.16.0)\n"
          ]
        },
        {
          "name": "stderr",
          "output_type": "stream",
          "text": [
            "Command not found\n",
            "Command not found\n",
            "The syntax of the command is incorrect.\n",
            "Command not found\n",
            "'NODE_MAJOR' is not recognized as an internal or external command,\n",
            "operable program or batch file.\n",
            "Command not found\n",
            "Command not found\n"
          ]
        },
        {
          "name": "stdout",
          "output_type": "stream",
          "text": [
            "v22.14.0\n"
          ]
        }
      ],
      "source": [
        "# Import required Python package\n",
        "!pip install pandas\n",
        "\n",
        "# Install Node.js (because tweet-harvest built using Node.js)\n",
        "!sudo apt-get update\n",
        "!sudo apt-get install -y ca-certificates curl gnupg\n",
        "!sudo mkdir -p /etc/apt/keyrings\n",
        "!curl -fsSL https://deb.nodesource.com/gpgkey/nodesource-repo.gpg.key | sudo gpg --dearmor -o /etc/apt/keyrings/nodesource.gpg\n",
        "\n",
        "!NODE_MAJOR=20 && echo \"deb [signed-by=/etc/apt/keyrings/nodesource.gpg] https://deb.nodesource.com/node_$NODE_MAJOR.x nodistro main\" | sudo tee /etc/apt/sources.list.d/nodesource.list\n",
        "\n",
        "!sudo apt-get update\n",
        "!sudo apt-get install nodejs -y\n",
        "\n",
        "!node -v"
      ]
    },
    {
      "cell_type": "markdown",
      "metadata": {},
      "source": [
        "## **Crawl Data X/Twitter**"
      ]
    },
    {
      "cell_type": "code",
      "execution_count": null,
      "metadata": {
        "colab": {
          "base_uri": "https://localhost:8080/"
        },
        "id": "LYDR51dJlVlX",
        "outputId": "5ddfd2fc-51d6-4ecb-d61a-0fd0f38e5c52"
      },
      "outputs": [
        {
          "name": "stdout",
          "output_type": "stream",
          "text": [
            "\u001b[1m\u001b[32mTweet Harvest [v2.6.1]\u001b[39m\u001b[22m\n",
            "\u001b[1m\u001b[32m\u001b[39m\u001b[22m\n",
            "\u001b[34mResearch by \u001b[39m\u001b[1m\u001b[34mHelmi Satria\u001b[39m\u001b[22m\u001b[34m\u001b[39m\n",
            "\u001b[34mUse it for Educational Purposes only!\u001b[39m\n",
            "\u001b[34m\u001b[39m\n",
            "\u001b[33mThis script uses Chromium Browser to crawl data from Twitter with \u001b[1myour Twitter auth token\u001b[22m.\u001b[39m\n",
            "\u001b[33mPlease enter your Twitter auth token when prompted.\u001b[39m\n",
            "\u001b[33m\u001b[39m\n",
            "\u001b[31m\u001b[1mNote:\u001b[22m\u001b[39m Keep your access token secret! Don't share it with anyone else.\n",
            "\u001b[31m\u001b[1mNote:\u001b[22m\u001b[39m This script only runs on your local device.\n",
            "\n",
            "\u001b[34m\u001b[39m\n",
            "\u001b[34mOpening twitter search page...\u001b[39m\n",
            "\u001b[34m\u001b[39m\n",
            "\u001b[33m\u001b[39m\n",
            "\u001b[33mFilling in keywords: #kaburajadulu\u001b[39m\n",
            "\u001b[33m\u001b[39m\n",
            "\u001b[32mCreated new directory: \\\\?\\c:\\Users\\Erico\\Documents\\skripsi\\analisis sentimen indoBERT\\fix\\versi_rapih\\Notebooks\\tweets-data\u001b[39m\n",
            "\u001b[34m\u001b[39m\n",
            "\u001b[34m\u001b[39m\n",
            "\u001b[34mYour tweets saved to: c:\\Users\\Erico\\Documents\\skripsi\\analisis sentimen indoBERT\\fix\\versi_rapih\\Notebooks\\tweets-data\\kaburajadulutesting.csv\u001b[39m\n",
            "\u001b[33mTotal tweets saved: 17\u001b[39m\n",
            "\u001b[90m\u001b[39m\n",
            "\u001b[90m-- Scrolling... (1)\u001b[39m\u001b[34m\u001b[39m\n",
            "\u001b[34m\u001b[39m\n",
            "\u001b[34mYour tweets saved to: c:\\Users\\Erico\\Documents\\skripsi\\analisis sentimen indoBERT\\fix\\versi_rapih\\Notebooks\\tweets-data\\kaburajadulutesting.csv\u001b[39m\n",
            "\u001b[33mTotal tweets saved: 29\u001b[39m\n",
            "\u001b[90m\u001b[39m\n",
            "\u001b[90m-- Scrolling... (1)\u001b[39m\u001b[34m\u001b[39m\n",
            "\u001b[34m\u001b[39m\n",
            "\u001b[34mYour tweets saved to: c:\\Users\\Erico\\Documents\\skripsi\\analisis sentimen indoBERT\\fix\\versi_rapih\\Notebooks\\tweets-data\\kaburajadulutesting.csv\u001b[39m\n",
            "\u001b[33mTotal tweets saved: 33\u001b[39m\n",
            "\u001b[34m\u001b[39m\n",
            "\u001b[34m\u001b[39m\n",
            "\u001b[34mYour tweets saved to: c:\\Users\\Erico\\Documents\\skripsi\\analisis sentimen indoBERT\\fix\\versi_rapih\\Notebooks\\tweets-data\\kaburajadulutesting.csv\u001b[39m\n",
            "\u001b[33mTotal tweets saved: 48\u001b[39m\n",
            "\u001b[34m\u001b[39m\n",
            "\u001b[34m\u001b[39m\n",
            "\u001b[34mYour tweets saved to: c:\\Users\\Erico\\Documents\\skripsi\\analisis sentimen indoBERT\\fix\\versi_rapih\\Notebooks\\tweets-data\\kaburajadulutesting.csv\u001b[39m\n",
            "\u001b[33mTotal tweets saved: 62\u001b[39m\n",
            "\u001b[90m\u001b[39m\n",
            "\u001b[90m-- Scrolling... (1)\u001b[39m\u001b[34m\u001b[39m\n",
            "\u001b[34m\u001b[39m\n",
            "\u001b[34mYour tweets saved to: c:\\Users\\Erico\\Documents\\skripsi\\analisis sentimen indoBERT\\fix\\versi_rapih\\Notebooks\\tweets-data\\kaburajadulutesting.csv\u001b[39m\n",
            "\u001b[33mTotal tweets saved: 74\u001b[39m\n",
            "\u001b[34m\u001b[39m\n",
            "\u001b[34m\u001b[39m\n",
            "\u001b[34mYour tweets saved to: c:\\Users\\Erico\\Documents\\skripsi\\analisis sentimen indoBERT\\fix\\versi_rapih\\Notebooks\\tweets-data\\kaburajadulutesting.csv\u001b[39m\n",
            "\u001b[33mTotal tweets saved: 86\u001b[39m\n",
            "\u001b[34m\u001b[39m\n",
            "\u001b[34m\u001b[39m\n",
            "\u001b[34mYour tweets saved to: c:\\Users\\Erico\\Documents\\skripsi\\analisis sentimen indoBERT\\fix\\versi_rapih\\Notebooks\\tweets-data\\kaburajadulutesting.csv\u001b[39m\n",
            "\u001b[33mTotal tweets saved: 91\u001b[39m\n",
            "\u001b[34m\u001b[39m\n",
            "\u001b[34m\u001b[39m\n",
            "\u001b[34mYour tweets saved to: c:\\Users\\Erico\\Documents\\skripsi\\analisis sentimen indoBERT\\fix\\versi_rapih\\Notebooks\\tweets-data\\kaburajadulutesting.csv\u001b[39m\n",
            "\u001b[33mTotal tweets saved: 99\u001b[39m\n",
            "\u001b[34m\u001b[39m\n",
            "\u001b[34m\u001b[39m\n",
            "\u001b[34mYour tweets saved to: c:\\Users\\Erico\\Documents\\skripsi\\analisis sentimen indoBERT\\fix\\versi_rapih\\Notebooks\\tweets-data\\kaburajadulutesting.csv\u001b[39m\n",
            "\u001b[33mTotal tweets saved: 111\u001b[39m\n",
            "\u001b[90m\u001b[39m\n",
            "\u001b[90m--Taking a break, waiting for 10 seconds...\u001b[39m\n",
            "Got 111 tweets, done scrolling...\n"
          ]
        },
        {
          "name": "stderr",
          "output_type": "stream",
          "text": [
            "npm warn deprecated inflight@1.0.6: This module is not supported, and leaks memory. Do not use it. Check out lru-cache if you want a good and tested way to coalesce async requests by a key value, which is much more comprehensive and powerful.\n",
            "npm warn deprecated rimraf@3.0.2: Rimraf versions prior to v4 are no longer supported\n",
            "npm warn deprecated glob@7.2.3: Glob versions prior to v9 are no longer supported\n",
            "npm notice\n",
            "npm notice New major version of npm available! 10.9.2 -> 11.3.0\n",
            "npm notice Changelog: https://github.com/npm/cli/releases/tag/v11.3.0\n",
            "npm notice To update run: npm install -g npm@11.3.0\n",
            "npm notice\n"
          ]
        }
      ],
      "source": [
        "# Crawl Data\n",
        "\n",
        "filename = 'kaburajadulu.csv'\n",
        "search_keyword = '#kaburajadulu'\n",
        "limit = 1000\n",
        "\n",
        "!npx -y tweet-harvest@2.6.1 -o \"{filename}\" -s \"{search_keyword}\" --tab \"LATEST\" -l {limit} --token {twitter_auth_token}"
      ]
    },
    {
      "cell_type": "code",
      "execution_count": 11,
      "metadata": {
        "colab": {
          "base_uri": "https://localhost:8080/",
          "height": 895
        },
        "id": "HvAG3hPvQDqk",
        "outputId": "0d8dcce0-5822-455d-8640-a510fcbe2afa"
      },
      "outputs": [
        {
          "data": {
            "application/vnd.microsoft.datawrangler.viewer.v0+json": {
              "columns": [
                {
                  "name": "index",
                  "rawType": "int64",
                  "type": "integer"
                },
                {
                  "name": "conversation_id_str",
                  "rawType": "int64",
                  "type": "integer"
                },
                {
                  "name": "created_at",
                  "rawType": "object",
                  "type": "string"
                },
                {
                  "name": "favorite_count",
                  "rawType": "int64",
                  "type": "integer"
                },
                {
                  "name": "full_text",
                  "rawType": "object",
                  "type": "string"
                },
                {
                  "name": "id_str",
                  "rawType": "int64",
                  "type": "integer"
                },
                {
                  "name": "image_url",
                  "rawType": "object",
                  "type": "unknown"
                },
                {
                  "name": "in_reply_to_screen_name",
                  "rawType": "object",
                  "type": "unknown"
                },
                {
                  "name": "lang",
                  "rawType": "object",
                  "type": "string"
                },
                {
                  "name": "location",
                  "rawType": "object",
                  "type": "unknown"
                },
                {
                  "name": "quote_count",
                  "rawType": "int64",
                  "type": "integer"
                },
                {
                  "name": "reply_count",
                  "rawType": "int64",
                  "type": "integer"
                },
                {
                  "name": "retweet_count",
                  "rawType": "int64",
                  "type": "integer"
                },
                {
                  "name": "tweet_url",
                  "rawType": "object",
                  "type": "string"
                },
                {
                  "name": "user_id_str",
                  "rawType": "int64",
                  "type": "integer"
                },
                {
                  "name": "username",
                  "rawType": "object",
                  "type": "string"
                }
              ],
              "conversionMethod": "pd.DataFrame",
              "ref": "71477306-ac07-45ef-ba34-c83df78e2dab",
              "rows": [
                [
                  "0",
                  "1913223976916320518",
                  "Fri Apr 18 13:51:42 +0000 2025",
                  "0",
                  "@mcitraningrum Hmmm tapi diskursus di X soal #KaburAjaDulu (yang didominasi oleh kalangan berbeda tapi sama-sama kelas menengah) juga hampir sama kok. Hampir semua sisi negatif tinggal di LN (atau sisi positif tinggal di Indonesia) yang dibahas berkaitan rendahnya upah. Mulai dari di",
                  "1913228949846736920",
                  null,
                  "mcitraningrum",
                  "in",
                  null,
                  "0",
                  "0",
                  "0",
                  "https://x.com/alandakariza/status/1913228949846736920",
                  "12450932",
                  "alandakariza"
                ],
                [
                  "1",
                  "1913228579216711916",
                  "Fri Apr 18 13:50:14 +0000 2025",
                  "0",
                  "harus ngumpulin sampe 50 jeti untuk #KaburAjaDulu. Duit darimana ya Allah semoga dipermudah",
                  "1913228579216711916",
                  null,
                  null,
                  "in",
                  null,
                  "0",
                  "0",
                  "0",
                  "https://x.com/waeuciss/status/1913228579216711916",
                  "1348761936268193793",
                  "waeuciss"
                ],
                [
                  "2",
                  "1913227610827751792",
                  "Fri Apr 18 13:46:23 +0000 2025",
                  "1",
                  "#KaburAjaDulu versi Turki ️ Ini aktivisme #humor dari Halil Altindere. Ia rutin mengkritik pemerintah &amp; militer yg represif lewat #satire visual. The Art of Protest: Political Art &amp; Activism - Gestalten (2021 h.53) #IndonesiaGelap #PeringatanDarurat https://t.co/s5xQlzAIQf",
                  "1913227610827751792",
                  "https://pbs.twimg.com/media/Go0mXfwaUAAH_AM.jpg",
                  null,
                  "in",
                  "DKI Jakarta, Indonesia",
                  "0",
                  "0",
                  "0",
                  "https://x.com/ihik_3/status/1913227610827751792",
                  "3249419148",
                  "ihik_3"
                ],
                [
                  "3",
                  "1913148914397745242",
                  "Fri Apr 18 13:34:46 +0000 2025",
                  "1",
                  "@GERWANIDYKE #KaburAjaDulu",
                  "1913224689868308656",
                  null,
                  "GERWANIDYKE",
                  "qme",
                  null,
                  "0",
                  "0",
                  "0",
                  "https://x.com/milehighami/status/1913224689868308656",
                  "1730129754605649920",
                  "milehighami"
                ],
                [
                  "4",
                  "1913224437723529526",
                  "Fri Apr 18 13:33:46 +0000 2025",
                  "0",
                  "Lhooo.. baru kemarin mulai #kaburajadulu",
                  "1913224437723529526",
                  null,
                  null,
                  "in",
                  "Yogyakarta, ID",
                  "0",
                  "0",
                  "0",
                  "https://x.com/kakakamri/status/1913224437723529526",
                  "223602857",
                  "kakakamri"
                ]
              ],
              "shape": {
                "columns": 15,
                "rows": 5
              }
            },
            "text/html": [
              "<div>\n",
              "<style scoped>\n",
              "    .dataframe tbody tr th:only-of-type {\n",
              "        vertical-align: middle;\n",
              "    }\n",
              "\n",
              "    .dataframe tbody tr th {\n",
              "        vertical-align: top;\n",
              "    }\n",
              "\n",
              "    .dataframe thead th {\n",
              "        text-align: right;\n",
              "    }\n",
              "</style>\n",
              "<table border=\"1\" class=\"dataframe\">\n",
              "  <thead>\n",
              "    <tr style=\"text-align: right;\">\n",
              "      <th></th>\n",
              "      <th>conversation_id_str</th>\n",
              "      <th>created_at</th>\n",
              "      <th>favorite_count</th>\n",
              "      <th>full_text</th>\n",
              "      <th>id_str</th>\n",
              "      <th>image_url</th>\n",
              "      <th>in_reply_to_screen_name</th>\n",
              "      <th>lang</th>\n",
              "      <th>location</th>\n",
              "      <th>quote_count</th>\n",
              "      <th>reply_count</th>\n",
              "      <th>retweet_count</th>\n",
              "      <th>tweet_url</th>\n",
              "      <th>user_id_str</th>\n",
              "      <th>username</th>\n",
              "    </tr>\n",
              "  </thead>\n",
              "  <tbody>\n",
              "    <tr>\n",
              "      <th>0</th>\n",
              "      <td>1913223976916320518</td>\n",
              "      <td>Fri Apr 18 13:51:42 +0000 2025</td>\n",
              "      <td>0</td>\n",
              "      <td>@mcitraningrum Hmmm tapi diskursus di X soal #...</td>\n",
              "      <td>1913228949846736920</td>\n",
              "      <td>NaN</td>\n",
              "      <td>mcitraningrum</td>\n",
              "      <td>in</td>\n",
              "      <td>NaN</td>\n",
              "      <td>0</td>\n",
              "      <td>0</td>\n",
              "      <td>0</td>\n",
              "      <td>https://x.com/alandakariza/status/191322894984...</td>\n",
              "      <td>12450932</td>\n",
              "      <td>alandakariza</td>\n",
              "    </tr>\n",
              "    <tr>\n",
              "      <th>1</th>\n",
              "      <td>1913228579216711916</td>\n",
              "      <td>Fri Apr 18 13:50:14 +0000 2025</td>\n",
              "      <td>0</td>\n",
              "      <td>harus ngumpulin sampe 50 jeti untuk #KaburAjaD...</td>\n",
              "      <td>1913228579216711916</td>\n",
              "      <td>NaN</td>\n",
              "      <td>NaN</td>\n",
              "      <td>in</td>\n",
              "      <td>NaN</td>\n",
              "      <td>0</td>\n",
              "      <td>0</td>\n",
              "      <td>0</td>\n",
              "      <td>https://x.com/waeuciss/status/1913228579216711916</td>\n",
              "      <td>1348761936268193793</td>\n",
              "      <td>waeuciss</td>\n",
              "    </tr>\n",
              "    <tr>\n",
              "      <th>2</th>\n",
              "      <td>1913227610827751792</td>\n",
              "      <td>Fri Apr 18 13:46:23 +0000 2025</td>\n",
              "      <td>1</td>\n",
              "      <td>#KaburAjaDulu versi Turki ️ Ini aktivisme #hum...</td>\n",
              "      <td>1913227610827751792</td>\n",
              "      <td>https://pbs.twimg.com/media/Go0mXfwaUAAH_AM.jpg</td>\n",
              "      <td>NaN</td>\n",
              "      <td>in</td>\n",
              "      <td>DKI Jakarta, Indonesia</td>\n",
              "      <td>0</td>\n",
              "      <td>0</td>\n",
              "      <td>0</td>\n",
              "      <td>https://x.com/ihik_3/status/1913227610827751792</td>\n",
              "      <td>3249419148</td>\n",
              "      <td>ihik_3</td>\n",
              "    </tr>\n",
              "    <tr>\n",
              "      <th>3</th>\n",
              "      <td>1913148914397745242</td>\n",
              "      <td>Fri Apr 18 13:34:46 +0000 2025</td>\n",
              "      <td>1</td>\n",
              "      <td>@GERWANIDYKE #KaburAjaDulu</td>\n",
              "      <td>1913224689868308656</td>\n",
              "      <td>NaN</td>\n",
              "      <td>GERWANIDYKE</td>\n",
              "      <td>qme</td>\n",
              "      <td>NaN</td>\n",
              "      <td>0</td>\n",
              "      <td>0</td>\n",
              "      <td>0</td>\n",
              "      <td>https://x.com/milehighami/status/1913224689868...</td>\n",
              "      <td>1730129754605649920</td>\n",
              "      <td>milehighami</td>\n",
              "    </tr>\n",
              "    <tr>\n",
              "      <th>4</th>\n",
              "      <td>1913224437723529526</td>\n",
              "      <td>Fri Apr 18 13:33:46 +0000 2025</td>\n",
              "      <td>0</td>\n",
              "      <td>Lhooo.. baru kemarin mulai #kaburajadulu</td>\n",
              "      <td>1913224437723529526</td>\n",
              "      <td>NaN</td>\n",
              "      <td>NaN</td>\n",
              "      <td>in</td>\n",
              "      <td>Yogyakarta, ID</td>\n",
              "      <td>0</td>\n",
              "      <td>0</td>\n",
              "      <td>0</td>\n",
              "      <td>https://x.com/kakakamri/status/191322443772352...</td>\n",
              "      <td>223602857</td>\n",
              "      <td>kakakamri</td>\n",
              "    </tr>\n",
              "  </tbody>\n",
              "</table>\n",
              "</div>"
            ],
            "text/plain": [
              "   conversation_id_str                      created_at  favorite_count  \\\n",
              "0  1913223976916320518  Fri Apr 18 13:51:42 +0000 2025               0   \n",
              "1  1913228579216711916  Fri Apr 18 13:50:14 +0000 2025               0   \n",
              "2  1913227610827751792  Fri Apr 18 13:46:23 +0000 2025               1   \n",
              "3  1913148914397745242  Fri Apr 18 13:34:46 +0000 2025               1   \n",
              "4  1913224437723529526  Fri Apr 18 13:33:46 +0000 2025               0   \n",
              "\n",
              "                                           full_text               id_str  \\\n",
              "0  @mcitraningrum Hmmm tapi diskursus di X soal #...  1913228949846736920   \n",
              "1  harus ngumpulin sampe 50 jeti untuk #KaburAjaD...  1913228579216711916   \n",
              "2  #KaburAjaDulu versi Turki ️ Ini aktivisme #hum...  1913227610827751792   \n",
              "3                         @GERWANIDYKE #KaburAjaDulu  1913224689868308656   \n",
              "4           Lhooo.. baru kemarin mulai #kaburajadulu  1913224437723529526   \n",
              "\n",
              "                                         image_url in_reply_to_screen_name  \\\n",
              "0                                              NaN           mcitraningrum   \n",
              "1                                              NaN                     NaN   \n",
              "2  https://pbs.twimg.com/media/Go0mXfwaUAAH_AM.jpg                     NaN   \n",
              "3                                              NaN             GERWANIDYKE   \n",
              "4                                              NaN                     NaN   \n",
              "\n",
              "  lang                location  quote_count  reply_count  retweet_count  \\\n",
              "0   in                     NaN            0            0              0   \n",
              "1   in                     NaN            0            0              0   \n",
              "2   in  DKI Jakarta, Indonesia            0            0              0   \n",
              "3  qme                     NaN            0            0              0   \n",
              "4   in          Yogyakarta, ID            0            0              0   \n",
              "\n",
              "                                           tweet_url          user_id_str  \\\n",
              "0  https://x.com/alandakariza/status/191322894984...             12450932   \n",
              "1  https://x.com/waeuciss/status/1913228579216711916  1348761936268193793   \n",
              "2    https://x.com/ihik_3/status/1913227610827751792           3249419148   \n",
              "3  https://x.com/milehighami/status/1913224689868...  1730129754605649920   \n",
              "4  https://x.com/kakakamri/status/191322443772352...            223602857   \n",
              "\n",
              "       username  \n",
              "0  alandakariza  \n",
              "1      waeuciss  \n",
              "2        ihik_3  \n",
              "3   milehighami  \n",
              "4     kakakamri  "
            ]
          },
          "execution_count": 11,
          "metadata": {},
          "output_type": "execute_result"
        }
      ],
      "source": [
        "import pandas as pd\n",
        "\n",
        "# Specify the path to your CSV file\n",
        "file_path = \"C:/Users/Erico/Documents/skripsi/analisis sentimen indoBERT/fix/versi_rapih/Notebooks/tweets-data/kaburajadulutesting.csv\"\n",
        "\n",
        "# Read the CSV file into a pandas DataFrame\n",
        "df = pd.read_csv(file_path, delimiter=\",\")\n",
        "\n",
        "# Display the DataFrame\n",
        "df.head()"
      ]
    },
    {
      "cell_type": "code",
      "execution_count": 12,
      "metadata": {
        "colab": {
          "base_uri": "https://localhost:8080/"
        },
        "id": "eRfDl54waHC4",
        "outputId": "cdb9b8be-5a5b-46f8-f4d5-c91294654693"
      },
      "outputs": [
        {
          "name": "stdout",
          "output_type": "stream",
          "text": [
            "Jumlah tweet dalam dataframe adalah 111.\n"
          ]
        }
      ],
      "source": [
        "# Cek jumlah data yang didapatkan\n",
        "\n",
        "num_tweets = len(df)\n",
        "print(f\"Jumlah tweet dalam dataframe adalah {num_tweets}.\")"
      ]
    }
  ],
  "metadata": {
    "accelerator": "GPU",
    "colab": {
      "gpuType": "T4",
      "provenance": []
    },
    "kernelspec": {
      "display_name": "base",
      "language": "python",
      "name": "python3"
    },
    "language_info": {
      "codemirror_mode": {
        "name": "ipython",
        "version": 3
      },
      "file_extension": ".py",
      "mimetype": "text/x-python",
      "name": "python",
      "nbconvert_exporter": "python",
      "pygments_lexer": "ipython3",
      "version": "3.12.7"
    }
  },
  "nbformat": 4,
  "nbformat_minor": 0
}
