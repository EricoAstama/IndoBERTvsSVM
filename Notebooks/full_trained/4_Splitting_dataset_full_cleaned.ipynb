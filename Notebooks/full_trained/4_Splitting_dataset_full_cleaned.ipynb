{
 "cells": [
  {
   "cell_type": "code",
   "execution_count": 1,
   "id": "fe377143",
   "metadata": {},
   "outputs": [
    {
     "name": "stdout",
     "output_type": "stream",
     "text": [
      "Jumlah data latih: 11833\n",
      "Jumlah data validasi: 1690\n",
      "Jumlah data uji: 3382\n"
     ]
    }
   ],
   "source": [
    "import pandas as pd\n",
    "from sklearn.model_selection import train_test_split\n",
    "\n",
    "# Memuat dataset\n",
    "tweet_labeled = pd.read_csv('../data/processed/full_cleaned_labeled.csv')\n",
    "\n",
    "# Memisahkan data latih (70%) dan sisanya (40%)\n",
    "train_data, temp_data = train_test_split(tweet_labeled, test_size=0.3, random_state=42)\n",
    "\n",
    "# Memisahkan data validasi (10%) dan data uji (20%) dari sisa data\n",
    "val_data, test_data = train_test_split(temp_data, test_size=2/3, random_state=42)\n",
    "\n",
    "# Menyimpan masing-masing dataset ke file CSV\n",
    "train_data.to_csv('../data/split_data_full/train_dataset.csv', index=False)\n",
    "val_data.to_csv('../data/split_data_full/val_dataset.csv', index=False)\n",
    "test_data.to_csv('../data/split_data_full/test_dataset.csv', index=False)\n",
    "\n",
    "# Menampilkan jumlah data masing-masing\n",
    "print(f\"Jumlah data latih: {len(train_data)}\")\n",
    "print(f\"Jumlah data validasi: {len(val_data)}\")\n",
    "print(f\"Jumlah data uji: {len(test_data)}\")\n"
   ]
  },
  {
   "cell_type": "code",
   "execution_count": 2,
   "id": "ef0d1ad2",
   "metadata": {},
   "outputs": [
    {
     "name": "stdout",
     "output_type": "stream",
     "text": [
      "label_num\n",
      "2    6843\n",
      "1    4029\n",
      "0     961\n",
      "Name: count, dtype: int64\n"
     ]
    }
   ],
   "source": [
    "# Mengecek jumlah label 0, 1, dan 2\n",
    "label_counts =train_data['label_num'].value_counts()\n",
    "\n",
    "# Menampilkan hasil\n",
    "print(label_counts)"
   ]
  }
 ],
 "metadata": {
  "kernelspec": {
   "display_name": "base",
   "language": "python",
   "name": "python3"
  },
  "language_info": {
   "codemirror_mode": {
    "name": "ipython",
    "version": 3
   },
   "file_extension": ".py",
   "mimetype": "text/x-python",
   "name": "python",
   "nbconvert_exporter": "python",
   "pygments_lexer": "ipython3",
   "version": "3.12.7"
  }
 },
 "nbformat": 4,
 "nbformat_minor": 5
}
