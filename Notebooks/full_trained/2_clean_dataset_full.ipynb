{
 "cells": [
  {
   "cell_type": "markdown",
   "id": "f8f4a452",
   "metadata": {},
   "source": [
    "# **Import Data**"
   ]
  },
  {
   "cell_type": "code",
   "execution_count": 3,
   "id": "2a0fe8a6",
   "metadata": {},
   "outputs": [
    {
     "name": "stderr",
     "output_type": "stream",
     "text": [
      "[nltk_data] Downloading package punkt to\n",
      "[nltk_data]     C:\\Users\\Erico\\AppData\\Roaming\\nltk_data...\n",
      "[nltk_data]   Package punkt is already up-to-date!\n",
      "[nltk_data] Downloading package stopwords to\n",
      "[nltk_data]     C:\\Users\\Erico\\AppData\\Roaming\\nltk_data...\n",
      "[nltk_data]   Package stopwords is already up-to-date!\n"
     ]
    },
    {
     "name": "stdout",
     "output_type": "stream",
     "text": [
      "Requirement already satisfied: Sastrawi in c:\\users\\erico\\anaconda3\\lib\\site-packages (1.0.1)\n",
      "Note: you may need to restart the kernel to use updated packages.\n"
     ]
    }
   ],
   "source": [
    "import pandas as pd\n",
    "import numpy as np\n",
    "from PIL import Image\n",
    "from wordcloud import WordCloud, STOPWORDS, ImageColorGenerator\n",
    "import matplotlib.pyplot as plt\n",
    "from collections import Counter\n",
    "import seaborn as sns\n",
    "import matplotlib.pyplot as plt\n",
    "import os\n",
    "import re\n",
    "import json\n",
    "import string\n",
    "import nltk\n",
    "nltk.download('punkt')\n",
    "nltk.download('stopwords')\n",
    "from nltk.corpus import stopwords\n",
    "from nltk.tokenize import word_tokenize\n",
    "from nltk.stem import WordNetLemmatizer\n",
    "%pip install Sastrawi\n",
    "from Sastrawi.Stemmer.StemmerFactory import StemmerFactory\n",
    "from Sastrawi.StopWordRemover.StopWordRemoverFactory import StopWordRemoverFactory\n",
    "from nltk.stem import PorterStemmer\n",
    "from nltk.stem.snowball import SnowballStemmer"
   ]
  },
  {
   "cell_type": "code",
   "execution_count": 4,
   "id": "aa04c001",
   "metadata": {},
   "outputs": [
    {
     "data": {
      "application/vnd.microsoft.datawrangler.viewer.v0+json": {
       "columns": [
        {
         "name": "index",
         "rawType": "int64",
         "type": "integer"
        },
        {
         "name": "conversation_id_str",
         "rawType": "int64",
         "type": "integer"
        },
        {
         "name": "created_at",
         "rawType": "object",
         "type": "string"
        },
        {
         "name": "favorite_count",
         "rawType": "int64",
         "type": "integer"
        },
        {
         "name": "full_text",
         "rawType": "object",
         "type": "string"
        },
        {
         "name": "id_str",
         "rawType": "int64",
         "type": "integer"
        },
        {
         "name": "image_url",
         "rawType": "object",
         "type": "unknown"
        },
        {
         "name": "in_reply_to_screen_name",
         "rawType": "object",
         "type": "unknown"
        },
        {
         "name": "lang",
         "rawType": "object",
         "type": "string"
        },
        {
         "name": "location",
         "rawType": "object",
         "type": "unknown"
        },
        {
         "name": "quote_count",
         "rawType": "int64",
         "type": "integer"
        },
        {
         "name": "reply_count",
         "rawType": "int64",
         "type": "integer"
        },
        {
         "name": "retweet_count",
         "rawType": "int64",
         "type": "integer"
        },
        {
         "name": "tweet_url",
         "rawType": "object",
         "type": "string"
        },
        {
         "name": "user_id_str",
         "rawType": "int64",
         "type": "integer"
        },
        {
         "name": "username",
         "rawType": "object",
         "type": "string"
        }
       ],
       "conversionMethod": "pd.DataFrame",
       "ref": "5530c03c-c3b0-4338-ac72-3a3c368a3aeb",
       "rows": [
        [
         "0",
         "1897055555249897947",
         "Tue Mar 04 23:37:53 +0000 2025",
         "0",
         "@rizalakbarm_ ak jg dukung km #kaburajadulu difasilitasi Pak Kim Jong Un bye zal",
         "1897069015312531763",
         null,
         "rizalakbarm_",
         "in",
         "🤍 Shania Gracia",
         "0",
         "1",
         "0",
         "https://x.com/SCrisdiv/status/1897069015312531763",
         "617091843",
         "SCrisdiv"
        ],
        [
         "1",
         "1897065671642714552",
         "Tue Mar 04 23:25:04 +0000 2025",
         "0",
         "Just met Abang Gojek yang well prepared #KaburAjaDulu ke Jepang lagi persiapan tes N2 tahun ini. Arkhhhh this kind of stories just made my day ",
         "1897065789964104063",
         null,
         "DaraJunico",
         "in",
         "Indonesia",
         "0",
         "0",
         "0",
         "https://x.com/DaraJunico/status/1897065789964104063",
         "2219255499",
         "DaraJunico"
        ],
        [
         "2",
         "1897061200674054267",
         "Tue Mar 04 23:06:50 +0000 2025",
         "2",
         "lagi santai kawan #VIDEO #videoviral #KaburAjaDulu #lariduluaja https://t.co/woxb7vuNab",
         "1897061200674054267",
         "https://pbs.twimg.com/ext_tw_video_thumb/1897060641698897922/pu/img/6Y9Zgxd8Z52Zz29e.jpg",
         null,
         "in",
         null,
         "0",
         "0",
         "1",
         "https://x.com/Aritogel_resmi/status/1897061200674054267",
         "1794911231209570304",
         "Aritogel_resmi"
        ],
        [
         "3",
         "1897060699253493879",
         "Tue Mar 04 23:04:51 +0000 2025",
         "1",
         "klo tujuan ainana jd top idol apa tujuan gw #kaburajadulu ke jepang ya biar ada semangat hidup dikit",
         "1897060699253493879",
         null,
         null,
         "in",
         null,
         "0",
         "1",
         "0",
         "https://x.com/kakfaruzan/status/1897060699253493879",
         "1583780018886365184",
         "kakfaruzan"
        ],
        [
         "4",
         "1896741626422456405",
         "Tue Mar 04 23:01:32 +0000 2025",
         "0",
         "@susipudjiastuti @prabowo @ListyoSigitP Percuma bu info mereka....diotak mereka hanya program MBG dan DANANTARA aja ....pokoknya sudah apatis sama pemerintahan skrg yg berkelanjutan ini. #IndonesiaGelap #KaburAjaDulu #IndonesiaLenyap",
         "1897059867036447150",
         null,
         "susipudjiastuti",
         "in",
         "Jakarta Capital Region, Indone",
         "0",
         "0",
         "0",
         "https://x.com/DonnyBonardo/status/1897059867036447150",
         "2474041962",
         "DonnyBonardo"
        ]
       ],
       "shape": {
        "columns": 15,
        "rows": 5
       }
      },
      "text/html": [
       "<div>\n",
       "<style scoped>\n",
       "    .dataframe tbody tr th:only-of-type {\n",
       "        vertical-align: middle;\n",
       "    }\n",
       "\n",
       "    .dataframe tbody tr th {\n",
       "        vertical-align: top;\n",
       "    }\n",
       "\n",
       "    .dataframe thead th {\n",
       "        text-align: right;\n",
       "    }\n",
       "</style>\n",
       "<table border=\"1\" class=\"dataframe\">\n",
       "  <thead>\n",
       "    <tr style=\"text-align: right;\">\n",
       "      <th></th>\n",
       "      <th>conversation_id_str</th>\n",
       "      <th>created_at</th>\n",
       "      <th>favorite_count</th>\n",
       "      <th>full_text</th>\n",
       "      <th>id_str</th>\n",
       "      <th>image_url</th>\n",
       "      <th>in_reply_to_screen_name</th>\n",
       "      <th>lang</th>\n",
       "      <th>location</th>\n",
       "      <th>quote_count</th>\n",
       "      <th>reply_count</th>\n",
       "      <th>retweet_count</th>\n",
       "      <th>tweet_url</th>\n",
       "      <th>user_id_str</th>\n",
       "      <th>username</th>\n",
       "    </tr>\n",
       "  </thead>\n",
       "  <tbody>\n",
       "    <tr>\n",
       "      <th>0</th>\n",
       "      <td>1897055555249897947</td>\n",
       "      <td>Tue Mar 04 23:37:53 +0000 2025</td>\n",
       "      <td>0</td>\n",
       "      <td>@rizalakbarm_ ak jg dukung km #kaburajadulu di...</td>\n",
       "      <td>1897069015312531763</td>\n",
       "      <td>NaN</td>\n",
       "      <td>rizalakbarm_</td>\n",
       "      <td>in</td>\n",
       "      <td>🤍 Shania Gracia</td>\n",
       "      <td>0</td>\n",
       "      <td>1</td>\n",
       "      <td>0</td>\n",
       "      <td>https://x.com/SCrisdiv/status/1897069015312531763</td>\n",
       "      <td>617091843</td>\n",
       "      <td>SCrisdiv</td>\n",
       "    </tr>\n",
       "    <tr>\n",
       "      <th>1</th>\n",
       "      <td>1897065671642714552</td>\n",
       "      <td>Tue Mar 04 23:25:04 +0000 2025</td>\n",
       "      <td>0</td>\n",
       "      <td>Just met Abang Gojek yang well prepared #Kabur...</td>\n",
       "      <td>1897065789964104063</td>\n",
       "      <td>NaN</td>\n",
       "      <td>DaraJunico</td>\n",
       "      <td>in</td>\n",
       "      <td>Indonesia</td>\n",
       "      <td>0</td>\n",
       "      <td>0</td>\n",
       "      <td>0</td>\n",
       "      <td>https://x.com/DaraJunico/status/18970657899641...</td>\n",
       "      <td>2219255499</td>\n",
       "      <td>DaraJunico</td>\n",
       "    </tr>\n",
       "    <tr>\n",
       "      <th>2</th>\n",
       "      <td>1897061200674054267</td>\n",
       "      <td>Tue Mar 04 23:06:50 +0000 2025</td>\n",
       "      <td>2</td>\n",
       "      <td>lagi santai kawan #VIDEO #videoviral #KaburAja...</td>\n",
       "      <td>1897061200674054267</td>\n",
       "      <td>https://pbs.twimg.com/ext_tw_video_thumb/18970...</td>\n",
       "      <td>NaN</td>\n",
       "      <td>in</td>\n",
       "      <td>NaN</td>\n",
       "      <td>0</td>\n",
       "      <td>0</td>\n",
       "      <td>1</td>\n",
       "      <td>https://x.com/Aritogel_resmi/status/1897061200...</td>\n",
       "      <td>1794911231209570304</td>\n",
       "      <td>Aritogel_resmi</td>\n",
       "    </tr>\n",
       "    <tr>\n",
       "      <th>3</th>\n",
       "      <td>1897060699253493879</td>\n",
       "      <td>Tue Mar 04 23:04:51 +0000 2025</td>\n",
       "      <td>1</td>\n",
       "      <td>klo tujuan ainana jd top idol apa tujuan gw #k...</td>\n",
       "      <td>1897060699253493879</td>\n",
       "      <td>NaN</td>\n",
       "      <td>NaN</td>\n",
       "      <td>in</td>\n",
       "      <td>NaN</td>\n",
       "      <td>0</td>\n",
       "      <td>1</td>\n",
       "      <td>0</td>\n",
       "      <td>https://x.com/kakfaruzan/status/18970606992534...</td>\n",
       "      <td>1583780018886365184</td>\n",
       "      <td>kakfaruzan</td>\n",
       "    </tr>\n",
       "    <tr>\n",
       "      <th>4</th>\n",
       "      <td>1896741626422456405</td>\n",
       "      <td>Tue Mar 04 23:01:32 +0000 2025</td>\n",
       "      <td>0</td>\n",
       "      <td>@susipudjiastuti @prabowo @ListyoSigitP Percum...</td>\n",
       "      <td>1897059867036447150</td>\n",
       "      <td>NaN</td>\n",
       "      <td>susipudjiastuti</td>\n",
       "      <td>in</td>\n",
       "      <td>Jakarta Capital Region, Indone</td>\n",
       "      <td>0</td>\n",
       "      <td>0</td>\n",
       "      <td>0</td>\n",
       "      <td>https://x.com/DonnyBonardo/status/189705986703...</td>\n",
       "      <td>2474041962</td>\n",
       "      <td>DonnyBonardo</td>\n",
       "    </tr>\n",
       "  </tbody>\n",
       "</table>\n",
       "</div>"
      ],
      "text/plain": [
       "   conversation_id_str                      created_at  favorite_count  \\\n",
       "0  1897055555249897947  Tue Mar 04 23:37:53 +0000 2025               0   \n",
       "1  1897065671642714552  Tue Mar 04 23:25:04 +0000 2025               0   \n",
       "2  1897061200674054267  Tue Mar 04 23:06:50 +0000 2025               2   \n",
       "3  1897060699253493879  Tue Mar 04 23:04:51 +0000 2025               1   \n",
       "4  1896741626422456405  Tue Mar 04 23:01:32 +0000 2025               0   \n",
       "\n",
       "                                           full_text               id_str  \\\n",
       "0  @rizalakbarm_ ak jg dukung km #kaburajadulu di...  1897069015312531763   \n",
       "1  Just met Abang Gojek yang well prepared #Kabur...  1897065789964104063   \n",
       "2  lagi santai kawan #VIDEO #videoviral #KaburAja...  1897061200674054267   \n",
       "3  klo tujuan ainana jd top idol apa tujuan gw #k...  1897060699253493879   \n",
       "4  @susipudjiastuti @prabowo @ListyoSigitP Percum...  1897059867036447150   \n",
       "\n",
       "                                           image_url in_reply_to_screen_name  \\\n",
       "0                                                NaN            rizalakbarm_   \n",
       "1                                                NaN              DaraJunico   \n",
       "2  https://pbs.twimg.com/ext_tw_video_thumb/18970...                     NaN   \n",
       "3                                                NaN                     NaN   \n",
       "4                                                NaN         susipudjiastuti   \n",
       "\n",
       "  lang                        location  quote_count  reply_count  \\\n",
       "0   in                 🤍 Shania Gracia            0            1   \n",
       "1   in                       Indonesia            0            0   \n",
       "2   in                             NaN            0            0   \n",
       "3   in                             NaN            0            1   \n",
       "4   in  Jakarta Capital Region, Indone            0            0   \n",
       "\n",
       "   retweet_count                                          tweet_url  \\\n",
       "0              0  https://x.com/SCrisdiv/status/1897069015312531763   \n",
       "1              0  https://x.com/DaraJunico/status/18970657899641...   \n",
       "2              1  https://x.com/Aritogel_resmi/status/1897061200...   \n",
       "3              0  https://x.com/kakfaruzan/status/18970606992534...   \n",
       "4              0  https://x.com/DonnyBonardo/status/189705986703...   \n",
       "\n",
       "           user_id_str        username  \n",
       "0            617091843        SCrisdiv  \n",
       "1           2219255499      DaraJunico  \n",
       "2  1794911231209570304  Aritogel_resmi  \n",
       "3  1583780018886365184      kakfaruzan  \n",
       "4           2474041962    DonnyBonardo  "
      ]
     },
     "execution_count": 4,
     "metadata": {},
     "output_type": "execute_result"
    }
   ],
   "source": [
    "# Membaca file CSV\n",
    "df = pd.read_csv('../data/kaburajadulu_raw.csv')\n",
    "df.head()"
   ]
  },
  {
   "cell_type": "markdown",
   "id": "e492aee3",
   "metadata": {},
   "source": [
    "# **Pengurutan Data**"
   ]
  },
  {
   "cell_type": "code",
   "execution_count": null,
   "id": "c2453f00",
   "metadata": {},
   "outputs": [
    {
     "name": "stdout",
     "output_type": "stream",
     "text": [
      "                     created_at\n",
      "20314 2024-07-28 11:05:44+00:00\n",
      "20313 2024-07-28 12:51:57+00:00\n",
      "20312 2024-07-29 08:07:32+00:00\n",
      "20311 2024-07-29 10:55:52+00:00\n",
      "20310 2024-07-29 12:01:20+00:00\n",
      "                     created_at\n",
      "20319 2025-04-06 17:20:00+00:00\n",
      "20318 2025-04-06 17:29:24+00:00\n",
      "20317 2025-04-06 18:01:56+00:00\n",
      "20316 2025-04-06 18:11:31+00:00\n",
      "20315 2025-04-06 18:52:10+00:00\n",
      "✅ Data berhasil disimpan ke ../data/kaburajadulu_sorted.csv\n"
     ]
    }
   ],
   "source": [
    "# PROSES MENGURUTKAN DATA BERDASARKAN TANGGAL\n",
    "\n",
    "# Konversi kolom \"created_at\" ke tipe datetime\n",
    "df[\"created_at\"] = pd.to_datetime(df[\"created_at\"], format=\"%a %b %d %H:%M:%S %z %Y\")\n",
    "\n",
    "# Urutkan data dari yang paling lama ke yang terbaru\n",
    "df_sorted = df.sort_values(by=\"created_at\", ascending=True)\n",
    "\n",
    "# Simpan kembali data yang sudah terurut\n",
    "df_sorted.to_csv(\"kaburajadulu_sorted.csv\", index=False)\n",
    "\n",
    "# Cek hasil\n",
    "print(df_sorted[[\"created_at\"]].head())  # 5 data teratas\n",
    "print(df_sorted[[\"created_at\"]].tail())  # 5 data terbawah\n",
    "\n",
    "# Simpan file yang sudah diurutkan ke folder data\n",
    "output_path = \"../data/kaburajadulu_sorted.csv\"\n",
    "df_sorted.to_csv(output_path, index=False)\n",
    "print(f\"✅ Data berhasil disimpan ke {output_path}\")\n"
   ]
  },
  {
   "cell_type": "code",
   "execution_count": 6,
   "id": "a17e2311",
   "metadata": {},
   "outputs": [
    {
     "data": {
      "application/vnd.microsoft.datawrangler.viewer.v0+json": {
       "columns": [
        {
         "name": "index",
         "rawType": "int64",
         "type": "integer"
        },
        {
         "name": "full_text",
         "rawType": "object",
         "type": "string"
        }
       ],
       "conversionMethod": "pd.DataFrame",
       "ref": "fc05309d-2483-438d-82c5-3ec573fd932a",
       "rows": [
        [
         "0",
         "@IqbalRa17664055 @rwp1byte aku nyusul kerja aja mau #KaburAjaDulu bawa istri wkwkwk"
        ],
        [
         "1",
         "#KaburAjaDulu bole juga ni hashtag"
        ],
        [
         "2",
         "#KaburAjaDulu"
        ],
        [
         "3",
         " Ehhh ini Mas Adith #KaburAjaDulu ya? Mohon maaf ya Siapa ya pemilik asli dari hashtag di atas? Gw cuma ikut ngeramein aja btw "
        ],
        [
         "4",
         "Dengan ini saya resmikan pemilik hashtag #KaburAjaDulu adalah mz Adith! Sah ya gaes sah!"
        ]
       ],
       "shape": {
        "columns": 1,
        "rows": 5
       }
      },
      "text/html": [
       "<div>\n",
       "<style scoped>\n",
       "    .dataframe tbody tr th:only-of-type {\n",
       "        vertical-align: middle;\n",
       "    }\n",
       "\n",
       "    .dataframe tbody tr th {\n",
       "        vertical-align: top;\n",
       "    }\n",
       "\n",
       "    .dataframe thead th {\n",
       "        text-align: right;\n",
       "    }\n",
       "</style>\n",
       "<table border=\"1\" class=\"dataframe\">\n",
       "  <thead>\n",
       "    <tr style=\"text-align: right;\">\n",
       "      <th></th>\n",
       "      <th>full_text</th>\n",
       "    </tr>\n",
       "  </thead>\n",
       "  <tbody>\n",
       "    <tr>\n",
       "      <th>0</th>\n",
       "      <td>@IqbalRa17664055 @rwp1byte aku nyusul kerja aj...</td>\n",
       "    </tr>\n",
       "    <tr>\n",
       "      <th>1</th>\n",
       "      <td>#KaburAjaDulu bole juga ni hashtag</td>\n",
       "    </tr>\n",
       "    <tr>\n",
       "      <th>2</th>\n",
       "      <td>#KaburAjaDulu</td>\n",
       "    </tr>\n",
       "    <tr>\n",
       "      <th>3</th>\n",
       "      <td>Ehhh ini Mas Adith #KaburAjaDulu ya? Mohon ma...</td>\n",
       "    </tr>\n",
       "    <tr>\n",
       "      <th>4</th>\n",
       "      <td>Dengan ini saya resmikan pemilik hashtag #Kabu...</td>\n",
       "    </tr>\n",
       "  </tbody>\n",
       "</table>\n",
       "</div>"
      ],
      "text/plain": [
       "                                           full_text\n",
       "0  @IqbalRa17664055 @rwp1byte aku nyusul kerja aj...\n",
       "1                 #KaburAjaDulu bole juga ni hashtag\n",
       "2                                      #KaburAjaDulu\n",
       "3   Ehhh ini Mas Adith #KaburAjaDulu ya? Mohon ma...\n",
       "4  Dengan ini saya resmikan pemilik hashtag #Kabu..."
      ]
     },
     "execution_count": 6,
     "metadata": {},
     "output_type": "execute_result"
    }
   ],
   "source": [
    "# PROSES MENGGANTI DF MENJADI DATASET YANG SUDAH DIURUTKAN\n",
    "df = pd.read_csv(output_path)\n",
    "\n",
    "# Ambil hanya kolom 'full_text'\n",
    "df = df[['full_text']]\n",
    "df.head()"
   ]
  },
  {
   "cell_type": "code",
   "execution_count": 7,
   "id": "6b97c0d1",
   "metadata": {},
   "outputs": [
    {
     "name": "stdout",
     "output_type": "stream",
     "text": [
      "<class 'pandas.core.frame.DataFrame'>\n",
      "RangeIndex: 20954 entries, 0 to 20953\n",
      "Data columns (total 1 columns):\n",
      " #   Column     Non-Null Count  Dtype \n",
      "---  ------     --------------  ----- \n",
      " 0   full_text  20954 non-null  object\n",
      "dtypes: object(1)\n",
      "memory usage: 163.8+ KB\n"
     ]
    }
   ],
   "source": [
    "df.info()"
   ]
  },
  {
   "cell_type": "code",
   "execution_count": 8,
   "id": "30781eb2",
   "metadata": {},
   "outputs": [
    {
     "name": "stdout",
     "output_type": "stream",
     "text": [
      "<class 'pandas.core.frame.DataFrame'>\n",
      "Index: 19496 entries, 0 to 20953\n",
      "Data columns (total 1 columns):\n",
      " #   Column     Non-Null Count  Dtype \n",
      "---  ------     --------------  ----- \n",
      " 0   full_text  19496 non-null  object\n",
      "dtypes: object(1)\n",
      "memory usage: 304.6+ KB\n"
     ]
    }
   ],
   "source": [
    "# PROSES UNTUK MENGHAPUS DATA YANG DUPLIKAT\n",
    "df.drop_duplicates(subset='full_text', keep = 'first', inplace=True)\n",
    "df.info()"
   ]
  },
  {
   "cell_type": "markdown",
   "id": "6948763a",
   "metadata": {},
   "source": [
    "# **Visualisasi Data sebelum di process**"
   ]
  },
  {
   "cell_type": "code",
   "execution_count": 9,
   "id": "2c36764d",
   "metadata": {},
   "outputs": [
    {
     "data": {
      "image/png": "[encoded data removed]",
      "text/plain": [
       "<Figure size 1200x600 with 1 Axes>"
      ]
     },
     "metadata": {},
     "output_type": "display_data"
    }
   ],
   "source": [
    "#memvisualisasikan frekuensi kata teratas dalam teks dari dataframe\n",
    "#menampilkan 10 kata yang paling sering muncul beserta frekuensinya dalam bar chart\n",
    "\n",
    "text = \" \".join(df['full_text'])\n",
    "\n",
    "tokens = text.split()\n",
    "word_counts = Counter(tokens)\n",
    "\n",
    "top_words = word_counts.most_common(10)\n",
    "word, count = zip(*top_words)\n",
    "colors = plt.cm.tab10(range(len(top_words)))\n",
    "\n",
    "plt.figure(figsize=(12, 6))\n",
    "bars = plt.bar(word, count, color=colors)\n",
    "plt.xlabel('Kata-Kata Sering Muncul', fontsize=12, fontweight='bold')\n",
    "plt.ylabel('Jumlah Kata', fontsize=12, fontweight='bold')\n",
    "plt.title('Frekuensi Kata', fontsize=16, fontweight='bold')\n",
    "plt.xticks(rotation=45)\n",
    "\n",
    "# Menambahkan angka rata tengah di atas setiap bar\n",
    "for bar, num in zip(bars, count):\n",
    "    plt.text(bar.get_x() + bar.get_width() / 2 - 0.1, bar.get_height() + 1, str(num), fontsize=12, color='black', ha='center')\n",
    "\n",
    "plt.show()\n"
   ]
  },
  {
   "cell_type": "markdown",
   "id": "4a785b4e",
   "metadata": {},
   "source": [
    "# **Preprocessing Data**"
   ]
  },
  {
   "cell_type": "markdown",
   "id": "89ff337f",
   "metadata": {},
   "source": [
    "## _**Cleaning data**_"
   ]
  },
  {
   "cell_type": "code",
   "execution_count": null,
   "id": "d27f6d0b",
   "metadata": {},
   "outputs": [
    {
     "data": {
      "application/vnd.microsoft.datawrangler.viewer.v0+json": {
       "columns": [
        {
         "name": "index",
         "rawType": "int64",
         "type": "integer"
        },
        {
         "name": "full_text",
         "rawType": "object",
         "type": "string"
        },
        {
         "name": "cleaning",
         "rawType": "object",
         "type": "string"
        }
       ],
       "conversionMethod": "pd.DataFrame",
       "ref": "15c5379e-fd91-42d2-a308-d3e326a586dd",
       "rows": [
        [
         "0",
         "@IqbalRa17664055 @rwp1byte aku nyusul kerja aja mau #KaburAjaDulu bawa istri wkwkwk",
         "aku nyusul kerja aja mau KaburAjaDulu bawa istri wkwkwk"
        ],
        [
         "1",
         "#KaburAjaDulu bole juga ni hashtag",
         "KaburAjaDulu bole juga ni hashtag"
        ],
        [
         "2",
         "#KaburAjaDulu",
         "KaburAjaDulu"
        ],
        [
         "3",
         " Ehhh ini Mas Adith #KaburAjaDulu ya? Mohon maaf ya Siapa ya pemilik asli dari hashtag di atas? Gw cuma ikut ngeramein aja btw ",
         "Eh ini Mas Adith KaburAjaDulu ya Mohon maaf ya Siapa ya pemilik asli dari hashtag di atas Gw cuma ikut ngeramein aja btw"
        ],
        [
         "4",
         "Dengan ini saya resmikan pemilik hashtag #KaburAjaDulu adalah mz Adith! Sah ya gaes sah!",
         "Dengan ini saya resmikan pemilik hashtag KaburAjaDulu adalah mz Adith Sah ya gaes sah"
        ]
       ],
       "shape": {
        "columns": 2,
        "rows": 5
       }
      },
      "text/html": [
       "<div>\n",
       "<style scoped>\n",
       "    .dataframe tbody tr th:only-of-type {\n",
       "        vertical-align: middle;\n",
       "    }\n",
       "\n",
       "    .dataframe tbody tr th {\n",
       "        vertical-align: top;\n",
       "    }\n",
       "\n",
       "    .dataframe thead th {\n",
       "        text-align: right;\n",
       "    }\n",
       "</style>\n",
       "<table border=\"1\" class=\"dataframe\">\n",
       "  <thead>\n",
       "    <tr style=\"text-align: right;\">\n",
       "      <th></th>\n",
       "      <th>full_text</th>\n",
       "      <th>cleaning</th>\n",
       "    </tr>\n",
       "  </thead>\n",
       "  <tbody>\n",
       "    <tr>\n",
       "      <th>0</th>\n",
       "      <td>@IqbalRa17664055 @rwp1byte aku nyusul kerja aj...</td>\n",
       "      <td>aku nyusul kerja aja mau KaburAjaDulu bawa ist...</td>\n",
       "    </tr>\n",
       "    <tr>\n",
       "      <th>1</th>\n",
       "      <td>#KaburAjaDulu bole juga ni hashtag</td>\n",
       "      <td>KaburAjaDulu bole juga ni hashtag</td>\n",
       "    </tr>\n",
       "    <tr>\n",
       "      <th>2</th>\n",
       "      <td>#KaburAjaDulu</td>\n",
       "      <td>KaburAjaDulu</td>\n",
       "    </tr>\n",
       "    <tr>\n",
       "      <th>3</th>\n",
       "      <td>Ehhh ini Mas Adith #KaburAjaDulu ya? Mohon ma...</td>\n",
       "      <td>Eh ini Mas Adith KaburAjaDulu ya Mohon maaf ya...</td>\n",
       "    </tr>\n",
       "    <tr>\n",
       "      <th>4</th>\n",
       "      <td>Dengan ini saya resmikan pemilik hashtag #Kabu...</td>\n",
       "      <td>Dengan ini saya resmikan pemilik hashtag Kabur...</td>\n",
       "    </tr>\n",
       "  </tbody>\n",
       "</table>\n",
       "</div>"
      ],
      "text/plain": [
       "                                           full_text  \\\n",
       "0  @IqbalRa17664055 @rwp1byte aku nyusul kerja aj...   \n",
       "1                 #KaburAjaDulu bole juga ni hashtag   \n",
       "2                                      #KaburAjaDulu   \n",
       "3   Ehhh ini Mas Adith #KaburAjaDulu ya? Mohon ma...   \n",
       "4  Dengan ini saya resmikan pemilik hashtag #Kabu...   \n",
       "\n",
       "                                            cleaning  \n",
       "0  aku nyusul kerja aja mau KaburAjaDulu bawa ist...  \n",
       "1                  KaburAjaDulu bole juga ni hashtag  \n",
       "2                                       KaburAjaDulu  \n",
       "3  Eh ini Mas Adith KaburAjaDulu ya Mohon maaf ya...  \n",
       "4  Dengan ini saya resmikan pemilik hashtag Kabur...  "
      ]
     },
     "execution_count": 10,
     "metadata": {},
     "output_type": "execute_result"
    }
   ],
   "source": [
    "# Tujuan: Membersihkan teks tweet dari hal-hal yang tidak relevan seperti emoji, emotikon, angka, simbol, mention, link, enter, dan spasi berlebihan\n",
    "\n",
    "# Menghapus Emoji dan Bendera\n",
    "def remove_emoji(text):\n",
    "    if text is not None and isinstance(text, str):\n",
    "        emoji_pattern = re.compile(\"[\" \n",
    "            u\"\\U0001F600-\\U0001F64F\"  # emoticons\n",
    "            u\"\\U0001F300-\\U0001F5FF\"  # symbols & pictographs\n",
    "            u\"\\U0001F680-\\U0001F6FF\"  # transport & map symbols\n",
    "            u\"\\U0001F700-\\U0001F77F\"  # alchemical symbols\n",
    "            u\"\\U0001F780-\\U0001F7FF\"  # Geometric Shapes Extended\n",
    "            u\"\\U0001F800-\\U0001F8FF\"  # Supplemental Arrows-C\n",
    "            u\"\\U0001F900-\\U0001F9FF\"  # Supplemental Symbols and Pictographs\n",
    "            u\"\\U0001FA00-\\U0001FA6F\"  # Chess Symbols\n",
    "            u\"\\U0001FA70-\\U0001FAFF\"  # Symbols and Pictographs Extended-A\n",
    "            u\"\\U00002702-\\U000027B0\"  # Dingbats\n",
    "            u\"\\U000024C2-\\U0001F251\"  # Enclosed characters\n",
    "            u\"\\U0001F1E0-\\U0001F1FF\"  # Regional indicator symbol (bendera)\n",
    "            \"]+\", flags=re.UNICODE)\n",
    "        return emoji_pattern.sub(r'', text)\n",
    "    return text\n",
    "\n",
    "# Menghapus Emotikon berbasis karakter seperti :) :( :v\n",
    "def remove_emoticon(text):\n",
    "    if text is not None and isinstance(text, str):\n",
    "        emoticon_pattern = r'[:;=8xX][-^o*]?[)(DPpOo3|/\\\\]'\n",
    "        return re.sub(emoticon_pattern, '', text)\n",
    "    return text\n",
    "\n",
    "# Menghapus Username (mention)\n",
    "def remove_username(text):\n",
    "    return re.sub(r'@\\w+', '', text)\n",
    "\n",
    "# Menghapus URL atau Link\n",
    "def remove_links(text):\n",
    "    return re.sub(r'http\\S+|www\\S+|https\\S+', '', text, flags=re.MULTILINE)\n",
    "\n",
    "# Menghapus Simbol selain huruf dan angka\n",
    "def remove_symbols(text):\n",
    "    if text is not None and isinstance(text, str):\n",
    "        return re.sub(r'[^a-zA-Z0-9\\s]', '', text)\n",
    "    return text\n",
    "\n",
    "# Menghapus Angka\n",
    "def remove_numbers(text):\n",
    "    return re.sub(r'\\d+', '', text)\n",
    "\n",
    "# Menghapus kata berulang (misal: \"aaaaaa\" jadi \"a\", \"haaaallo\" jadi \"halo\")\n",
    "def remove_repeated_chars(text):\n",
    "    return re.sub(r'(.)\\1{2,}', r'\\1', text)\n",
    "\n",
    "# Mengubah newline atau enter (\\n) menjadi spasi\n",
    "def remove_newline(text):\n",
    "    return text.replace('\\n', ' ').replace('\\r', ' ')\n",
    "\n",
    "# Menghapus spasi berlebihan\n",
    "def remove_extra_whitespace(text):\n",
    "    return re.sub(r'\\s+', ' ', text).strip()\n",
    "\n",
    "# Gabungkan semua fungsi jadi satu pipeline\n",
    "def clean_text(text):\n",
    "    text = remove_username(text)\n",
    "    text = remove_links(text)\n",
    "    text = remove_emoji(text)\n",
    "    text = remove_emoticon(text)\n",
    "    text = remove_symbols(text)\n",
    "    text = remove_numbers(text)\n",
    "    text = remove_repeated_chars(text)\n",
    "    text = remove_newline(text)\n",
    "    text = remove_extra_whitespace(text)\n",
    "    return text\n",
    "\n",
    "# Terapkan ke DataFrame\n",
    "df['cleaning'] = df['full_text'].apply(clean_text)\n",
    "\n",
    "# Hapus baris yang kosong setelah dibersihkan\n",
    "df = df[df['cleaning'].str.strip() != '']\n",
    "\n",
    "# Lihat hasil\n",
    "df.head()"
   ]
  },
  {
   "cell_type": "markdown",
   "id": "3b507f18",
   "metadata": {},
   "source": [
    "## _**casefolding**_"
   ]
  },
  {
   "cell_type": "code",
   "execution_count": 11,
   "id": "9c752d8a",
   "metadata": {},
   "outputs": [
    {
     "data": {
      "application/vnd.microsoft.datawrangler.viewer.v0+json": {
       "columns": [
        {
         "name": "index",
         "rawType": "int64",
         "type": "integer"
        },
        {
         "name": "full_text",
         "rawType": "object",
         "type": "string"
        },
        {
         "name": "cleaning",
         "rawType": "object",
         "type": "string"
        },
        {
         "name": "casefolding",
         "rawType": "object",
         "type": "string"
        }
       ],
       "conversionMethod": "pd.DataFrame",
       "ref": "71b3e3d2-c071-4b61-b5d2-80a23769171c",
       "rows": [
        [
         "0",
         "@IqbalRa17664055 @rwp1byte aku nyusul kerja aja mau #KaburAjaDulu bawa istri wkwkwk",
         "aku nyusul kerja aja mau KaburAjaDulu bawa istri wkwkwk",
         "aku nyusul kerja aja mau kaburajadulu bawa istri wkwkwk"
        ],
        [
         "1",
         "#KaburAjaDulu bole juga ni hashtag",
         "KaburAjaDulu bole juga ni hashtag",
         "kaburajadulu bole juga ni hashtag"
        ],
        [
         "2",
         "#KaburAjaDulu",
         "KaburAjaDulu",
         "kaburajadulu"
        ],
        [
         "3",
         " Ehhh ini Mas Adith #KaburAjaDulu ya? Mohon maaf ya Siapa ya pemilik asli dari hashtag di atas? Gw cuma ikut ngeramein aja btw ",
         "Eh ini Mas Adith KaburAjaDulu ya Mohon maaf ya Siapa ya pemilik asli dari hashtag di atas Gw cuma ikut ngeramein aja btw",
         "eh ini mas adith kaburajadulu ya mohon maaf ya siapa ya pemilik asli dari hashtag di atas gw cuma ikut ngeramein aja btw"
        ],
        [
         "4",
         "Dengan ini saya resmikan pemilik hashtag #KaburAjaDulu adalah mz Adith! Sah ya gaes sah!",
         "Dengan ini saya resmikan pemilik hashtag KaburAjaDulu adalah mz Adith Sah ya gaes sah",
         "dengan ini saya resmikan pemilik hashtag kaburajadulu adalah mz adith sah ya gaes sah"
        ]
       ],
       "shape": {
        "columns": 3,
        "rows": 5
       }
      },
      "text/html": [
       "<div>\n",
       "<style scoped>\n",
       "    .dataframe tbody tr th:only-of-type {\n",
       "        vertical-align: middle;\n",
       "    }\n",
       "\n",
       "    .dataframe tbody tr th {\n",
       "        vertical-align: top;\n",
       "    }\n",
       "\n",
       "    .dataframe thead th {\n",
       "        text-align: right;\n",
       "    }\n",
       "</style>\n",
       "<table border=\"1\" class=\"dataframe\">\n",
       "  <thead>\n",
       "    <tr style=\"text-align: right;\">\n",
       "      <th></th>\n",
       "      <th>full_text</th>\n",
       "      <th>cleaning</th>\n",
       "      <th>casefolding</th>\n",
       "    </tr>\n",
       "  </thead>\n",
       "  <tbody>\n",
       "    <tr>\n",
       "      <th>0</th>\n",
       "      <td>@IqbalRa17664055 @rwp1byte aku nyusul kerja aj...</td>\n",
       "      <td>aku nyusul kerja aja mau KaburAjaDulu bawa ist...</td>\n",
       "      <td>aku nyusul kerja aja mau kaburajadulu bawa ist...</td>\n",
       "    </tr>\n",
       "    <tr>\n",
       "      <th>1</th>\n",
       "      <td>#KaburAjaDulu bole juga ni hashtag</td>\n",
       "      <td>KaburAjaDulu bole juga ni hashtag</td>\n",
       "      <td>kaburajadulu bole juga ni hashtag</td>\n",
       "    </tr>\n",
       "    <tr>\n",
       "      <th>2</th>\n",
       "      <td>#KaburAjaDulu</td>\n",
       "      <td>KaburAjaDulu</td>\n",
       "      <td>kaburajadulu</td>\n",
       "    </tr>\n",
       "    <tr>\n",
       "      <th>3</th>\n",
       "      <td>Ehhh ini Mas Adith #KaburAjaDulu ya? Mohon ma...</td>\n",
       "      <td>Eh ini Mas Adith KaburAjaDulu ya Mohon maaf ya...</td>\n",
       "      <td>eh ini mas adith kaburajadulu ya mohon maaf ya...</td>\n",
       "    </tr>\n",
       "    <tr>\n",
       "      <th>4</th>\n",
       "      <td>Dengan ini saya resmikan pemilik hashtag #Kabu...</td>\n",
       "      <td>Dengan ini saya resmikan pemilik hashtag Kabur...</td>\n",
       "      <td>dengan ini saya resmikan pemilik hashtag kabur...</td>\n",
       "    </tr>\n",
       "  </tbody>\n",
       "</table>\n",
       "</div>"
      ],
      "text/plain": [
       "                                           full_text  \\\n",
       "0  @IqbalRa17664055 @rwp1byte aku nyusul kerja aj...   \n",
       "1                 #KaburAjaDulu bole juga ni hashtag   \n",
       "2                                      #KaburAjaDulu   \n",
       "3   Ehhh ini Mas Adith #KaburAjaDulu ya? Mohon ma...   \n",
       "4  Dengan ini saya resmikan pemilik hashtag #Kabu...   \n",
       "\n",
       "                                            cleaning  \\\n",
       "0  aku nyusul kerja aja mau KaburAjaDulu bawa ist...   \n",
       "1                  KaburAjaDulu bole juga ni hashtag   \n",
       "2                                       KaburAjaDulu   \n",
       "3  Eh ini Mas Adith KaburAjaDulu ya Mohon maaf ya...   \n",
       "4  Dengan ini saya resmikan pemilik hashtag Kabur...   \n",
       "\n",
       "                                         casefolding  \n",
       "0  aku nyusul kerja aja mau kaburajadulu bawa ist...  \n",
       "1                  kaburajadulu bole juga ni hashtag  \n",
       "2                                       kaburajadulu  \n",
       "3  eh ini mas adith kaburajadulu ya mohon maaf ya...  \n",
       "4  dengan ini saya resmikan pemilik hashtag kabur...  "
      ]
     },
     "execution_count": 11,
     "metadata": {},
     "output_type": "execute_result"
    }
   ],
   "source": [
    "def case_folding(text):\n",
    "    if isinstance(text, str):\n",
    "      lowercased_text = text.lower()\n",
    "      return lowercased_text\n",
    "    else:\n",
    "      return text\n",
    "\n",
    "df['casefolding'] = df['cleaning'].apply(case_folding)\n",
    "df.head(5)"
   ]
  },
  {
   "cell_type": "markdown",
   "id": "566325bc",
   "metadata": {},
   "source": [
    "## _**Normalization**_ **(Mengubah kata tidak baku menjadi baku)**"
   ]
  },
  {
   "cell_type": "code",
   "execution_count": 12,
   "id": "1e43d2b3",
   "metadata": {},
   "outputs": [],
   "source": [
    "# Tujuan: Mengganti kata tidak baku dengan kata baku dalam teks\n",
    "# Analisis: Menggunakan kamus untuk menggantikan kata-kata tidak baku dengan kata baku\n",
    "\n",
    "def replace_taboo_words(text, kamus_tidak_baku):\n",
    "    if isinstance(text, str):\n",
    "        words = text.split()  # Pisahkan teks menjadi kata-kata\n",
    "        replaced_words = []  # List untuk kata yang sudah diganti\n",
    "        kalimat_baku = []  # List untuk kata baku yang digunakan\n",
    "        kata_diganti = []  # List untuk kata tidak baku yang diganti\n",
    "        kata_tidak_baku_hash = []  # List untuk hash kata tidak baku yang diganti\n",
    "\n",
    "        for word in words:\n",
    "            if word in kamus_tidak_baku:\n",
    "                baku_word = kamus_tidak_baku[word]\n",
    "                if isinstance(baku_word, str) and all(char.isalpha() for char in baku_word):\n",
    "                    replaced_words.append(baku_word)  # Menambahkan kata baku\n",
    "                    kalimat_baku.append(baku_word)  # Menyimpan kata baku dalam kalimat baku\n",
    "                    kata_diganti.append(word)  # Menyimpan kata yang diganti\n",
    "                    kata_tidak_baku_hash.append(hash(word))  # Menyimpan hash kata tidak baku\n",
    "                else:\n",
    "                    replaced_words.append(word)  # Jika tidak ada penggantian, tambahkan kata asli\n",
    "            else:\n",
    "                replaced_words.append(word)  # Jika kata tidak ada di kamus, tambahkan kata asli\n",
    "\n",
    "        replaced_text = ' '.join(replaced_words)  # Gabungkan kata-kata yang sudah diganti\n",
    "    else:\n",
    "        replaced_text = ' '\n",
    "        kalimat_baku = []\n",
    "        kata_diganti = []\n",
    "        kata_tidak_baku_hash = []\n",
    "\n",
    "    return replaced_text, kalimat_baku, kata_diganti, kata_tidak_baku_hash\n"
   ]
  },
  {
   "cell_type": "code",
   "execution_count": null,
   "id": "c0774926",
   "metadata": {},
   "outputs": [
    {
     "data": {
      "application/vnd.microsoft.datawrangler.viewer.v0+json": {
       "columns": [
        {
         "name": "index",
         "rawType": "int64",
         "type": "integer"
        },
        {
         "name": "tidak_baku",
         "rawType": "object",
         "type": "string"
        },
        {
         "name": "kata_baku",
         "rawType": "object",
         "type": "string"
        }
       ],
       "conversionMethod": "pd.DataFrame",
       "ref": "22dd1f02-182d-41fe-a343-18b35ca8e502",
       "rows": [
        [
         "0",
         "woww",
         "wow"
        ],
        [
         "1",
         "aminn",
         "amin"
        ],
        [
         "2",
         "met",
         "selamat"
        ],
        [
         "3",
         "netaas",
         "menetas"
        ],
        [
         "4",
         "keberpa",
         "keberapa"
        ]
       ],
       "shape": {
        "columns": 2,
        "rows": 5
       }
      },
      "text/html": [
       "<div>\n",
       "<style scoped>\n",
       "    .dataframe tbody tr th:only-of-type {\n",
       "        vertical-align: middle;\n",
       "    }\n",
       "\n",
       "    .dataframe tbody tr th {\n",
       "        vertical-align: top;\n",
       "    }\n",
       "\n",
       "    .dataframe thead th {\n",
       "        text-align: right;\n",
       "    }\n",
       "</style>\n",
       "<table border=\"1\" class=\"dataframe\">\n",
       "  <thead>\n",
       "    <tr style=\"text-align: right;\">\n",
       "      <th></th>\n",
       "      <th>tidak_baku</th>\n",
       "      <th>kata_baku</th>\n",
       "    </tr>\n",
       "  </thead>\n",
       "  <tbody>\n",
       "    <tr>\n",
       "      <th>0</th>\n",
       "      <td>woww</td>\n",
       "      <td>wow</td>\n",
       "    </tr>\n",
       "    <tr>\n",
       "      <th>1</th>\n",
       "      <td>aminn</td>\n",
       "      <td>amin</td>\n",
       "    </tr>\n",
       "    <tr>\n",
       "      <th>2</th>\n",
       "      <td>met</td>\n",
       "      <td>selamat</td>\n",
       "    </tr>\n",
       "    <tr>\n",
       "      <th>3</th>\n",
       "      <td>netaas</td>\n",
       "      <td>menetas</td>\n",
       "    </tr>\n",
       "    <tr>\n",
       "      <th>4</th>\n",
       "      <td>keberpa</td>\n",
       "      <td>keberapa</td>\n",
       "    </tr>\n",
       "  </tbody>\n",
       "</table>\n",
       "</div>"
      ],
      "text/plain": [
       "  tidak_baku kata_baku\n",
       "0       woww       wow\n",
       "1      aminn      amin\n",
       "2        met   selamat\n",
       "3     netaas   menetas\n",
       "4    keberpa  keberapa"
      ]
     },
     "execution_count": 13,
     "metadata": {},
     "output_type": "execute_result"
    }
   ],
   "source": [
    "# Menggunakan kamus dari kamuskatabaku\n",
    "kamus_data = pd.read_excel('../data/kamuskatabaku.xlsx')\n",
    "kamus_tidak_baku = dict(zip(kamus_data['tidak_baku'], kamus_data['kata_baku']))\n",
    "kamus_data.head()"
   ]
  },
  {
   "cell_type": "code",
   "execution_count": 14,
   "id": "c3c661f2",
   "metadata": {},
   "outputs": [
    {
     "data": {
      "application/vnd.microsoft.datawrangler.viewer.v0+json": {
       "columns": [
        {
         "name": "index",
         "rawType": "int64",
         "type": "integer"
        },
        {
         "name": "full_text",
         "rawType": "object",
         "type": "string"
        },
        {
         "name": "cleaning",
         "rawType": "object",
         "type": "string"
        },
        {
         "name": "casefolding",
         "rawType": "object",
         "type": "string"
        },
        {
         "name": "normalized",
         "rawType": "object",
         "type": "string"
        }
       ],
       "conversionMethod": "pd.DataFrame",
       "ref": "7e521338-38d5-4fc5-bbc7-565e1602aad3",
       "rows": [
        [
         "0",
         "@IqbalRa17664055 @rwp1byte aku nyusul kerja aja mau #KaburAjaDulu bawa istri wkwkwk",
         "aku nyusul kerja aja mau KaburAjaDulu bawa istri wkwkwk",
         "aku nyusul kerja aja mau kaburajadulu bawa istri wkwkwk",
         "aku menyusul kerja saja mau kaburajadulu bawa istri wkwkwk"
        ],
        [
         "1",
         "#KaburAjaDulu bole juga ni hashtag",
         "KaburAjaDulu bole juga ni hashtag",
         "kaburajadulu bole juga ni hashtag",
         "kaburajadulu boleh juga nih hashtag"
        ],
        [
         "2",
         "#KaburAjaDulu",
         "KaburAjaDulu",
         "kaburajadulu",
         "kaburajadulu"
        ],
        [
         "3",
         " Ehhh ini Mas Adith #KaburAjaDulu ya? Mohon maaf ya Siapa ya pemilik asli dari hashtag di atas? Gw cuma ikut ngeramein aja btw ",
         "Eh ini Mas Adith KaburAjaDulu ya Mohon maaf ya Siapa ya pemilik asli dari hashtag di atas Gw cuma ikut ngeramein aja btw",
         "eh ini mas adith kaburajadulu ya mohon maaf ya siapa ya pemilik asli dari hashtag di atas gw cuma ikut ngeramein aja btw",
         "eh ini mas adith kaburajadulu ya mohon maaf ya siapa ya pemilik asli dari hashtag di atas gue cuma ikut ngeramein saja btw"
        ],
        [
         "4",
         "Dengan ini saya resmikan pemilik hashtag #KaburAjaDulu adalah mz Adith! Sah ya gaes sah!",
         "Dengan ini saya resmikan pemilik hashtag KaburAjaDulu adalah mz Adith Sah ya gaes sah",
         "dengan ini saya resmikan pemilik hashtag kaburajadulu adalah mz adith sah ya gaes sah",
         "dengan ini saya resmikan pemilik hashtag kaburajadulu adalah mas adith sah ya gaes sah"
        ]
       ],
       "shape": {
        "columns": 4,
        "rows": 5
       }
      },
      "text/html": [
       "<div>\n",
       "<style scoped>\n",
       "    .dataframe tbody tr th:only-of-type {\n",
       "        vertical-align: middle;\n",
       "    }\n",
       "\n",
       "    .dataframe tbody tr th {\n",
       "        vertical-align: top;\n",
       "    }\n",
       "\n",
       "    .dataframe thead th {\n",
       "        text-align: right;\n",
       "    }\n",
       "</style>\n",
       "<table border=\"1\" class=\"dataframe\">\n",
       "  <thead>\n",
       "    <tr style=\"text-align: right;\">\n",
       "      <th></th>\n",
       "      <th>full_text</th>\n",
       "      <th>cleaning</th>\n",
       "      <th>casefolding</th>\n",
       "      <th>normalized</th>\n",
       "    </tr>\n",
       "  </thead>\n",
       "  <tbody>\n",
       "    <tr>\n",
       "      <th>0</th>\n",
       "      <td>@IqbalRa17664055 @rwp1byte aku nyusul kerja aj...</td>\n",
       "      <td>aku nyusul kerja aja mau KaburAjaDulu bawa ist...</td>\n",
       "      <td>aku nyusul kerja aja mau kaburajadulu bawa ist...</td>\n",
       "      <td>aku menyusul kerja saja mau kaburajadulu bawa ...</td>\n",
       "    </tr>\n",
       "    <tr>\n",
       "      <th>1</th>\n",
       "      <td>#KaburAjaDulu bole juga ni hashtag</td>\n",
       "      <td>KaburAjaDulu bole juga ni hashtag</td>\n",
       "      <td>kaburajadulu bole juga ni hashtag</td>\n",
       "      <td>kaburajadulu boleh juga nih hashtag</td>\n",
       "    </tr>\n",
       "    <tr>\n",
       "      <th>2</th>\n",
       "      <td>#KaburAjaDulu</td>\n",
       "      <td>KaburAjaDulu</td>\n",
       "      <td>kaburajadulu</td>\n",
       "      <td>kaburajadulu</td>\n",
       "    </tr>\n",
       "    <tr>\n",
       "      <th>3</th>\n",
       "      <td>Ehhh ini Mas Adith #KaburAjaDulu ya? Mohon ma...</td>\n",
       "      <td>Eh ini Mas Adith KaburAjaDulu ya Mohon maaf ya...</td>\n",
       "      <td>eh ini mas adith kaburajadulu ya mohon maaf ya...</td>\n",
       "      <td>eh ini mas adith kaburajadulu ya mohon maaf ya...</td>\n",
       "    </tr>\n",
       "    <tr>\n",
       "      <th>4</th>\n",
       "      <td>Dengan ini saya resmikan pemilik hashtag #Kabu...</td>\n",
       "      <td>Dengan ini saya resmikan pemilik hashtag Kabur...</td>\n",
       "      <td>dengan ini saya resmikan pemilik hashtag kabur...</td>\n",
       "      <td>dengan ini saya resmikan pemilik hashtag kabur...</td>\n",
       "    </tr>\n",
       "  </tbody>\n",
       "</table>\n",
       "</div>"
      ],
      "text/plain": [
       "                                           full_text  \\\n",
       "0  @IqbalRa17664055 @rwp1byte aku nyusul kerja aj...   \n",
       "1                 #KaburAjaDulu bole juga ni hashtag   \n",
       "2                                      #KaburAjaDulu   \n",
       "3   Ehhh ini Mas Adith #KaburAjaDulu ya? Mohon ma...   \n",
       "4  Dengan ini saya resmikan pemilik hashtag #Kabu...   \n",
       "\n",
       "                                            cleaning  \\\n",
       "0  aku nyusul kerja aja mau KaburAjaDulu bawa ist...   \n",
       "1                  KaburAjaDulu bole juga ni hashtag   \n",
       "2                                       KaburAjaDulu   \n",
       "3  Eh ini Mas Adith KaburAjaDulu ya Mohon maaf ya...   \n",
       "4  Dengan ini saya resmikan pemilik hashtag Kabur...   \n",
       "\n",
       "                                         casefolding  \\\n",
       "0  aku nyusul kerja aja mau kaburajadulu bawa ist...   \n",
       "1                  kaburajadulu bole juga ni hashtag   \n",
       "2                                       kaburajadulu   \n",
       "3  eh ini mas adith kaburajadulu ya mohon maaf ya...   \n",
       "4  dengan ini saya resmikan pemilik hashtag kabur...   \n",
       "\n",
       "                                          normalized  \n",
       "0  aku menyusul kerja saja mau kaburajadulu bawa ...  \n",
       "1                kaburajadulu boleh juga nih hashtag  \n",
       "2                                       kaburajadulu  \n",
       "3  eh ini mas adith kaburajadulu ya mohon maaf ya...  \n",
       "4  dengan ini saya resmikan pemilik hashtag kabur...  "
      ]
     },
     "execution_count": 14,
     "metadata": {},
     "output_type": "execute_result"
    }
   ],
   "source": [
    "#penggantian kata tidak baku\n",
    "df['normalized'], df['kata_baku'], df['kata_tidak_baku'], df['kata_tidak_baku_hash'] = zip(*df['casefolding'].apply(lambda x: replace_taboo_words(x, kamus_tidak_baku)))\n",
    "\n",
    "df = pd.DataFrame(df[['full_text', 'cleaning', 'casefolding', 'normalized']])\n",
    "df.head(5)"
   ]
  },
  {
   "cell_type": "markdown",
   "id": "5cc8608c",
   "metadata": {},
   "source": [
    "## _**Tokenizing**_"
   ]
  },
  {
   "cell_type": "code",
   "execution_count": 15,
   "id": "a0002456",
   "metadata": {},
   "outputs": [
    {
     "data": {
      "application/vnd.microsoft.datawrangler.viewer.v0+json": {
       "columns": [
        {
         "name": "index",
         "rawType": "int64",
         "type": "integer"
        },
        {
         "name": "full_text",
         "rawType": "object",
         "type": "string"
        },
        {
         "name": "cleaning",
         "rawType": "object",
         "type": "string"
        },
        {
         "name": "casefolding",
         "rawType": "object",
         "type": "string"
        },
        {
         "name": "normalized",
         "rawType": "object",
         "type": "string"
        },
        {
         "name": "tokenize",
         "rawType": "object",
         "type": "unknown"
        }
       ],
       "conversionMethod": "pd.DataFrame",
       "ref": "c4ca9b7c-cd22-4f57-838b-33aa6735938c",
       "rows": [
        [
         "0",
         "@IqbalRa17664055 @rwp1byte aku nyusul kerja aja mau #KaburAjaDulu bawa istri wkwkwk",
         "aku nyusul kerja aja mau KaburAjaDulu bawa istri wkwkwk",
         "aku nyusul kerja aja mau kaburajadulu bawa istri wkwkwk",
         "aku menyusul kerja saja mau kaburajadulu bawa istri wkwkwk",
         "['aku', 'menyusul', 'kerja', 'saja', 'mau', 'kaburajadulu', 'bawa', 'istri', 'wkwkwk']"
        ],
        [
         "1",
         "#KaburAjaDulu bole juga ni hashtag",
         "KaburAjaDulu bole juga ni hashtag",
         "kaburajadulu bole juga ni hashtag",
         "kaburajadulu boleh juga nih hashtag",
         "['kaburajadulu', 'boleh', 'juga', 'nih', 'hashtag']"
        ],
        [
         "2",
         "#KaburAjaDulu",
         "KaburAjaDulu",
         "kaburajadulu",
         "kaburajadulu",
         "['kaburajadulu']"
        ],
        [
         "3",
         " Ehhh ini Mas Adith #KaburAjaDulu ya? Mohon maaf ya Siapa ya pemilik asli dari hashtag di atas? Gw cuma ikut ngeramein aja btw ",
         "Eh ini Mas Adith KaburAjaDulu ya Mohon maaf ya Siapa ya pemilik asli dari hashtag di atas Gw cuma ikut ngeramein aja btw",
         "eh ini mas adith kaburajadulu ya mohon maaf ya siapa ya pemilik asli dari hashtag di atas gw cuma ikut ngeramein aja btw",
         "eh ini mas adith kaburajadulu ya mohon maaf ya siapa ya pemilik asli dari hashtag di atas gue cuma ikut ngeramein saja btw",
         "['eh', 'ini', 'mas', 'adith', 'kaburajadulu', 'ya', 'mohon', 'maaf', 'ya', 'siapa', 'ya', 'pemilik', 'asli', 'dari', 'hashtag', 'di', 'atas', 'gue', 'cuma', 'ikut', 'ngeramein', 'saja', 'btw']"
        ],
        [
         "4",
         "Dengan ini saya resmikan pemilik hashtag #KaburAjaDulu adalah mz Adith! Sah ya gaes sah!",
         "Dengan ini saya resmikan pemilik hashtag KaburAjaDulu adalah mz Adith Sah ya gaes sah",
         "dengan ini saya resmikan pemilik hashtag kaburajadulu adalah mz adith sah ya gaes sah",
         "dengan ini saya resmikan pemilik hashtag kaburajadulu adalah mas adith sah ya gaes sah",
         "['dengan', 'ini', 'saya', 'resmikan', 'pemilik', 'hashtag', 'kaburajadulu', 'adalah', 'mas', 'adith', 'sah', 'ya', 'gaes', 'sah']"
        ]
       ],
       "shape": {
        "columns": 5,
        "rows": 5
       }
      },
      "text/html": [
       "<div>\n",
       "<style scoped>\n",
       "    .dataframe tbody tr th:only-of-type {\n",
       "        vertical-align: middle;\n",
       "    }\n",
       "\n",
       "    .dataframe tbody tr th {\n",
       "        vertical-align: top;\n",
       "    }\n",
       "\n",
       "    .dataframe thead th {\n",
       "        text-align: right;\n",
       "    }\n",
       "</style>\n",
       "<table border=\"1\" class=\"dataframe\">\n",
       "  <thead>\n",
       "    <tr style=\"text-align: right;\">\n",
       "      <th></th>\n",
       "      <th>full_text</th>\n",
       "      <th>cleaning</th>\n",
       "      <th>casefolding</th>\n",
       "      <th>normalized</th>\n",
       "      <th>tokenize</th>\n",
       "    </tr>\n",
       "  </thead>\n",
       "  <tbody>\n",
       "    <tr>\n",
       "      <th>0</th>\n",
       "      <td>@IqbalRa17664055 @rwp1byte aku nyusul kerja aj...</td>\n",
       "      <td>aku nyusul kerja aja mau KaburAjaDulu bawa ist...</td>\n",
       "      <td>aku nyusul kerja aja mau kaburajadulu bawa ist...</td>\n",
       "      <td>aku menyusul kerja saja mau kaburajadulu bawa ...</td>\n",
       "      <td>[aku, menyusul, kerja, saja, mau, kaburajadulu...</td>\n",
       "    </tr>\n",
       "    <tr>\n",
       "      <th>1</th>\n",
       "      <td>#KaburAjaDulu bole juga ni hashtag</td>\n",
       "      <td>KaburAjaDulu bole juga ni hashtag</td>\n",
       "      <td>kaburajadulu bole juga ni hashtag</td>\n",
       "      <td>kaburajadulu boleh juga nih hashtag</td>\n",
       "      <td>[kaburajadulu, boleh, juga, nih, hashtag]</td>\n",
       "    </tr>\n",
       "    <tr>\n",
       "      <th>2</th>\n",
       "      <td>#KaburAjaDulu</td>\n",
       "      <td>KaburAjaDulu</td>\n",
       "      <td>kaburajadulu</td>\n",
       "      <td>kaburajadulu</td>\n",
       "      <td>[kaburajadulu]</td>\n",
       "    </tr>\n",
       "    <tr>\n",
       "      <th>3</th>\n",
       "      <td>Ehhh ini Mas Adith #KaburAjaDulu ya? Mohon ma...</td>\n",
       "      <td>Eh ini Mas Adith KaburAjaDulu ya Mohon maaf ya...</td>\n",
       "      <td>eh ini mas adith kaburajadulu ya mohon maaf ya...</td>\n",
       "      <td>eh ini mas adith kaburajadulu ya mohon maaf ya...</td>\n",
       "      <td>[eh, ini, mas, adith, kaburajadulu, ya, mohon,...</td>\n",
       "    </tr>\n",
       "    <tr>\n",
       "      <th>4</th>\n",
       "      <td>Dengan ini saya resmikan pemilik hashtag #Kabu...</td>\n",
       "      <td>Dengan ini saya resmikan pemilik hashtag Kabur...</td>\n",
       "      <td>dengan ini saya resmikan pemilik hashtag kabur...</td>\n",
       "      <td>dengan ini saya resmikan pemilik hashtag kabur...</td>\n",
       "      <td>[dengan, ini, saya, resmikan, pemilik, hashtag...</td>\n",
       "    </tr>\n",
       "  </tbody>\n",
       "</table>\n",
       "</div>"
      ],
      "text/plain": [
       "                                           full_text  \\\n",
       "0  @IqbalRa17664055 @rwp1byte aku nyusul kerja aj...   \n",
       "1                 #KaburAjaDulu bole juga ni hashtag   \n",
       "2                                      #KaburAjaDulu   \n",
       "3   Ehhh ini Mas Adith #KaburAjaDulu ya? Mohon ma...   \n",
       "4  Dengan ini saya resmikan pemilik hashtag #Kabu...   \n",
       "\n",
       "                                            cleaning  \\\n",
       "0  aku nyusul kerja aja mau KaburAjaDulu bawa ist...   \n",
       "1                  KaburAjaDulu bole juga ni hashtag   \n",
       "2                                       KaburAjaDulu   \n",
       "3  Eh ini Mas Adith KaburAjaDulu ya Mohon maaf ya...   \n",
       "4  Dengan ini saya resmikan pemilik hashtag Kabur...   \n",
       "\n",
       "                                         casefolding  \\\n",
       "0  aku nyusul kerja aja mau kaburajadulu bawa ist...   \n",
       "1                  kaburajadulu bole juga ni hashtag   \n",
       "2                                       kaburajadulu   \n",
       "3  eh ini mas adith kaburajadulu ya mohon maaf ya...   \n",
       "4  dengan ini saya resmikan pemilik hashtag kabur...   \n",
       "\n",
       "                                          normalized  \\\n",
       "0  aku menyusul kerja saja mau kaburajadulu bawa ...   \n",
       "1                kaburajadulu boleh juga nih hashtag   \n",
       "2                                       kaburajadulu   \n",
       "3  eh ini mas adith kaburajadulu ya mohon maaf ya...   \n",
       "4  dengan ini saya resmikan pemilik hashtag kabur...   \n",
       "\n",
       "                                            tokenize  \n",
       "0  [aku, menyusul, kerja, saja, mau, kaburajadulu...  \n",
       "1          [kaburajadulu, boleh, juga, nih, hashtag]  \n",
       "2                                     [kaburajadulu]  \n",
       "3  [eh, ini, mas, adith, kaburajadulu, ya, mohon,...  \n",
       "4  [dengan, ini, saya, resmikan, pemilik, hashtag...  "
      ]
     },
     "execution_count": 15,
     "metadata": {},
     "output_type": "execute_result"
    }
   ],
   "source": [
    "def tokenize(text):\n",
    "    tokens = text.split()\n",
    "    return tokens\n",
    "\n",
    "df['tokenize'] = df['normalized'].apply(tokenize)\n",
    "df.head(5)"
   ]
  },
  {
   "cell_type": "markdown",
   "id": "039631ef",
   "metadata": {},
   "source": [
    "## _**Stopword Removal (Menghapus kata tidak penting)**_"
   ]
  },
  {
   "cell_type": "code",
   "execution_count": 16,
   "id": "ebc69ba4",
   "metadata": {},
   "outputs": [
    {
     "name": "stderr",
     "output_type": "stream",
     "text": [
      "[nltk_data] Downloading package stopwords to\n",
      "[nltk_data]     C:\\Users\\Erico\\AppData\\Roaming\\nltk_data...\n",
      "[nltk_data]   Package stopwords is already up-to-date!\n"
     ]
    }
   ],
   "source": [
    "from nltk.corpus import stopwords\n",
    "nltk.download('stopwords')\n",
    "stop_words = stopwords.words('indonesian')"
   ]
  },
  {
   "cell_type": "code",
   "execution_count": null,
   "id": "b5cef1e9",
   "metadata": {},
   "outputs": [
    {
     "data": {
      "application/vnd.microsoft.datawrangler.viewer.v0+json": {
       "columns": [
        {
         "name": "index",
         "rawType": "int64",
         "type": "integer"
        },
        {
         "name": "full_text",
         "rawType": "object",
         "type": "string"
        },
        {
         "name": "cleaning",
         "rawType": "object",
         "type": "string"
        },
        {
         "name": "casefolding",
         "rawType": "object",
         "type": "string"
        },
        {
         "name": "normalized",
         "rawType": "object",
         "type": "string"
        },
        {
         "name": "tokenize",
         "rawType": "object",
         "type": "unknown"
        },
        {
         "name": "stopword",
         "rawType": "object",
         "type": "unknown"
        }
       ],
       "conversionMethod": "pd.DataFrame",
       "ref": "f8fe3392-e5cb-4b53-b338-30203cdf860c",
       "rows": [
        [
         "0",
         "@IqbalRa17664055 @rwp1byte aku nyusul kerja aja mau #KaburAjaDulu bawa istri wkwkwk",
         "aku nyusul kerja aja mau KaburAjaDulu bawa istri wkwkwk",
         "aku nyusul kerja aja mau kaburajadulu bawa istri wkwkwk",
         "aku menyusul kerja saja mau kaburajadulu bawa istri wkwkwk",
         "['aku', 'menyusul', 'kerja', 'saja', 'mau', 'kaburajadulu', 'bawa', 'istri', 'wkwkwk']",
         "['menyusul', 'kerja', 'kaburajadulu', 'bawa', 'istri', 'wkwkwk']"
        ],
        [
         "1",
         "#KaburAjaDulu bole juga ni hashtag",
         "KaburAjaDulu bole juga ni hashtag",
         "kaburajadulu bole juga ni hashtag",
         "kaburajadulu boleh juga nih hashtag",
         "['kaburajadulu', 'boleh', 'juga', 'nih', 'hashtag']",
         "['kaburajadulu', 'nih', 'hashtag']"
        ],
        [
         "2",
         "#KaburAjaDulu",
         "KaburAjaDulu",
         "kaburajadulu",
         "kaburajadulu",
         "['kaburajadulu']",
         "['kaburajadulu']"
        ],
        [
         "3",
         " Ehhh ini Mas Adith #KaburAjaDulu ya? Mohon maaf ya Siapa ya pemilik asli dari hashtag di atas? Gw cuma ikut ngeramein aja btw ",
         "Eh ini Mas Adith KaburAjaDulu ya Mohon maaf ya Siapa ya pemilik asli dari hashtag di atas Gw cuma ikut ngeramein aja btw",
         "eh ini mas adith kaburajadulu ya mohon maaf ya siapa ya pemilik asli dari hashtag di atas gw cuma ikut ngeramein aja btw",
         "eh ini mas adith kaburajadulu ya mohon maaf ya siapa ya pemilik asli dari hashtag di atas gue cuma ikut ngeramein saja btw",
         "['eh', 'ini', 'mas', 'adith', 'kaburajadulu', 'ya', 'mohon', 'maaf', 'ya', 'siapa', 'ya', 'pemilik', 'asli', 'dari', 'hashtag', 'di', 'atas', 'gue', 'cuma', 'ikut', 'ngeramein', 'saja', 'btw']",
         "['eh', 'mas', 'adith', 'kaburajadulu', 'ya', 'mohon', 'maaf', 'ya', 'ya', 'pemilik', 'asli', 'hashtag', 'gue', 'ngeramein', 'btw']"
        ],
        [
         "4",
         "Dengan ini saya resmikan pemilik hashtag #KaburAjaDulu adalah mz Adith! Sah ya gaes sah!",
         "Dengan ini saya resmikan pemilik hashtag KaburAjaDulu adalah mz Adith Sah ya gaes sah",
         "dengan ini saya resmikan pemilik hashtag kaburajadulu adalah mz adith sah ya gaes sah",
         "dengan ini saya resmikan pemilik hashtag kaburajadulu adalah mas adith sah ya gaes sah",
         "['dengan', 'ini', 'saya', 'resmikan', 'pemilik', 'hashtag', 'kaburajadulu', 'adalah', 'mas', 'adith', 'sah', 'ya', 'gaes', 'sah']",
         "['resmikan', 'pemilik', 'hashtag', 'kaburajadulu', 'mas', 'adith', 'sah', 'ya', 'gaes', 'sah']"
        ]
       ],
       "shape": {
        "columns": 6,
        "rows": 5
       }
      },
      "text/html": [
       "<div>\n",
       "<style scoped>\n",
       "    .dataframe tbody tr th:only-of-type {\n",
       "        vertical-align: middle;\n",
       "    }\n",
       "\n",
       "    .dataframe tbody tr th {\n",
       "        vertical-align: top;\n",
       "    }\n",
       "\n",
       "    .dataframe thead th {\n",
       "        text-align: right;\n",
       "    }\n",
       "</style>\n",
       "<table border=\"1\" class=\"dataframe\">\n",
       "  <thead>\n",
       "    <tr style=\"text-align: right;\">\n",
       "      <th></th>\n",
       "      <th>full_text</th>\n",
       "      <th>cleaning</th>\n",
       "      <th>casefolding</th>\n",
       "      <th>normalized</th>\n",
       "      <th>tokenize</th>\n",
       "      <th>stopword</th>\n",
       "    </tr>\n",
       "  </thead>\n",
       "  <tbody>\n",
       "    <tr>\n",
       "      <th>0</th>\n",
       "      <td>@IqbalRa17664055 @rwp1byte aku nyusul kerja aj...</td>\n",
       "      <td>aku nyusul kerja aja mau KaburAjaDulu bawa ist...</td>\n",
       "      <td>aku nyusul kerja aja mau kaburajadulu bawa ist...</td>\n",
       "      <td>aku menyusul kerja saja mau kaburajadulu bawa ...</td>\n",
       "      <td>[aku, menyusul, kerja, saja, mau, kaburajadulu...</td>\n",
       "      <td>[menyusul, kerja, kaburajadulu, bawa, istri, w...</td>\n",
       "    </tr>\n",
       "    <tr>\n",
       "      <th>1</th>\n",
       "      <td>#KaburAjaDulu bole juga ni hashtag</td>\n",
       "      <td>KaburAjaDulu bole juga ni hashtag</td>\n",
       "      <td>kaburajadulu bole juga ni hashtag</td>\n",
       "      <td>kaburajadulu boleh juga nih hashtag</td>\n",
       "      <td>[kaburajadulu, boleh, juga, nih, hashtag]</td>\n",
       "      <td>[kaburajadulu, nih, hashtag]</td>\n",
       "    </tr>\n",
       "    <tr>\n",
       "      <th>2</th>\n",
       "      <td>#KaburAjaDulu</td>\n",
       "      <td>KaburAjaDulu</td>\n",
       "      <td>kaburajadulu</td>\n",
       "      <td>kaburajadulu</td>\n",
       "      <td>[kaburajadulu]</td>\n",
       "      <td>[kaburajadulu]</td>\n",
       "    </tr>\n",
       "    <tr>\n",
       "      <th>3</th>\n",
       "      <td>Ehhh ini Mas Adith #KaburAjaDulu ya? Mohon ma...</td>\n",
       "      <td>Eh ini Mas Adith KaburAjaDulu ya Mohon maaf ya...</td>\n",
       "      <td>eh ini mas adith kaburajadulu ya mohon maaf ya...</td>\n",
       "      <td>eh ini mas adith kaburajadulu ya mohon maaf ya...</td>\n",
       "      <td>[eh, ini, mas, adith, kaburajadulu, ya, mohon,...</td>\n",
       "      <td>[eh, mas, adith, kaburajadulu, ya, mohon, maaf...</td>\n",
       "    </tr>\n",
       "    <tr>\n",
       "      <th>4</th>\n",
       "      <td>Dengan ini saya resmikan pemilik hashtag #Kabu...</td>\n",
       "      <td>Dengan ini saya resmikan pemilik hashtag Kabur...</td>\n",
       "      <td>dengan ini saya resmikan pemilik hashtag kabur...</td>\n",
       "      <td>dengan ini saya resmikan pemilik hashtag kabur...</td>\n",
       "      <td>[dengan, ini, saya, resmikan, pemilik, hashtag...</td>\n",
       "      <td>[resmikan, pemilik, hashtag, kaburajadulu, mas...</td>\n",
       "    </tr>\n",
       "  </tbody>\n",
       "</table>\n",
       "</div>"
      ],
      "text/plain": [
       "                                           full_text  \\\n",
       "0  @IqbalRa17664055 @rwp1byte aku nyusul kerja aj...   \n",
       "1                 #KaburAjaDulu bole juga ni hashtag   \n",
       "2                                      #KaburAjaDulu   \n",
       "3   Ehhh ini Mas Adith #KaburAjaDulu ya? Mohon ma...   \n",
       "4  Dengan ini saya resmikan pemilik hashtag #Kabu...   \n",
       "\n",
       "                                            cleaning  \\\n",
       "0  aku nyusul kerja aja mau KaburAjaDulu bawa ist...   \n",
       "1                  KaburAjaDulu bole juga ni hashtag   \n",
       "2                                       KaburAjaDulu   \n",
       "3  Eh ini Mas Adith KaburAjaDulu ya Mohon maaf ya...   \n",
       "4  Dengan ini saya resmikan pemilik hashtag Kabur...   \n",
       "\n",
       "                                         casefolding  \\\n",
       "0  aku nyusul kerja aja mau kaburajadulu bawa ist...   \n",
       "1                  kaburajadulu bole juga ni hashtag   \n",
       "2                                       kaburajadulu   \n",
       "3  eh ini mas adith kaburajadulu ya mohon maaf ya...   \n",
       "4  dengan ini saya resmikan pemilik hashtag kabur...   \n",
       "\n",
       "                                          normalized  \\\n",
       "0  aku menyusul kerja saja mau kaburajadulu bawa ...   \n",
       "1                kaburajadulu boleh juga nih hashtag   \n",
       "2                                       kaburajadulu   \n",
       "3  eh ini mas adith kaburajadulu ya mohon maaf ya...   \n",
       "4  dengan ini saya resmikan pemilik hashtag kabur...   \n",
       "\n",
       "                                            tokenize  \\\n",
       "0  [aku, menyusul, kerja, saja, mau, kaburajadulu...   \n",
       "1          [kaburajadulu, boleh, juga, nih, hashtag]   \n",
       "2                                     [kaburajadulu]   \n",
       "3  [eh, ini, mas, adith, kaburajadulu, ya, mohon,...   \n",
       "4  [dengan, ini, saya, resmikan, pemilik, hashtag...   \n",
       "\n",
       "                                            stopword  \n",
       "0  [menyusul, kerja, kaburajadulu, bawa, istri, w...  \n",
       "1                       [kaburajadulu, nih, hashtag]  \n",
       "2                                     [kaburajadulu]  \n",
       "3  [eh, mas, adith, kaburajadulu, ya, mohon, maaf...  \n",
       "4  [resmikan, pemilik, hashtag, kaburajadulu, mas...  "
      ]
     },
     "execution_count": 17,
     "metadata": {},
     "output_type": "execute_result"
    }
   ],
   "source": [
    "stop_words = stopwords.words('indonesian')\n",
    "\n",
    "def remove_stopwords(text):\n",
    "    return [word for word in text if word not in stop_words]\n",
    "\n",
    "df['stopword'] = df['tokenize'].apply(lambda x: remove_stopwords(x))\n",
    "df.head(5)"
   ]
  },
  {
   "cell_type": "markdown",
   "id": "fb4a3034",
   "metadata": {},
   "source": [
    "## _**Stemming (mengubah kata ke bentuk dasarnya)**_"
   ]
  },
  {
   "cell_type": "code",
   "execution_count": 18,
   "id": "df999139",
   "metadata": {},
   "outputs": [
    {
     "data": {
      "application/vnd.microsoft.datawrangler.viewer.v0+json": {
       "columns": [
        {
         "name": "index",
         "rawType": "int64",
         "type": "integer"
        },
        {
         "name": "full_text",
         "rawType": "object",
         "type": "string"
        },
        {
         "name": "cleaning",
         "rawType": "object",
         "type": "string"
        },
        {
         "name": "casefolding",
         "rawType": "object",
         "type": "string"
        },
        {
         "name": "normalized",
         "rawType": "object",
         "type": "string"
        },
        {
         "name": "tokenize",
         "rawType": "object",
         "type": "unknown"
        },
        {
         "name": "stopword",
         "rawType": "object",
         "type": "unknown"
        },
        {
         "name": "stemming",
         "rawType": "object",
         "type": "string"
        }
       ],
       "conversionMethod": "pd.DataFrame",
       "ref": "83bcc556-4e45-400a-9074-dfae84661cd8",
       "rows": [
        [
         "0",
         "@IqbalRa17664055 @rwp1byte aku nyusul kerja aja mau #KaburAjaDulu bawa istri wkwkwk",
         "aku nyusul kerja aja mau KaburAjaDulu bawa istri wkwkwk",
         "aku nyusul kerja aja mau kaburajadulu bawa istri wkwkwk",
         "aku menyusul kerja saja mau kaburajadulu bawa istri wkwkwk",
         "['aku', 'menyusul', 'kerja', 'saja', 'mau', 'kaburajadulu', 'bawa', 'istri', 'wkwkwk']",
         "['menyusul', 'kerja', 'kaburajadulu', 'bawa', 'istri', 'wkwkwk']",
         "susul kerja kaburajadulu bawa istri wkwkwk"
        ],
        [
         "1",
         "#KaburAjaDulu bole juga ni hashtag",
         "KaburAjaDulu bole juga ni hashtag",
         "kaburajadulu bole juga ni hashtag",
         "kaburajadulu boleh juga nih hashtag",
         "['kaburajadulu', 'boleh', 'juga', 'nih', 'hashtag']",
         "['kaburajadulu', 'nih', 'hashtag']",
         "kaburajadulu nih hashtag"
        ],
        [
         "2",
         "#KaburAjaDulu",
         "KaburAjaDulu",
         "kaburajadulu",
         "kaburajadulu",
         "['kaburajadulu']",
         "['kaburajadulu']",
         "kaburajadulu"
        ],
        [
         "3",
         " Ehhh ini Mas Adith #KaburAjaDulu ya? Mohon maaf ya Siapa ya pemilik asli dari hashtag di atas? Gw cuma ikut ngeramein aja btw ",
         "Eh ini Mas Adith KaburAjaDulu ya Mohon maaf ya Siapa ya pemilik asli dari hashtag di atas Gw cuma ikut ngeramein aja btw",
         "eh ini mas adith kaburajadulu ya mohon maaf ya siapa ya pemilik asli dari hashtag di atas gw cuma ikut ngeramein aja btw",
         "eh ini mas adith kaburajadulu ya mohon maaf ya siapa ya pemilik asli dari hashtag di atas gue cuma ikut ngeramein saja btw",
         "['eh', 'ini', 'mas', 'adith', 'kaburajadulu', 'ya', 'mohon', 'maaf', 'ya', 'siapa', 'ya', 'pemilik', 'asli', 'dari', 'hashtag', 'di', 'atas', 'gue', 'cuma', 'ikut', 'ngeramein', 'saja', 'btw']",
         "['eh', 'mas', 'adith', 'kaburajadulu', 'ya', 'mohon', 'maaf', 'ya', 'ya', 'pemilik', 'asli', 'hashtag', 'gue', 'ngeramein', 'btw']",
         "eh mas adith kaburajadulu ya mohon maaf ya ya milik asli hashtag gue ngeramein btw"
        ],
        [
         "4",
         "Dengan ini saya resmikan pemilik hashtag #KaburAjaDulu adalah mz Adith! Sah ya gaes sah!",
         "Dengan ini saya resmikan pemilik hashtag KaburAjaDulu adalah mz Adith Sah ya gaes sah",
         "dengan ini saya resmikan pemilik hashtag kaburajadulu adalah mz adith sah ya gaes sah",
         "dengan ini saya resmikan pemilik hashtag kaburajadulu adalah mas adith sah ya gaes sah",
         "['dengan', 'ini', 'saya', 'resmikan', 'pemilik', 'hashtag', 'kaburajadulu', 'adalah', 'mas', 'adith', 'sah', 'ya', 'gaes', 'sah']",
         "['resmikan', 'pemilik', 'hashtag', 'kaburajadulu', 'mas', 'adith', 'sah', 'ya', 'gaes', 'sah']",
         "resmi milik hashtag kaburajadulu mas adith sah ya gaes sah"
        ]
       ],
       "shape": {
        "columns": 7,
        "rows": 5
       }
      },
      "text/html": [
       "<div>\n",
       "<style scoped>\n",
       "    .dataframe tbody tr th:only-of-type {\n",
       "        vertical-align: middle;\n",
       "    }\n",
       "\n",
       "    .dataframe tbody tr th {\n",
       "        vertical-align: top;\n",
       "    }\n",
       "\n",
       "    .dataframe thead th {\n",
       "        text-align: right;\n",
       "    }\n",
       "</style>\n",
       "<table border=\"1\" class=\"dataframe\">\n",
       "  <thead>\n",
       "    <tr style=\"text-align: right;\">\n",
       "      <th></th>\n",
       "      <th>full_text</th>\n",
       "      <th>cleaning</th>\n",
       "      <th>casefolding</th>\n",
       "      <th>normalized</th>\n",
       "      <th>tokenize</th>\n",
       "      <th>stopword</th>\n",
       "      <th>stemming</th>\n",
       "    </tr>\n",
       "  </thead>\n",
       "  <tbody>\n",
       "    <tr>\n",
       "      <th>0</th>\n",
       "      <td>@IqbalRa17664055 @rwp1byte aku nyusul kerja aj...</td>\n",
       "      <td>aku nyusul kerja aja mau KaburAjaDulu bawa ist...</td>\n",
       "      <td>aku nyusul kerja aja mau kaburajadulu bawa ist...</td>\n",
       "      <td>aku menyusul kerja saja mau kaburajadulu bawa ...</td>\n",
       "      <td>[aku, menyusul, kerja, saja, mau, kaburajadulu...</td>\n",
       "      <td>[menyusul, kerja, kaburajadulu, bawa, istri, w...</td>\n",
       "      <td>susul kerja kaburajadulu bawa istri wkwkwk</td>\n",
       "    </tr>\n",
       "    <tr>\n",
       "      <th>1</th>\n",
       "      <td>#KaburAjaDulu bole juga ni hashtag</td>\n",
       "      <td>KaburAjaDulu bole juga ni hashtag</td>\n",
       "      <td>kaburajadulu bole juga ni hashtag</td>\n",
       "      <td>kaburajadulu boleh juga nih hashtag</td>\n",
       "      <td>[kaburajadulu, boleh, juga, nih, hashtag]</td>\n",
       "      <td>[kaburajadulu, nih, hashtag]</td>\n",
       "      <td>kaburajadulu nih hashtag</td>\n",
       "    </tr>\n",
       "    <tr>\n",
       "      <th>2</th>\n",
       "      <td>#KaburAjaDulu</td>\n",
       "      <td>KaburAjaDulu</td>\n",
       "      <td>kaburajadulu</td>\n",
       "      <td>kaburajadulu</td>\n",
       "      <td>[kaburajadulu]</td>\n",
       "      <td>[kaburajadulu]</td>\n",
       "      <td>kaburajadulu</td>\n",
       "    </tr>\n",
       "    <tr>\n",
       "      <th>3</th>\n",
       "      <td>Ehhh ini Mas Adith #KaburAjaDulu ya? Mohon ma...</td>\n",
       "      <td>Eh ini Mas Adith KaburAjaDulu ya Mohon maaf ya...</td>\n",
       "      <td>eh ini mas adith kaburajadulu ya mohon maaf ya...</td>\n",
       "      <td>eh ini mas adith kaburajadulu ya mohon maaf ya...</td>\n",
       "      <td>[eh, ini, mas, adith, kaburajadulu, ya, mohon,...</td>\n",
       "      <td>[eh, mas, adith, kaburajadulu, ya, mohon, maaf...</td>\n",
       "      <td>eh mas adith kaburajadulu ya mohon maaf ya ya ...</td>\n",
       "    </tr>\n",
       "    <tr>\n",
       "      <th>4</th>\n",
       "      <td>Dengan ini saya resmikan pemilik hashtag #Kabu...</td>\n",
       "      <td>Dengan ini saya resmikan pemilik hashtag Kabur...</td>\n",
       "      <td>dengan ini saya resmikan pemilik hashtag kabur...</td>\n",
       "      <td>dengan ini saya resmikan pemilik hashtag kabur...</td>\n",
       "      <td>[dengan, ini, saya, resmikan, pemilik, hashtag...</td>\n",
       "      <td>[resmikan, pemilik, hashtag, kaburajadulu, mas...</td>\n",
       "      <td>resmi milik hashtag kaburajadulu mas adith sah...</td>\n",
       "    </tr>\n",
       "  </tbody>\n",
       "</table>\n",
       "</div>"
      ],
      "text/plain": [
       "                                           full_text  \\\n",
       "0  @IqbalRa17664055 @rwp1byte aku nyusul kerja aj...   \n",
       "1                 #KaburAjaDulu bole juga ni hashtag   \n",
       "2                                      #KaburAjaDulu   \n",
       "3   Ehhh ini Mas Adith #KaburAjaDulu ya? Mohon ma...   \n",
       "4  Dengan ini saya resmikan pemilik hashtag #Kabu...   \n",
       "\n",
       "                                            cleaning  \\\n",
       "0  aku nyusul kerja aja mau KaburAjaDulu bawa ist...   \n",
       "1                  KaburAjaDulu bole juga ni hashtag   \n",
       "2                                       KaburAjaDulu   \n",
       "3  Eh ini Mas Adith KaburAjaDulu ya Mohon maaf ya...   \n",
       "4  Dengan ini saya resmikan pemilik hashtag Kabur...   \n",
       "\n",
       "                                         casefolding  \\\n",
       "0  aku nyusul kerja aja mau kaburajadulu bawa ist...   \n",
       "1                  kaburajadulu bole juga ni hashtag   \n",
       "2                                       kaburajadulu   \n",
       "3  eh ini mas adith kaburajadulu ya mohon maaf ya...   \n",
       "4  dengan ini saya resmikan pemilik hashtag kabur...   \n",
       "\n",
       "                                          normalized  \\\n",
       "0  aku menyusul kerja saja mau kaburajadulu bawa ...   \n",
       "1                kaburajadulu boleh juga nih hashtag   \n",
       "2                                       kaburajadulu   \n",
       "3  eh ini mas adith kaburajadulu ya mohon maaf ya...   \n",
       "4  dengan ini saya resmikan pemilik hashtag kabur...   \n",
       "\n",
       "                                            tokenize  \\\n",
       "0  [aku, menyusul, kerja, saja, mau, kaburajadulu...   \n",
       "1          [kaburajadulu, boleh, juga, nih, hashtag]   \n",
       "2                                     [kaburajadulu]   \n",
       "3  [eh, ini, mas, adith, kaburajadulu, ya, mohon,...   \n",
       "4  [dengan, ini, saya, resmikan, pemilik, hashtag...   \n",
       "\n",
       "                                            stopword  \\\n",
       "0  [menyusul, kerja, kaburajadulu, bawa, istri, w...   \n",
       "1                       [kaburajadulu, nih, hashtag]   \n",
       "2                                     [kaburajadulu]   \n",
       "3  [eh, mas, adith, kaburajadulu, ya, mohon, maaf...   \n",
       "4  [resmikan, pemilik, hashtag, kaburajadulu, mas...   \n",
       "\n",
       "                                            stemming  \n",
       "0         susul kerja kaburajadulu bawa istri wkwkwk  \n",
       "1                           kaburajadulu nih hashtag  \n",
       "2                                       kaburajadulu  \n",
       "3  eh mas adith kaburajadulu ya mohon maaf ya ya ...  \n",
       "4  resmi milik hashtag kaburajadulu mas adith sah...  "
      ]
     },
     "execution_count": 18,
     "metadata": {},
     "output_type": "execute_result"
    }
   ],
   "source": [
    "factory = StemmerFactory()\n",
    "stemmer = factory.create_stemmer()\n",
    "\n",
    "def stem_text(text):\n",
    "    return [stemmer.stem(word) for word in text]\n",
    "\n",
    "df['stemming'] = df['stopword'].apply(lambda x: ' '.join(stem_text(x)))\n",
    "df.head(5)"
   ]
  },
  {
   "cell_type": "code",
   "execution_count": 19,
   "id": "ba7b0e8a",
   "metadata": {},
   "outputs": [
    {
     "name": "stdout",
     "output_type": "stream",
     "text": [
      "<class 'pandas.core.frame.DataFrame'>\n",
      "Index: 16905 entries, 0 to 20952\n",
      "Data columns (total 7 columns):\n",
      " #   Column       Non-Null Count  Dtype \n",
      "---  ------       --------------  ----- \n",
      " 0   full_text    16905 non-null  object\n",
      " 1   cleaning     16905 non-null  object\n",
      " 2   casefolding  16905 non-null  object\n",
      " 3   normalized   16905 non-null  object\n",
      " 4   tokenize     16905 non-null  object\n",
      " 5   stopword     16905 non-null  object\n",
      " 6   stemming     16905 non-null  object\n",
      "dtypes: object(7)\n",
      "memory usage: 1.0+ MB\n"
     ]
    }
   ],
   "source": [
    "# Drop duplicates based on the 'stemming' column\n",
    "df.drop_duplicates(subset='stemming', keep='first', inplace=True)\n",
    "\n",
    "# Check the updated dataframe\n",
    "df.info()"
   ]
  },
  {
   "cell_type": "markdown",
   "id": "1322b476",
   "metadata": {},
   "source": [
    "# **PROSES HAPUS DATA BERNILAI KOSONG (NAN) DAN DUPLIKASI SETELAH PRE-PROCESSING**"
   ]
  },
  {
   "cell_type": "code",
   "execution_count": 20,
   "id": "646c466e",
   "metadata": {},
   "outputs": [
    {
     "name": "stdout",
     "output_type": "stream",
     "text": [
      "<class 'pandas.core.frame.DataFrame'>\n",
      "Index: 16905 entries, 0 to 20952\n",
      "Data columns (total 7 columns):\n",
      " #   Column       Non-Null Count  Dtype \n",
      "---  ------       --------------  ----- \n",
      " 0   full_text    16905 non-null  object\n",
      " 1   cleaning     16905 non-null  object\n",
      " 2   casefolding  16905 non-null  object\n",
      " 3   normalized   16905 non-null  object\n",
      " 4   tokenize     16905 non-null  object\n",
      " 5   stopword     16905 non-null  object\n",
      " 6   stemming     16905 non-null  object\n",
      "dtypes: object(7)\n",
      "memory usage: 1.0+ MB\n"
     ]
    }
   ],
   "source": [
    "# Tujuan: menghapus nan dari dataframe\n",
    "# Analisis: Menggunakan fungsi dropna() untuk menghapus baris yang memiliki nilai nan\n",
    "data = df.dropna()\n",
    "data.info()"
   ]
  },
  {
   "cell_type": "markdown",
   "id": "e0c96153",
   "metadata": {},
   "source": [
    "## _**Menghapus Duplikasi**_"
   ]
  },
  {
   "cell_type": "code",
   "execution_count": 21,
   "id": "dc685484",
   "metadata": {},
   "outputs": [
    {
     "name": "stdout",
     "output_type": "stream",
     "text": [
      "Jumlah baris yang dihapus: 0\n"
     ]
    }
   ],
   "source": [
    "# Hitung jumlah baris sebelum menghapus duplikasi\n",
    "before_drop = len(df)\n",
    "\n",
    "# Hapus duplikasi berdasarkan kolom 'normalized'\n",
    "df.drop_duplicates(subset='stemming', keep='first', inplace=True)\n",
    "\n",
    "# Hitung jumlah baris setelah menghapus duplikasi\n",
    "after_drop = len(df)\n",
    "\n",
    "# Hitung jumlah baris yang dihapus\n",
    "dropped = before_drop - after_drop\n",
    "\n",
    "print(f\"Jumlah baris yang dihapus: {dropped}\")"
   ]
  },
  {
   "cell_type": "code",
   "execution_count": 22,
   "id": "051b79d5",
   "metadata": {},
   "outputs": [
    {
     "name": "stdout",
     "output_type": "stream",
     "text": [
      "<class 'pandas.core.frame.DataFrame'>\n",
      "Index: 16905 entries, 0 to 20952\n",
      "Data columns (total 7 columns):\n",
      " #   Column       Non-Null Count  Dtype \n",
      "---  ------       --------------  ----- \n",
      " 0   full_text    16905 non-null  object\n",
      " 1   cleaning     16905 non-null  object\n",
      " 2   casefolding  16905 non-null  object\n",
      " 3   normalized   16905 non-null  object\n",
      " 4   tokenize     16905 non-null  object\n",
      " 5   stopword     16905 non-null  object\n",
      " 6   stemming     16905 non-null  object\n",
      "dtypes: object(7)\n",
      "memory usage: 1.0+ MB\n"
     ]
    }
   ],
   "source": [
    "df.info()"
   ]
  },
  {
   "cell_type": "markdown",
   "id": "fb7e6a26",
   "metadata": {},
   "source": [
    "# **FREKUENSI KATA SETELAH PREPROCESSING**"
   ]
  },
  {
   "cell_type": "code",
   "execution_count": 26,
   "id": "ba8995ed",
   "metadata": {},
   "outputs": [
    {
     "data": {
      "image/png": "[encoded data removed]",
      "text/plain": [
       "<Figure size 1200x600 with 1 Axes>"
      ]
     },
     "metadata": {},
     "output_type": "display_data"
    }
   ],
   "source": [
    "# memvisualisasikan frekuensi kata teratas dalam teks dari dataframe\n",
    "# menampilkan 10 kata yang paling sering muncul beserta frekuensinya dalam bar chart\n",
    "\n",
    "\n",
    "import matplotlib.pyplot as plt\n",
    "from collections import Counter\n",
    "from wordcloud import STOPWORDS\n",
    "\n",
    "text = \" \".join(df['stemming'])\n",
    "\n",
    "stopwords = set(STOPWORDS)\n",
    "stopwords.update(['https', 'co', 'RT', '...', 'amp','lu', 'deh', 'fyp', 'ya', 'gue', 'kak', 'tan', 'eh', 'wkwk', 'ajar', 'tuh', 'sok', 'lo', 'lu', 'sih'])\n",
    "\n",
    "tokens = [word for word in text.split() if word not in stopwords]\n",
    "word_counts = Counter(tokens)\n",
    "\n",
    "\n",
    "top_words = word_counts.most_common(10)\n",
    "word, count = zip(*top_words)\n",
    "\n",
    "# Menggunakan palet warna lebih soft\n",
    "colors = plt.cm.Pastel1(range(len(word)))\n",
    "\n",
    "# Membuat plot\n",
    "plt.figure(figsize=(12, 6))\n",
    "bars = plt.bar(word, count, color=colors)\n",
    "plt.xlabel('Kata-Kata Sering Muncul', fontsize=12, fontweight='bold')\n",
    "plt.ylabel('Jumlah Kata', fontsize=12, fontweight='bold')\n",
    "plt.title('Frekuensi Kata', fontsize=16, fontweight='bold')\n",
    "plt.xticks(rotation=45)\n",
    "\n",
    "# Menambahkan angka rata tengah di atas setiap bar\n",
    "for bar, num in zip(bars, count):\n",
    "    plt.text(bar.get_x() + bar.get_width() / 2 - 0.1, bar.get_height() + 1, str(num), fontsize=12, color='black', ha='center')\n",
    "\n",
    "plt.show()\n"
   ]
  },
  {
   "cell_type": "code",
   "execution_count": 28,
   "id": "cbbd2631",
   "metadata": {},
   "outputs": [
    {
     "data": {
      "application/vnd.microsoft.datawrangler.viewer.v0+json": {
       "columns": [
        {
         "name": "index",
         "rawType": "int64",
         "type": "integer"
        },
        {
         "name": "full_text",
         "rawType": "object",
         "type": "string"
        },
        {
         "name": "stemming",
         "rawType": "object",
         "type": "string"
        }
       ],
       "conversionMethod": "pd.DataFrame",
       "ref": "513ef7e0-6bca-4ea5-a7d1-4db466b06d0e",
       "rows": [
        [
         "0",
         "@IqbalRa17664055 @rwp1byte aku nyusul kerja aja mau #KaburAjaDulu bawa istri wkwkwk",
         "susul kerja kaburajadulu bawa istri wkwkwk"
        ],
        [
         "1",
         "#KaburAjaDulu bole juga ni hashtag",
         "kaburajadulu nih hashtag"
        ],
        [
         "2",
         "#KaburAjaDulu",
         "kaburajadulu"
        ],
        [
         "3",
         " Ehhh ini Mas Adith #KaburAjaDulu ya? Mohon maaf ya Siapa ya pemilik asli dari hashtag di atas? Gw cuma ikut ngeramein aja btw ",
         "eh mas adith kaburajadulu ya mohon maaf ya ya milik asli hashtag gue ngeramein btw"
        ],
        [
         "4",
         "Dengan ini saya resmikan pemilik hashtag #KaburAjaDulu adalah mz Adith! Sah ya gaes sah!",
         "resmi milik hashtag kaburajadulu mas adith sah ya gaes sah"
        ]
       ],
       "shape": {
        "columns": 2,
        "rows": 5
       }
      },
      "text/html": [
       "<div>\n",
       "<style scoped>\n",
       "    .dataframe tbody tr th:only-of-type {\n",
       "        vertical-align: middle;\n",
       "    }\n",
       "\n",
       "    .dataframe tbody tr th {\n",
       "        vertical-align: top;\n",
       "    }\n",
       "\n",
       "    .dataframe thead th {\n",
       "        text-align: right;\n",
       "    }\n",
       "</style>\n",
       "<table border=\"1\" class=\"dataframe\">\n",
       "  <thead>\n",
       "    <tr style=\"text-align: right;\">\n",
       "      <th></th>\n",
       "      <th>full_text</th>\n",
       "      <th>stemming</th>\n",
       "    </tr>\n",
       "  </thead>\n",
       "  <tbody>\n",
       "    <tr>\n",
       "      <th>0</th>\n",
       "      <td>@IqbalRa17664055 @rwp1byte aku nyusul kerja aj...</td>\n",
       "      <td>susul kerja kaburajadulu bawa istri wkwkwk</td>\n",
       "    </tr>\n",
       "    <tr>\n",
       "      <th>1</th>\n",
       "      <td>#KaburAjaDulu bole juga ni hashtag</td>\n",
       "      <td>kaburajadulu nih hashtag</td>\n",
       "    </tr>\n",
       "    <tr>\n",
       "      <th>2</th>\n",
       "      <td>#KaburAjaDulu</td>\n",
       "      <td>kaburajadulu</td>\n",
       "    </tr>\n",
       "    <tr>\n",
       "      <th>3</th>\n",
       "      <td>Ehhh ini Mas Adith #KaburAjaDulu ya? Mohon ma...</td>\n",
       "      <td>eh mas adith kaburajadulu ya mohon maaf ya ya ...</td>\n",
       "    </tr>\n",
       "    <tr>\n",
       "      <th>4</th>\n",
       "      <td>Dengan ini saya resmikan pemilik hashtag #Kabu...</td>\n",
       "      <td>resmi milik hashtag kaburajadulu mas adith sah...</td>\n",
       "    </tr>\n",
       "  </tbody>\n",
       "</table>\n",
       "</div>"
      ],
      "text/plain": [
       "                                           full_text  \\\n",
       "0  @IqbalRa17664055 @rwp1byte aku nyusul kerja aj...   \n",
       "1                 #KaburAjaDulu bole juga ni hashtag   \n",
       "2                                      #KaburAjaDulu   \n",
       "3   Ehhh ini Mas Adith #KaburAjaDulu ya? Mohon ma...   \n",
       "4  Dengan ini saya resmikan pemilik hashtag #Kabu...   \n",
       "\n",
       "                                            stemming  \n",
       "0         susul kerja kaburajadulu bawa istri wkwkwk  \n",
       "1                           kaburajadulu nih hashtag  \n",
       "2                                       kaburajadulu  \n",
       "3  eh mas adith kaburajadulu ya mohon maaf ya ya ...  \n",
       "4  resmi milik hashtag kaburajadulu mas adith sah...  "
      ]
     },
     "execution_count": 28,
     "metadata": {},
     "output_type": "execute_result"
    }
   ],
   "source": [
    "# Ambil kolom yang dibutuhkan\n",
    "df_ready = df[['full_text', 'stemming']]\n",
    "\n",
    "# Cek datanya\n",
    "df_ready.head()"
   ]
  },
  {
   "cell_type": "code",
   "execution_count": 29,
   "id": "da03d71a",
   "metadata": {},
   "outputs": [
    {
     "name": "stdout",
     "output_type": "stream",
     "text": [
      "✅ Data berhasil disimpan ke full_cleaned.csv\n"
     ]
    }
   ],
   "source": [
    "# Simpan ke file CSV\n",
    "df_ready.to_csv(\"../data/processed/full_cleaned.csv\", index=False)\n",
    "print(\"✅ Data berhasil disimpan ke full_cleaned.csv\")\n"
   ]
  }
 ],
 "metadata": {
  "kernelspec": {
   "display_name": "base",
   "language": "python",
   "name": "python3"
  },
  "language_info": {
   "codemirror_mode": {
    "name": "ipython",
    "version": 3
   },
   "file_extension": ".py",
   "mimetype": "text/x-python",
   "name": "python",
   "nbconvert_exporter": "python",
   "pygments_lexer": "ipython3",
   "version": "3.12.7"
  }
 },
 "nbformat": 4,
 "nbformat_minor": 5
}
