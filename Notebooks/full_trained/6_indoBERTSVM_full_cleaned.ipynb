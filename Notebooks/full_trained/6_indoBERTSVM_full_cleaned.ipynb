{
 "cells": [
  {
   "cell_type": "markdown",
   "id": "f95b338e",
   "metadata": {},
   "source": [
    "# **Load Tokenizer dan Model IndoBERT**"
   ]
  },
  {
   "cell_type": "code",
   "execution_count": 12,
   "id": "80a19da6",
   "metadata": {},
   "outputs": [
    {
     "name": "stdout",
     "output_type": "stream",
     "text": [
      "Requirement already satisfied: transformers in c:\\users\\erico\\anaconda3\\lib\\site-packages (4.51.0)Note: you may need to restart the kernel to use updated packages.\n",
      "\n",
      "Requirement already satisfied: scikit-learn in c:\\users\\erico\\anaconda3\\lib\\site-packages (1.5.1)\n",
      "Requirement already satisfied: tqdm in c:\\users\\erico\\anaconda3\\lib\\site-packages (4.66.5)\n",
      "Requirement already satisfied: filelock in c:\\users\\erico\\anaconda3\\lib\\site-packages (from transformers) (3.13.1)\n",
      "Requirement already satisfied: huggingface-hub<1.0,>=0.30.0 in c:\\users\\erico\\anaconda3\\lib\\site-packages (from transformers) (0.30.1)\n",
      "Requirement already satisfied: numpy>=1.17 in c:\\users\\erico\\anaconda3\\lib\\site-packages (from transformers) (1.26.4)\n",
      "Requirement already satisfied: packaging>=20.0 in c:\\users\\erico\\anaconda3\\lib\\site-packages (from transformers) (24.1)\n",
      "Requirement already satisfied: pyyaml>=5.1 in c:\\users\\erico\\anaconda3\\lib\\site-packages (from transformers) (6.0.1)\n",
      "Requirement already satisfied: regex!=2019.12.17 in c:\\users\\erico\\anaconda3\\lib\\site-packages (from transformers) (2024.9.11)\n",
      "Requirement already satisfied: requests in c:\\users\\erico\\anaconda3\\lib\\site-packages (from transformers) (2.32.3)\n",
      "Requirement already satisfied: tokenizers<0.22,>=0.21 in c:\\users\\erico\\anaconda3\\lib\\site-packages (from transformers) (0.21.1)\n",
      "Requirement already satisfied: safetensors>=0.4.3 in c:\\users\\erico\\anaconda3\\lib\\site-packages (from transformers) (0.5.3)\n",
      "Requirement already satisfied: scipy>=1.6.0 in c:\\users\\erico\\anaconda3\\lib\\site-packages (from scikit-learn) (1.13.1)\n",
      "Requirement already satisfied: joblib>=1.2.0 in c:\\users\\erico\\anaconda3\\lib\\site-packages (from scikit-learn) (1.4.2)\n",
      "Requirement already satisfied: threadpoolctl>=3.1.0 in c:\\users\\erico\\anaconda3\\lib\\site-packages (from scikit-learn) (3.5.0)\n",
      "Requirement already satisfied: colorama in c:\\users\\erico\\anaconda3\\lib\\site-packages (from tqdm) (0.4.6)\n",
      "Requirement already satisfied: fsspec>=2023.5.0 in c:\\users\\erico\\anaconda3\\lib\\site-packages (from huggingface-hub<1.0,>=0.30.0->transformers) (2024.6.1)\n",
      "Requirement already satisfied: typing-extensions>=3.7.4.3 in c:\\users\\erico\\anaconda3\\lib\\site-packages (from huggingface-hub<1.0,>=0.30.0->transformers) (4.11.0)\n",
      "Requirement already satisfied: charset-normalizer<4,>=2 in c:\\users\\erico\\anaconda3\\lib\\site-packages (from requests->transformers) (3.3.2)\n",
      "Requirement already satisfied: idna<4,>=2.5 in c:\\users\\erico\\anaconda3\\lib\\site-packages (from requests->transformers) (3.7)\n",
      "Requirement already satisfied: urllib3<3,>=1.21.1 in c:\\users\\erico\\anaconda3\\lib\\site-packages (from requests->transformers) (2.2.3)\n",
      "Requirement already satisfied: certifi>=2017.4.17 in c:\\users\\erico\\anaconda3\\lib\\site-packages (from requests->transformers) (2025.1.31)\n"
     ]
    }
   ],
   "source": [
    "%pip install transformers scikit-learn tqdm"
   ]
  },
  {
   "cell_type": "code",
   "execution_count": 13,
   "id": "bc8a5373",
   "metadata": {},
   "outputs": [],
   "source": [
    "import pandas as pd\n",
    "import numpy as np\n",
    "from sklearn.svm import LinearSVC\n",
    "from sklearn.metrics import classification_report, confusion_matrix, accuracy_score\n",
    "from sklearn.preprocessing import LabelEncoder\n",
    "from sklearn.utils.class_weight import compute_class_weight\n",
    "from tqdm import tqdm\n",
    "import torch\n",
    "from transformers import AutoTokenizer, AutoModel\n",
    "from sklearn.model_selection import train_test_split\n",
    "import os\n",
    "import time\n",
    "import matplotlib.pyplot as plt\n",
    "import seaborn as sns"
   ]
  },
  {
   "cell_type": "markdown",
   "id": "82e9d0bc",
   "metadata": {},
   "source": [
    "# **load dataset**"
   ]
  },
  {
   "cell_type": "code",
   "execution_count": 14,
   "id": "67ec4bae",
   "metadata": {},
   "outputs": [],
   "source": [
    "# Load data yang telah diproses\n",
    "train_df = pd.read_csv('../data/split_data_full/train_dataset.csv')\n",
    "val_df = pd.read_csv('../data/split_data_full/val_dataset.csv')\n",
    "test_df = pd.read_csv('../data/split_data_full/test_dataset.csv')"
   ]
  },
  {
   "cell_type": "code",
   "execution_count": 15,
   "id": "58321a44",
   "metadata": {},
   "outputs": [
    {
     "data": {
      "text/plain": [
       "BertModel(\n",
       "  (embeddings): BertEmbeddings(\n",
       "    (word_embeddings): Embedding(50000, 768, padding_idx=0)\n",
       "    (position_embeddings): Embedding(512, 768)\n",
       "    (token_type_embeddings): Embedding(2, 768)\n",
       "    (LayerNorm): LayerNorm((768,), eps=1e-12, elementwise_affine=True)\n",
       "    (dropout): Dropout(p=0.1, inplace=False)\n",
       "  )\n",
       "  (encoder): BertEncoder(\n",
       "    (layer): ModuleList(\n",
       "      (0-11): 12 x BertLayer(\n",
       "        (attention): BertAttention(\n",
       "          (self): BertSdpaSelfAttention(\n",
       "            (query): Linear(in_features=768, out_features=768, bias=True)\n",
       "            (key): Linear(in_features=768, out_features=768, bias=True)\n",
       "            (value): Linear(in_features=768, out_features=768, bias=True)\n",
       "            (dropout): Dropout(p=0.1, inplace=False)\n",
       "          )\n",
       "          (output): BertSelfOutput(\n",
       "            (dense): Linear(in_features=768, out_features=768, bias=True)\n",
       "            (LayerNorm): LayerNorm((768,), eps=1e-12, elementwise_affine=True)\n",
       "            (dropout): Dropout(p=0.1, inplace=False)\n",
       "          )\n",
       "        )\n",
       "        (intermediate): BertIntermediate(\n",
       "          (dense): Linear(in_features=768, out_features=3072, bias=True)\n",
       "          (intermediate_act_fn): GELUActivation()\n",
       "        )\n",
       "        (output): BertOutput(\n",
       "          (dense): Linear(in_features=3072, out_features=768, bias=True)\n",
       "          (LayerNorm): LayerNorm((768,), eps=1e-12, elementwise_affine=True)\n",
       "          (dropout): Dropout(p=0.1, inplace=False)\n",
       "        )\n",
       "      )\n",
       "    )\n",
       "  )\n",
       "  (pooler): BertPooler(\n",
       "    (dense): Linear(in_features=768, out_features=768, bias=True)\n",
       "    (activation): Tanh()\n",
       "  )\n",
       ")"
      ]
     },
     "execution_count": 15,
     "metadata": {},
     "output_type": "execute_result"
    }
   ],
   "source": [
    "# STEP 4: Load IndoBERT\n",
    "model_name = \"indobenchmark/indobert-base-p2\"\n",
    "tokenizer = AutoTokenizer.from_pretrained(model_name)\n",
    "model = AutoModel.from_pretrained(model_name)\n",
    "model.eval()  # tidak untuk fine-tuning"
   ]
  },
  {
   "cell_type": "code",
   "execution_count": 16,
   "id": "650536b8",
   "metadata": {},
   "outputs": [],
   "source": [
    "def get_bert_embeddings(texts, tokenizer, model, max_length=256, batch_size=16):\n",
    "    embeddings = []\n",
    "    with torch.no_grad():\n",
    "        for i in tqdm(range(0, len(texts), batch_size)):\n",
    "            batch = texts[i:i+batch_size]\n",
    "            encoded = tokenizer(batch.tolist(), padding=True, truncation=True,\n",
    "                                max_length=max_length, return_tensors=\"pt\")\n",
    "            outputs = model(**encoded)\n",
    "            cls_embeddings = outputs.last_hidden_state[:, 0, :].numpy()\n",
    "            embeddings.extend(cls_embeddings)\n",
    "    return np.array(embeddings)\n"
   ]
  },
  {
   "cell_type": "code",
   "execution_count": 18,
   "id": "5cc1a1e3",
   "metadata": {},
   "outputs": [
    {
     "name": "stderr",
     "output_type": "stream",
     "text": [
      "100%|██████████| 740/740 [08:12<00:00,  1.50it/s]\n",
      "100%|██████████| 106/106 [01:09<00:00,  1.52it/s]\n",
      "100%|██████████| 212/212 [02:17<00:00,  1.54it/s]"
     ]
    },
    {
     "name": "stdout",
     "output_type": "stream",
     "text": [
      "Durasi embeddings IndoBERT: 0:11:39\n"
     ]
    },
    {
     "name": "stderr",
     "output_type": "stream",
     "text": [
      "\n"
     ]
    }
   ],
   "source": [
    "# start time\n",
    "start_time = time.time()\n",
    "\n",
    "# STEP 6: Proses Ekstraksi Embedding\n",
    "X_train = get_bert_embeddings(train_df['stemming'], tokenizer, model)\n",
    "X_val = get_bert_embeddings(val_df['stemming'], tokenizer, model)\n",
    "X_test = get_bert_embeddings(test_df['stemming'], tokenizer, model)\n",
    "\n",
    "# Catat waktu selesai\n",
    "end_time = time.time()\n",
    "\n",
    "# Hitung durasi pelatihan\n",
    "training_duration = end_time - start_time\n",
    "\n",
    "# Simpan embeddings ke file\n",
    "np.save(\"../data/split_data_full/embeddings/X_train_full.npy\", X_train)\n",
    "np.save(\"../data/split_data_full/embeddings/X_val_full.npy\", X_val)\n",
    "np.save(\"../data/split_data_full/embeddings/X_test_full.npy\", X_test)\n",
    "\n",
    "# Format durasi menjadi jam:menit:detik\n",
    "import datetime\n",
    "formatted_duration = str(datetime.timedelta(seconds=int(training_duration)))\n",
    "print(f\"Durasi embeddings IndoBERT: {formatted_duration}\")"
   ]
  },
  {
   "cell_type": "code",
   "execution_count": null,
   "id": "3e811881",
   "metadata": {},
   "outputs": [],
   "source": [
    "# mengambil label/target Y\n",
    "Y_train = train_df['label_num']\n",
    "Y_val = val_df['label_num']\n",
    "Y_test = test_df['label_num']"
   ]
  },
  {
   "cell_type": "code",
   "execution_count": null,
   "id": "a0804be4",
   "metadata": {},
   "outputs": [
    {
     "name": "stdout",
     "output_type": "stream",
     "text": [
      "Durasi pelatihan SVM: 0:00:21\n"
     ]
    }
   ],
   "source": [
    "# Catat waktu mulai\n",
    "start_time = time.time()\n",
    "\n",
    "# Melatih model SVM\n",
    "svm_model = LinearSVC(class_weight='balanced')\n",
    "svm_model.fit(X_train, Y_train)\n",
    "\n",
    "# Catat waktu selesai\n",
    "end_time = time.time()\n",
    "\n",
    "# Hitung durasi pelatihan\n",
    "training_duration = end_time - start_time\n",
    "\n",
    "# Format durasi menjadi jam:menit:detik\n",
    "import datetime\n",
    "formatted_duration = str(datetime.timedelta(seconds=int(training_duration)))\n",
    "print(f\"Durasi pelatihan SVM: {formatted_duration}\")"
   ]
  },
  {
   "cell_type": "code",
   "execution_count": null,
   "id": "1388d5c9",
   "metadata": {},
   "outputs": [
    {
     "name": "stdout",
     "output_type": "stream",
     "text": [
      "\n",
      "Evaluasi Model SVM:\n",
      "Accuracy: 0.7770549970431697\n",
      "              precision    recall  f1-score   support\n",
      "\n",
      "    positive       0.42      0.65      0.51       229\n",
      "     neutral       0.76      0.71      0.73      1182\n",
      "    negative       0.85      0.83      0.84      1971\n",
      "\n",
      "    accuracy                           0.78      3382\n",
      "   macro avg       0.68      0.73      0.69      3382\n",
      "weighted avg       0.79      0.78      0.78      3382\n",
      "\n"
     ]
    }
   ],
   "source": [
    "# Prediksi\n",
    "pred_labels = svm_model.predict(X_test)\n",
    "\n",
    "# Daftar label sesuai urutan label_num kamu (0=positif, 1=netral, 2=negatif)\n",
    "target_names = ['positive', 'neutral', 'negative']\n",
    "\n",
    "# Evaluasi\n",
    "target_names = ['positive', 'neutral', 'negative']\n",
    "print(\"\\nEvaluasi Model SVM:\")\n",
    "print(\"Accuracy:\", accuracy_score(Y_test, pred_labels))\n",
    "print(classification_report(Y_test, pred_labels, target_names=target_names))"
   ]
  },
  {
   "cell_type": "code",
   "execution_count": null,
   "id": "ba279cdb",
   "metadata": {},
   "outputs": [
    {
     "data": {
      "image/png": "[encoded data removed]",
      "text/plain": [
       "<Figure size 800x600 with 2 Axes>"
      ]
     },
     "metadata": {},
     "output_type": "display_data"
    }
   ],
   "source": [
    "# Buat confusion matrix\n",
    "cm = confusion_matrix(Y_test, pred_labels)\n",
    "\n",
    "# Daftar label sesuai urutan label_num (0=positif, 1=netral, 2=negatif)\n",
    "target_names = ['positive', 'neutral', 'negative']\n",
    "\n",
    "# Plot confusion matrix\n",
    "plt.figure(figsize=(8, 6))\n",
    "sns.heatmap(cm, annot=True, fmt='d', cmap='Reds', xticklabels=target_names, yticklabels=target_names)\n",
    "plt.xlabel('Predicted Labels')\n",
    "plt.ylabel('True Labels')\n",
    "plt.title('Confusion Matrix')\n",
    "plt.show()"
   ]
  },
  {
   "cell_type": "code",
   "execution_count": null,
   "id": "a1b7369a",
   "metadata": {},
   "outputs": [
    {
     "name": "stdout",
     "output_type": "stream",
     "text": [
      "Model SVM disimpan di folder models/svm_model_full.joblib✅\n"
     ]
    }
   ],
   "source": [
    "from joblib import dump\n",
    "\n",
    "# Simpan model ke dalam folder ../models\n",
    "os.makedirs(\"../models\", exist_ok=True)\n",
    "dump(svm_model, \"../models/svm_model_full.joblib\")\n",
    "print(\"Model SVM disimpan di folder models/svm_model_full.joblib✅\")"
   ]
  }
 ],
 "metadata": {
  "kernelspec": {
   "display_name": "base",
   "language": "python",
   "name": "python3"
  },
  "language_info": {
   "codemirror_mode": {
    "name": "ipython",
    "version": 3
   },
   "file_extension": ".py",
   "mimetype": "text/x-python",
   "name": "python",
   "nbconvert_exporter": "python",
   "pygments_lexer": "ipython3",
   "version": "3.12.7"
  }
 },
 "nbformat": 4,
 "nbformat_minor": 5
}
