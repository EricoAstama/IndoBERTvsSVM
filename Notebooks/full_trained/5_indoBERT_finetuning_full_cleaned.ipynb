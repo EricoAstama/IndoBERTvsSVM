{
 "cells": [
  {
   "cell_type": "markdown",
   "id": "2f6a99f9",
   "metadata": {},
   "source": [
    "# **Import Librarys**"
   ]
  },
  {
   "cell_type": "code",
   "execution_count": 13,
   "id": "3518f8b1",
   "metadata": {},
   "outputs": [],
   "source": [
    "import pandas as pd\n",
    "import numpy as np\n",
    "import time\n",
    "from sklearn.model_selection import train_test_split\n",
    "from sklearn.metrics import classification_report, confusion_matrix\n",
    "import matplotlib.pyplot as plt\n",
    "import seaborn as sns\n",
    "\n",
    "import torch\n",
    "from torch import softmax\n",
    "from transformers import AutoTokenizer, AutoModelForSequenceClassification, TrainingArguments, Trainer, TrainerCallback\n",
    "from transformers import DataCollatorWithPadding\n",
    "from datasets import Dataset"
   ]
  },
  {
   "cell_type": "markdown",
   "id": "bc64d93c",
   "metadata": {},
   "source": [
    "# **Load Model dan Tokenizer**"
   ]
  },
  {
   "cell_type": "code",
   "execution_count": null,
   "id": "1dfd519f",
   "metadata": {},
   "outputs": [
    {
     "data": {
      "application/vnd.jupyter.widget-view+json": {
       "model_id": "674665d23ba54a30b807dd83c34234c6",
       "version_major": 2,
       "version_minor": 0
      },
      "text/plain": [
       "Map:   0%|          | 0/11833 [00:00<?, ? examples/s]"
      ]
     },
     "metadata": {},
     "output_type": "display_data"
    },
    {
     "data": {
      "application/vnd.jupyter.widget-view+json": {
       "model_id": "da71370db78940f281bd5b3596618dde",
       "version_major": 2,
       "version_minor": 0
      },
      "text/plain": [
       "Map:   0%|          | 0/1690 [00:00<?, ? examples/s]"
      ]
     },
     "metadata": {},
     "output_type": "display_data"
    },
    {
     "data": {
      "application/vnd.jupyter.widget-view+json": {
       "model_id": "7ed5a41f1d514d708e00d03d908958c1",
       "version_major": 2,
       "version_minor": 0
      },
      "text/plain": [
       "Map:   0%|          | 0/3382 [00:00<?, ? examples/s]"
      ]
     },
     "metadata": {},
     "output_type": "display_data"
    }
   ],
   "source": [
    "# Load Model dan Tokenizer\n",
    "model_name = \"indobenchmark/indobert-base-p2\"\n",
    "tokenizer = AutoTokenizer.from_pretrained(model_name)\n",
    "\n",
    "# Load data yang telah diproses\n",
    "train_df = pd.read_csv('../data/split_data_full/train_dataset.csv')\n",
    "val_df = pd.read_csv('../data/split_data_full/val_dataset.csv')\n",
    "test_df = pd.read_csv('../data/split_data_full/test_dataset.csv')\n",
    "\n",
    "# konversi ke hugging face dataset\n",
    "train_dataset = Dataset.from_pandas(train_df)\n",
    "val_dataset = Dataset.from_pandas(val_df)\n",
    "test_dataset = Dataset.from_pandas(test_df)\n",
    "\n",
    "# Fungsi tokenisasi\n",
    "def tokenize_function(examples):\n",
    "    return tokenizer(examples['stemming'], truncation=True, max_length=256)\n",
    "\n",
    "# Tokenisasi dataset\n",
    "train_dataset = train_dataset.map(tokenize_function, batched=True)\n",
    "val_dataset = val_dataset.map(tokenize_function, batched=True)\n",
    "test_dataset = test_dataset.map(tokenize_function, batched=True)"
   ]
  },
  {
   "cell_type": "markdown",
   "id": "63e35ae4",
   "metadata": {},
   "source": [
    "# **Set format dataset ke format PyTorch**"
   ]
  },
  {
   "cell_type": "code",
   "execution_count": null,
   "id": "9dcfd59e",
   "metadata": {},
   "outputs": [],
   "source": [
    "train_dataset = train_dataset.rename_column(\"label_num\", \"labels\")\n",
    "val_dataset = val_dataset.rename_column(\"label_num\", \"labels\")\n",
    "test_dataset = test_dataset.rename_column(\"label_num\", \"labels\")\n",
    "\n",
    "# hanya ambil kolom input_ids, attention_mask, dan labels\n",
    "train_dataset.set_format(type='torch', columns=['input_ids', 'attention_mask', 'labels'])\n",
    "val_dataset.set_format(type='torch', columns=['input_ids', 'attention_mask', 'labels'])\n",
    "test_dataset.set_format(type='torch', columns=['input_ids', 'attention_mask', 'labels'])"
   ]
  },
  {
   "cell_type": "markdown",
   "id": "bab58b3e",
   "metadata": {},
   "source": [
    "# **Model Setup**"
   ]
  },
  {
   "cell_type": "code",
   "execution_count": 14,
   "id": "1efa5c2c",
   "metadata": {},
   "outputs": [
    {
     "name": "stderr",
     "output_type": "stream",
     "text": [
      "Some weights of BertForSequenceClassification were not initialized from the model checkpoint at indobenchmark/indobert-base-p2 and are newly initialized: ['classifier.bias', 'classifier.weight']\n",
      "You should probably TRAIN this model on a down-stream task to be able to use it for predictions and inference.\n"
     ]
    }
   ],
   "source": [
    "model = AutoModelForSequenceClassification.from_pretrained(model_name, num_labels=3)\n",
    "\n",
    "training_args = TrainingArguments(\n",
    "    output_dir=\"../training_args\",\n",
    "    eval_strategy=\"epoch\",  # Evaluasi dilakukan di akhir setiap epoch\n",
    "    save_strategy=\"epoch\",  # Simpan model di akhir setiap epoch\n",
    "    learning_rate=2e-5,\n",
    "    per_device_train_batch_size=16,\n",
    "    per_device_eval_batch_size=16,\n",
    "    num_train_epochs=4,\n",
    "    weight_decay=0.01,\n",
    "    logging_dir='./logs',\n",
    "    logging_steps=10,\n",
    "    load_best_model_at_end=True,\n",
    "    metric_for_best_model='accuracy',\n",
    "    save_total_limit=3  # Simpan hanya 3 model terbaik\n",
    ")"
   ]
  },
  {
   "cell_type": "markdown",
   "id": "7af05073",
   "metadata": {},
   "source": [
    "# **Define metric evaluasi**"
   ]
  },
  {
   "cell_type": "code",
   "execution_count": 32,
   "id": "cdf3361f",
   "metadata": {},
   "outputs": [],
   "source": [
    "import evaluate\n",
    "\n",
    "accuracy = evaluate.load(\"accuracy\")\n",
    "f1 = evaluate.load(\"f1\")\n",
    "\n",
    "def compute_metrics(eval_pred):\n",
    "    logits, labels = eval_pred\n",
    "    predictions = logits.argmax(axis=-1)\n",
    "    return {\n",
    "        \"accuracy\": accuracy.compute(predictions=predictions, references=labels)['accuracy'],\n",
    "        \"f1\": f1.compute(predictions=predictions, references=labels, average='macro')['f1']\n",
    "    }\n"
   ]
  },
  {
   "cell_type": "markdown",
   "id": "f91b62ac",
   "metadata": {},
   "source": [
    "# **Trainer Setup**"
   ]
  },
  {
   "cell_type": "code",
   "execution_count": 33,
   "id": "2cf33d54",
   "metadata": {},
   "outputs": [],
   "source": [
    "data_collator = DataCollatorWithPadding(tokenizer=tokenizer)\n",
    "\n",
    "trainer = Trainer(\n",
    "    model=model,\n",
    "    args=training_args,\n",
    "    train_dataset=train_dataset,\n",
    "    eval_dataset=val_dataset,\n",
    "    compute_metrics=compute_metrics,\n",
    "    data_collator=data_collator\n",
    ")"
   ]
  },
  {
   "cell_type": "markdown",
   "id": "a884448c",
   "metadata": {},
   "source": [
    "# **Fine-tuning IndoBERT**"
   ]
  },
  {
   "cell_type": "code",
   "execution_count": 19,
   "id": "01f8fa1c",
   "metadata": {},
   "outputs": [
    {
     "name": "stdout",
     "output_type": "stream",
     "text": [
      "Requirement already satisfied: accelerate in c:\\users\\erico\\anaconda3\\lib\\site-packages (1.6.0)\n",
      "Requirement already satisfied: numpy<3.0.0,>=1.17 in c:\\users\\erico\\anaconda3\\lib\\site-packages (from accelerate) (1.26.4)\n",
      "Requirement already satisfied: packaging>=20.0 in c:\\users\\erico\\anaconda3\\lib\\site-packages (from accelerate) (24.1)\n",
      "Requirement already satisfied: psutil in c:\\users\\erico\\anaconda3\\lib\\site-packages (from accelerate) (5.9.0)\n",
      "Requirement already satisfied: pyyaml in c:\\users\\erico\\anaconda3\\lib\\site-packages (from accelerate) (6.0.1)\n",
      "Requirement already satisfied: torch>=2.0.0 in c:\\users\\erico\\anaconda3\\lib\\site-packages (from accelerate) (2.5.1+cu118)\n",
      "Requirement already satisfied: huggingface-hub>=0.21.0 in c:\\users\\erico\\anaconda3\\lib\\site-packages (from accelerate) (0.30.1)\n",
      "Requirement already satisfied: safetensors>=0.4.3 in c:\\users\\erico\\anaconda3\\lib\\site-packages (from accelerate) (0.5.3)\n",
      "Requirement already satisfied: filelock in c:\\users\\erico\\anaconda3\\lib\\site-packages (from huggingface-hub>=0.21.0->accelerate) (3.13.1)\n",
      "Requirement already satisfied: fsspec>=2023.5.0 in c:\\users\\erico\\anaconda3\\lib\\site-packages (from huggingface-hub>=0.21.0->accelerate) (2024.6.1)\n",
      "Requirement already satisfied: requests in c:\\users\\erico\\anaconda3\\lib\\site-packages (from huggingface-hub>=0.21.0->accelerate) (2.32.3)\n",
      "Requirement already satisfied: tqdm>=4.42.1 in c:\\users\\erico\\anaconda3\\lib\\site-packages (from huggingface-hub>=0.21.0->accelerate) (4.66.5)\n",
      "Requirement already satisfied: typing-extensions>=3.7.4.3 in c:\\users\\erico\\anaconda3\\lib\\site-packages (from huggingface-hub>=0.21.0->accelerate) (4.11.0)\n",
      "Requirement already satisfied: networkx in c:\\users\\erico\\anaconda3\\lib\\site-packages (from torch>=2.0.0->accelerate) (3.3)\n",
      "Requirement already satisfied: jinja2 in c:\\users\\erico\\anaconda3\\lib\\site-packages (from torch>=2.0.0->accelerate) (3.1.4)\n",
      "Requirement already satisfied: setuptools in c:\\users\\erico\\anaconda3\\lib\\site-packages (from torch>=2.0.0->accelerate) (75.1.0)\n",
      "Requirement already satisfied: sympy==1.13.1 in c:\\users\\erico\\anaconda3\\lib\\site-packages (from torch>=2.0.0->accelerate) (1.13.1)\n",
      "Requirement already satisfied: mpmath<1.4,>=1.1.0 in c:\\users\\erico\\anaconda3\\lib\\site-packages (from sympy==1.13.1->torch>=2.0.0->accelerate) (1.3.0)\n",
      "Requirement already satisfied: colorama in c:\\users\\erico\\anaconda3\\lib\\site-packages (from tqdm>=4.42.1->huggingface-hub>=0.21.0->accelerate) (0.4.6)\n",
      "Requirement already satisfied: MarkupSafe>=2.0 in c:\\users\\erico\\anaconda3\\lib\\site-packages (from jinja2->torch>=2.0.0->accelerate) (2.1.3)\n",
      "Requirement already satisfied: charset-normalizer<4,>=2 in c:\\users\\erico\\anaconda3\\lib\\site-packages (from requests->huggingface-hub>=0.21.0->accelerate) (3.3.2)\n",
      "Requirement already satisfied: idna<4,>=2.5 in c:\\users\\erico\\anaconda3\\lib\\site-packages (from requests->huggingface-hub>=0.21.0->accelerate) (3.7)\n",
      "Requirement already satisfied: urllib3<3,>=1.21.1 in c:\\users\\erico\\anaconda3\\lib\\site-packages (from requests->huggingface-hub>=0.21.0->accelerate) (2.2.3)\n",
      "Requirement already satisfied: certifi>=2017.4.17 in c:\\users\\erico\\anaconda3\\lib\\site-packages (from requests->huggingface-hub>=0.21.0->accelerate) (2025.1.31)\n",
      "Note: you may need to restart the kernel to use updated packages.\n"
     ]
    }
   ],
   "source": [
    "# untuk mempercepat training\n",
    "%pip install accelerate -U"
   ]
  },
  {
   "cell_type": "code",
   "execution_count": 20,
   "id": "55486a03",
   "metadata": {},
   "outputs": [
    {
     "data": {
      "text/html": [
       "\n",
       "    <div>\n",
       "      \n",
       "      <progress value='2960' max='2960' style='width:300px; height:20px; vertical-align: middle;'></progress>\n",
       "      [2960/2960 24:08, Epoch 4/4]\n",
       "    </div>\n",
       "    <table border=\"1\" class=\"dataframe\">\n",
       "  <thead>\n",
       " <tr style=\"text-align: left;\">\n",
       "      <th>Epoch</th>\n",
       "      <th>Training Loss</th>\n",
       "      <th>Validation Loss</th>\n",
       "      <th>Accuracy</th>\n",
       "      <th>F1</th>\n",
       "    </tr>\n",
       "  </thead>\n",
       "  <tbody>\n",
       "    <tr>\n",
       "      <td>1</td>\n",
       "      <td>0.384400</td>\n",
       "      <td>0.435470</td>\n",
       "      <td>0.816568</td>\n",
       "      <td>0.733937</td>\n",
       "    </tr>\n",
       "    <tr>\n",
       "      <td>2</td>\n",
       "      <td>0.297700</td>\n",
       "      <td>0.447883</td>\n",
       "      <td>0.837870</td>\n",
       "      <td>0.758938</td>\n",
       "    </tr>\n",
       "    <tr>\n",
       "      <td>3</td>\n",
       "      <td>0.190900</td>\n",
       "      <td>0.633356</td>\n",
       "      <td>0.830178</td>\n",
       "      <td>0.763120</td>\n",
       "    </tr>\n",
       "    <tr>\n",
       "      <td>4</td>\n",
       "      <td>0.019000</td>\n",
       "      <td>0.821652</td>\n",
       "      <td>0.840237</td>\n",
       "      <td>0.775597</td>\n",
       "    </tr>\n",
       "  </tbody>\n",
       "</table><p>"
      ],
      "text/plain": [
       "<IPython.core.display.HTML object>"
      ]
     },
     "metadata": {},
     "output_type": "display_data"
    },
    {
     "name": "stdout",
     "output_type": "stream",
     "text": [
      "Durasi pelatihan: 0:24:09\n"
     ]
    }
   ],
   "source": [
    "# Mulai mencatat waktu\n",
    "start_time = time.time()\n",
    "\n",
    "# Melatih model\n",
    "trainer.train()\n",
    "\n",
    "# Selesai mencatat waktu\n",
    "end_time = time.time()\n",
    "\n",
    "# Menghitung durasi\n",
    "training_duration = end_time - start_time\n",
    "\n",
    "# Tampilkan durasi dalam format jam:menit:detik\n",
    "import datetime\n",
    "formatted_duration = str(datetime.timedelta(seconds=int(training_duration)))\n",
    "print(f\"Durasi pelatihan: {formatted_duration}\")"
   ]
  },
  {
   "cell_type": "markdown",
   "id": "e897aec7",
   "metadata": {},
   "source": [
    "# **Evaluasi Model**"
   ]
  },
  {
   "cell_type": "code",
   "execution_count": 34,
   "id": "857c4d7d",
   "metadata": {},
   "outputs": [
    {
     "data": {
      "text/html": [],
      "text/plain": [
       "<IPython.core.display.HTML object>"
      ]
     },
     "metadata": {},
     "output_type": "display_data"
    },
    {
     "name": "stdout",
     "output_type": "stream",
     "text": [
      "{'eval_loss': 0.8403234481811523, 'eval_model_preparation_time': 0.006, 'eval_accuracy': 0.8358959195742165, 'eval_f1': 0.771293626247569, 'eval_runtime': 31.2869, 'eval_samples_per_second': 108.096, 'eval_steps_per_second': 6.776}\n"
     ]
    }
   ],
   "source": [
    "results = trainer.evaluate(test_dataset)\n",
    "print(results)"
   ]
  },
  {
   "cell_type": "markdown",
   "id": "26755eb3",
   "metadata": {},
   "source": [
    "# **save model**"
   ]
  },
  {
   "cell_type": "code",
   "execution_count": null,
   "id": "8893d46a",
   "metadata": {},
   "outputs": [],
   "source": [
    "# Simpan model\n",
    "trainer.save_model(\"../models/indoBERT_finetuning_full\")"
   ]
  },
  {
   "cell_type": "markdown",
   "id": "bf56506b",
   "metadata": {},
   "source": [
    "# **test model**"
   ]
  },
  {
   "cell_type": "code",
   "execution_count": null,
   "id": "5d40e02d",
   "metadata": {},
   "outputs": [],
   "source": [
    "preds = trainer.predict(test_dataset)\n",
    "pred_labels = preds.predictions.argmax(-1)\n",
    "\n",
    "# Classification report\n",
    "target_names = ['positif', 'netral', 'negatif']\n",
    "print(classification_report(test_dataset[\"labels\"], pred_labels, target_names=target_names))"
   ]
  },
  {
   "cell_type": "code",
   "execution_count": 41,
   "id": "9e73603c",
   "metadata": {},
   "outputs": [
    {
     "name": "stdout",
     "output_type": "stream",
     "text": [
      "              precision    recall  f1-score   support\n",
      "\n",
      "     positif       0.60      0.67      0.63       229\n",
      "      netral       0.82      0.77      0.80      1182\n",
      "     negatif       0.87      0.89      0.88      1971\n",
      "\n",
      "    accuracy                           0.84      3382\n",
      "   macro avg       0.77      0.78      0.77      3382\n",
      "weighted avg       0.84      0.84      0.84      3382\n",
      "\n"
     ]
    }
   ],
   "source": [
    "# Classification report\n",
    "target_names = ['positif', 'netral', 'negatif']\n",
    "print(classification_report(test_dataset[\"labels\"], pred_labels, target_names=target_names))"
   ]
  },
  {
   "cell_type": "markdown",
   "id": "702708e1",
   "metadata": {},
   "source": [
    "## _**Visualisasi Model**_"
   ]
  },
  {
   "cell_type": "code",
   "execution_count": null,
   "id": "7154ece9",
   "metadata": {},
   "outputs": [
    {
     "data": {
      "image/png": "[encoded data removed]",
      "text/plain": [
       "<Figure size 640x480 with 2 Axes>"
      ]
     },
     "metadata": {},
     "output_type": "display_data"
    }
   ],
   "source": [
    "# Confusion matrix\n",
    "cm = confusion_matrix(test_dataset['labels'], pred_labels)\n",
    "sns.heatmap(cm, annot=True, fmt='d', cmap='Blues', xticklabels=['positive', 'neutral', 'negative'], yticklabels=['positive', 'neutral', 'negative'])\n",
    "plt.xlabel('Predicted')\n",
    "plt.ylabel('True')\n",
    "plt.show()"
   ]
  },
  {
   "cell_type": "code",
   "execution_count": 46,
   "id": "55c0e18f",
   "metadata": {},
   "outputs": [
    {
     "name": "stdout",
     "output_type": "stream",
     "text": [
      "positive: 99.775%\n",
      "neutral: 0.023%\n",
      "negative: 0.202%\n",
      "Text: cantik sekali | Label: positive (99.775%)\n"
     ]
    }
   ],
   "source": [
    "def predict_sentiment_debug(text):\n",
    "    device = torch.device(\"cuda\" if torch.cuda.is_available() else \"cpu\")  # Check if CUDA is available\n",
    "    model.to(device)  # Move model to the appropriate device\n",
    "    inputs = tokenizer(text, return_tensors=\"pt\", truncation=True, padding=True, max_length=512).to(device)  # Move inputs to the same device\n",
    "    outputs = model(**inputs)\n",
    "    probs = softmax(outputs.logits, dim=-1)  # Hitung probabilitas\n",
    "    label_map = {0: \"positive\", 1: \"neutral\", 2: \"negative\"}  # Mapping label\n",
    "    for i, prob in enumerate(probs[0]):\n",
    "        print(f\"{label_map[i]}: {prob.item() * 100:.3f}%\")\n",
    "    predicted_class = torch.argmax(probs, dim=-1).item()  # Ambil label prediksi\n",
    "    confidence = probs[0][predicted_class].item() * 100  # Ambil probabilitas prediksi\n",
    "    return label_map[predicted_class], confidence\n",
    "\n",
    "# Contoh teks untuk prediksi\n",
    "text = \"cantik sekali\"\n",
    "label, confidence = predict_sentiment_debug(text)\n",
    "\n",
    "# Output hasil prediksi\n",
    "print(f\"Text: {text} | Label: {label} ({confidence:.3f}%)\")"
   ]
  },
  {
   "cell_type": "code",
   "execution_count": null,
   "id": "4fc9d245",
   "metadata": {},
   "outputs": [],
   "source": []
  }
 ],
 "metadata": {
  "kernelspec": {
   "display_name": "base",
   "language": "python",
   "name": "python3"
  },
  "language_info": {
   "codemirror_mode": {
    "name": "ipython",
    "version": 3
   },
   "file_extension": ".py",
   "mimetype": "text/x-python",
   "name": "python",
   "nbconvert_exporter": "python",
   "pygments_lexer": "ipython3",
   "version": "3.12.7"
  }
 },
 "nbformat": 4,
 "nbformat_minor": 5
}
