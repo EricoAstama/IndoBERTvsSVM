{
 "cells": [
  {
   "cell_type": "markdown",
   "id": "ad23649c",
   "metadata": {},
   "source": [
    "# **Pseudo-Labeling**"
   ]
  },
  {
   "cell_type": "markdown",
   "id": "dd790d9d",
   "metadata": {},
   "source": [
    "## _**Import Library**_"
   ]
  },
  {
   "cell_type": "code",
   "execution_count": 2,
   "id": "b718d3da",
   "metadata": {},
   "outputs": [],
   "source": [
    "# Library umum\n",
    "import pandas as pd\n",
    "import torch\n",
    "from tqdm import tqdm\n",
    "\n",
    "# Transformers (Hugging Face)\n",
    "from transformers import AutoTokenizer, AutoModelForSequenceClassification\n",
    "from torch.nn.functional import softmax\n"
   ]
  },
  {
   "cell_type": "markdown",
   "id": "5b77114e",
   "metadata": {},
   "source": [
    "## **_load data_**"
   ]
  },
  {
   "cell_type": "code",
   "execution_count": 3,
   "id": "8581e196",
   "metadata": {},
   "outputs": [
    {
     "data": {
      "application/vnd.microsoft.datawrangler.viewer.v0+json": {
       "columns": [
        {
         "name": "index",
         "rawType": "int64",
         "type": "integer"
        },
        {
         "name": "full_text",
         "rawType": "object",
         "type": "string"
        },
        {
         "name": "stemming",
         "rawType": "object",
         "type": "string"
        }
       ],
       "conversionMethod": "pd.DataFrame",
       "ref": "72850f1b-6fac-48e8-88f7-9618f83f8d9a",
       "rows": [
        [
         "0",
         "@IqbalRa17664055 @rwp1byte aku nyusul kerja aja mau #KaburAjaDulu bawa istri wkwkwk",
         "susul kerja kaburajadulu bawa istri wkwkwk"
        ],
        [
         "1",
         "#KaburAjaDulu bole juga ni hashtag",
         "kaburajadulu nih hashtag"
        ],
        [
         "2",
         "#KaburAjaDulu",
         "kaburajadulu"
        ],
        [
         "3",
         " Ehhh ini Mas Adith #KaburAjaDulu ya? Mohon maaf ya Siapa ya pemilik asli dari hashtag di atas? Gw cuma ikut ngeramein aja btw ",
         "eh mas adith kaburajadulu ya mohon maaf ya ya milik asli hashtag gue ngeramein btw"
        ],
        [
         "4",
         "Dengan ini saya resmikan pemilik hashtag #KaburAjaDulu adalah mz Adith! Sah ya gaes sah!",
         "resmi milik hashtag kaburajadulu mas adith sah ya gaes sah"
        ]
       ],
       "shape": {
        "columns": 2,
        "rows": 5
       }
      },
      "text/html": [
       "<div>\n",
       "<style scoped>\n",
       "    .dataframe tbody tr th:only-of-type {\n",
       "        vertical-align: middle;\n",
       "    }\n",
       "\n",
       "    .dataframe tbody tr th {\n",
       "        vertical-align: top;\n",
       "    }\n",
       "\n",
       "    .dataframe thead th {\n",
       "        text-align: right;\n",
       "    }\n",
       "</style>\n",
       "<table border=\"1\" class=\"dataframe\">\n",
       "  <thead>\n",
       "    <tr style=\"text-align: right;\">\n",
       "      <th></th>\n",
       "      <th>full_text</th>\n",
       "      <th>stemming</th>\n",
       "    </tr>\n",
       "  </thead>\n",
       "  <tbody>\n",
       "    <tr>\n",
       "      <th>0</th>\n",
       "      <td>@IqbalRa17664055 @rwp1byte aku nyusul kerja aj...</td>\n",
       "      <td>susul kerja kaburajadulu bawa istri wkwkwk</td>\n",
       "    </tr>\n",
       "    <tr>\n",
       "      <th>1</th>\n",
       "      <td>#KaburAjaDulu bole juga ni hashtag</td>\n",
       "      <td>kaburajadulu nih hashtag</td>\n",
       "    </tr>\n",
       "    <tr>\n",
       "      <th>2</th>\n",
       "      <td>#KaburAjaDulu</td>\n",
       "      <td>kaburajadulu</td>\n",
       "    </tr>\n",
       "    <tr>\n",
       "      <th>3</th>\n",
       "      <td>Ehhh ini Mas Adith #KaburAjaDulu ya? Mohon ma...</td>\n",
       "      <td>eh mas adith kaburajadulu ya mohon maaf ya ya ...</td>\n",
       "    </tr>\n",
       "    <tr>\n",
       "      <th>4</th>\n",
       "      <td>Dengan ini saya resmikan pemilik hashtag #Kabu...</td>\n",
       "      <td>resmi milik hashtag kaburajadulu mas adith sah...</td>\n",
       "    </tr>\n",
       "  </tbody>\n",
       "</table>\n",
       "</div>"
      ],
      "text/plain": [
       "                                           full_text  \\\n",
       "0  @IqbalRa17664055 @rwp1byte aku nyusul kerja aj...   \n",
       "1                 #KaburAjaDulu bole juga ni hashtag   \n",
       "2                                      #KaburAjaDulu   \n",
       "3   Ehhh ini Mas Adith #KaburAjaDulu ya? Mohon ma...   \n",
       "4  Dengan ini saya resmikan pemilik hashtag #Kabu...   \n",
       "\n",
       "                                            stemming  \n",
       "0         susul kerja kaburajadulu bawa istri wkwkwk  \n",
       "1                           kaburajadulu nih hashtag  \n",
       "2                                       kaburajadulu  \n",
       "3  eh mas adith kaburajadulu ya mohon maaf ya ya ...  \n",
       "4  resmi milik hashtag kaburajadulu mas adith sah...  "
      ]
     },
     "execution_count": 3,
     "metadata": {},
     "output_type": "execute_result"
    }
   ],
   "source": [
    "# Load data hasil preprocessing\n",
    "df = pd.read_csv(\"../data/processed/full_cleaned.csv\")\n",
    "\n",
    "# Cek 5 data awal\n",
    "df.head()"
   ]
  },
  {
   "cell_type": "markdown",
   "id": "6e8ecf6d",
   "metadata": {},
   "source": [
    "## _**load model**_"
   ]
  },
  {
   "cell_type": "code",
   "execution_count": 4,
   "id": "3ff8881d",
   "metadata": {},
   "outputs": [],
   "source": [
    "# Gunakan model RoBERTa dari w11wo\n",
    "model_name = \"ayameRushia/bert-base-indonesian-1.5G-sentiment-analysis-smsa\"\n",
    "\n",
    "tokenizer = AutoTokenizer.from_pretrained(model_name)\n",
    "model = AutoModelForSequenceClassification.from_pretrained(model_name)\n",
    "model.eval();  # masuk ke mode evaluasi"
   ]
  },
  {
   "cell_type": "code",
   "execution_count": 5,
   "id": "49a2504b",
   "metadata": {},
   "outputs": [
    {
     "name": "stdout",
     "output_type": "stream",
     "text": [
      "{0: 'Positive', 1: 'Neutral', 2: 'Negative'}\n"
     ]
    }
   ],
   "source": [
    "# Lihat mapping label\n",
    "print(model.config.id2label)\n"
   ]
  },
  {
   "cell_type": "code",
   "execution_count": 6,
   "id": "e8bc24b7",
   "metadata": {},
   "outputs": [],
   "source": [
    "from torch.nn.functional import softmax\n",
    "\n",
    "def predict_sentiment_custom(text):\n",
    "    clean_text = text.lower().strip()\n",
    "\n",
    "    # Jika hanya \"kaburajadulu\" atau \"#kaburajadulu\", langsung return label netral (1)\n",
    "    if clean_text in [\"kaburajadulu\", \"#kaburajadulu\"]:\n",
    "        return 1  # netral\n",
    "\n",
    "    # Prediksi dengan model seperti biasa\n",
    "    inputs = tokenizer(text, return_tensors=\"pt\", truncation=True, padding=True, max_length=256)\n",
    "    with torch.no_grad():\n",
    "        outputs = model(**inputs)\n",
    "        probs = softmax(outputs.logits, dim=1)\n",
    "        predicted = torch.argmax(probs, dim=1).item()\n",
    "    return predicted\n"
   ]
  },
  {
   "cell_type": "code",
   "execution_count": 7,
   "id": "c5e6b13c",
   "metadata": {},
   "outputs": [
    {
     "data": {
      "text/plain": [
       "stemming\n",
       "<class 'str'>    16905\n",
       "Name: count, dtype: int64"
      ]
     },
     "execution_count": 7,
     "metadata": {},
     "output_type": "execute_result"
    }
   ],
   "source": [
    "df['stemming'].apply(lambda x: type(x)).value_counts()"
   ]
  },
  {
   "cell_type": "code",
   "execution_count": 8,
   "id": "bee3e3fc",
   "metadata": {},
   "outputs": [
    {
     "name": "stderr",
     "output_type": "stream",
     "text": [
      "100%|██████████| 16905/16905 [13:12<00:00, 21.34it/s]\n"
     ]
    },
    {
     "data": {
      "application/vnd.microsoft.datawrangler.viewer.v0+json": {
       "columns": [
        {
         "name": "index",
         "rawType": "int64",
         "type": "integer"
        },
        {
         "name": "stemming",
         "rawType": "object",
         "type": "string"
        },
        {
         "name": "label_num",
         "rawType": "int64",
         "type": "integer"
        },
        {
         "name": "pseudo_label",
         "rawType": "object",
         "type": "string"
        }
       ],
       "conversionMethod": "pd.DataFrame",
       "ref": "20fcbfaa-146e-4ec0-9db8-82e096792630",
       "rows": [
        [
         "0",
         "susul kerja kaburajadulu bawa istri wkwkwk",
         "1",
         "neutral"
        ],
        [
         "1",
         "kaburajadulu nih hashtag",
         "2",
         "negative"
        ],
        [
         "2",
         "kaburajadulu",
         "1",
         "neutral"
        ],
        [
         "3",
         "eh mas adith kaburajadulu ya mohon maaf ya ya milik asli hashtag gue ngeramein btw",
         "1",
         "neutral"
        ],
        [
         "4",
         "resmi milik hashtag kaburajadulu mas adith sah ya gaes sah",
         "1",
         "neutral"
        ],
        [
         "5",
         "undang lunch party event company terbang indonesia japan sah karyawannya berkat ketemu seleb kondang twitter sih kaburajadulu company kerja doi paisen",
         "1",
         "neutral"
        ],
        [
         "6",
         "kali ya ngikut tren kaburajadulu",
         "2",
         "negative"
        ],
        [
         "7",
         "keluarga hasil kaburajadulu jepang",
         "2",
         "negative"
        ],
        [
         "8",
         "pengin ajak danilla kaburajadulu jepang",
         "1",
         "neutral"
        ],
        [
         "9",
         "teman teman software engineer pengin kaburajadulu jepang pengin cari company syarat bahasa jepang lihat web",
         "1",
         "neutral"
        ]
       ],
       "shape": {
        "columns": 3,
        "rows": 10
       }
      },
      "text/html": [
       "<div>\n",
       "<style scoped>\n",
       "    .dataframe tbody tr th:only-of-type {\n",
       "        vertical-align: middle;\n",
       "    }\n",
       "\n",
       "    .dataframe tbody tr th {\n",
       "        vertical-align: top;\n",
       "    }\n",
       "\n",
       "    .dataframe thead th {\n",
       "        text-align: right;\n",
       "    }\n",
       "</style>\n",
       "<table border=\"1\" class=\"dataframe\">\n",
       "  <thead>\n",
       "    <tr style=\"text-align: right;\">\n",
       "      <th></th>\n",
       "      <th>stemming</th>\n",
       "      <th>label_num</th>\n",
       "      <th>pseudo_label</th>\n",
       "    </tr>\n",
       "  </thead>\n",
       "  <tbody>\n",
       "    <tr>\n",
       "      <th>0</th>\n",
       "      <td>susul kerja kaburajadulu bawa istri wkwkwk</td>\n",
       "      <td>1</td>\n",
       "      <td>neutral</td>\n",
       "    </tr>\n",
       "    <tr>\n",
       "      <th>1</th>\n",
       "      <td>kaburajadulu nih hashtag</td>\n",
       "      <td>2</td>\n",
       "      <td>negative</td>\n",
       "    </tr>\n",
       "    <tr>\n",
       "      <th>2</th>\n",
       "      <td>kaburajadulu</td>\n",
       "      <td>1</td>\n",
       "      <td>neutral</td>\n",
       "    </tr>\n",
       "    <tr>\n",
       "      <th>3</th>\n",
       "      <td>eh mas adith kaburajadulu ya mohon maaf ya ya ...</td>\n",
       "      <td>1</td>\n",
       "      <td>neutral</td>\n",
       "    </tr>\n",
       "    <tr>\n",
       "      <th>4</th>\n",
       "      <td>resmi milik hashtag kaburajadulu mas adith sah...</td>\n",
       "      <td>1</td>\n",
       "      <td>neutral</td>\n",
       "    </tr>\n",
       "    <tr>\n",
       "      <th>5</th>\n",
       "      <td>undang lunch party event company terbang indon...</td>\n",
       "      <td>1</td>\n",
       "      <td>neutral</td>\n",
       "    </tr>\n",
       "    <tr>\n",
       "      <th>6</th>\n",
       "      <td>kali ya ngikut tren kaburajadulu</td>\n",
       "      <td>2</td>\n",
       "      <td>negative</td>\n",
       "    </tr>\n",
       "    <tr>\n",
       "      <th>7</th>\n",
       "      <td>keluarga hasil kaburajadulu jepang</td>\n",
       "      <td>2</td>\n",
       "      <td>negative</td>\n",
       "    </tr>\n",
       "    <tr>\n",
       "      <th>8</th>\n",
       "      <td>pengin ajak danilla kaburajadulu jepang</td>\n",
       "      <td>1</td>\n",
       "      <td>neutral</td>\n",
       "    </tr>\n",
       "    <tr>\n",
       "      <th>9</th>\n",
       "      <td>teman teman software engineer pengin kaburajad...</td>\n",
       "      <td>1</td>\n",
       "      <td>neutral</td>\n",
       "    </tr>\n",
       "  </tbody>\n",
       "</table>\n",
       "</div>"
      ],
      "text/plain": [
       "                                            stemming  label_num pseudo_label\n",
       "0         susul kerja kaburajadulu bawa istri wkwkwk          1      neutral\n",
       "1                           kaburajadulu nih hashtag          2     negative\n",
       "2                                       kaburajadulu          1      neutral\n",
       "3  eh mas adith kaburajadulu ya mohon maaf ya ya ...          1      neutral\n",
       "4  resmi milik hashtag kaburajadulu mas adith sah...          1      neutral\n",
       "5  undang lunch party event company terbang indon...          1      neutral\n",
       "6                   kali ya ngikut tren kaburajadulu          2     negative\n",
       "7                 keluarga hasil kaburajadulu jepang          2     negative\n",
       "8            pengin ajak danilla kaburajadulu jepang          1      neutral\n",
       "9  teman teman software engineer pengin kaburajad...          1      neutral"
      ]
     },
     "execution_count": 8,
     "metadata": {},
     "output_type": "execute_result"
    }
   ],
   "source": [
    "# Tampilkan progress bar saat proses banyak data\n",
    "tqdm.pandas()\n",
    "\n",
    "# Prediksi label numerik\n",
    "df['label_num'] = df['stemming'].progress_apply(predict_sentiment_custom)\n",
    "\n",
    "# Konversi label angka ke teks\n",
    "label_map = {0: 'positive', 1: 'neutral', 2: 'negative'}\n",
    "df['pseudo_label'] = df['label_num'].map(label_map)\n",
    "\n",
    "# Lihat hasil awal\n",
    "df[['stemming', 'label_num', 'pseudo_label']].head(10)\n",
    "\n"
   ]
  },
  {
   "cell_type": "code",
   "execution_count": 9,
   "id": "fe0d41a1",
   "metadata": {},
   "outputs": [
    {
     "name": "stdout",
     "output_type": "stream",
     "text": [
      "✅ Dataset berhasil disimpan ke full_cleaned_labeled.csv\n"
     ]
    }
   ],
   "source": [
    "# Simpan ke file untuk digunakan di model training\n",
    "df.to_csv(\"../data/processed/full_cleaned_labeled.csv\", index=False)\n",
    "print(\"✅ Dataset berhasil disimpan ke full_cleaned_labeled.csv\")"
   ]
  },
  {
   "cell_type": "code",
   "execution_count": 10,
   "id": "e4480089",
   "metadata": {},
   "outputs": [
    {
     "name": "stdout",
     "output_type": "stream",
     "text": [
      "label_num\n",
      "2    9857\n",
      "1    5748\n",
      "0    1300\n",
      "Name: count, dtype: int64\n"
     ]
    }
   ],
   "source": [
    "# Mengecek jumlah label 0, 1, dan 2 full cleaned 1.5G\n",
    "label_counts = df['label_num'].value_counts()\n",
    "\n",
    "# Menampilkan hasil\n",
    "print(label_counts)\n"
   ]
  }
 ],
 "metadata": {
  "kernelspec": {
   "display_name": "base",
   "language": "python",
   "name": "python3"
  },
  "language_info": {
   "codemirror_mode": {
    "name": "ipython",
    "version": 3
   },
   "file_extension": ".py",
   "mimetype": "text/x-python",
   "name": "python",
   "nbconvert_exporter": "python",
   "pygments_lexer": "ipython3",
   "version": "3.12.7"
  }
 },
 "nbformat": 4,
 "nbformat_minor": 5
}
