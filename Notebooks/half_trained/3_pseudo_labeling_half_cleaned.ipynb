{
 "cells": [
  {
   "cell_type": "markdown",
   "id": "ad23649c",
   "metadata": {},
   "source": [
    "# **Pseudo-Labeling**"
   ]
  },
  {
   "cell_type": "markdown",
   "id": "dd790d9d",
   "metadata": {},
   "source": [
    "## _**Import Library**_"
   ]
  },
  {
   "cell_type": "code",
   "execution_count": 3,
   "id": "b718d3da",
   "metadata": {},
   "outputs": [],
   "source": [
    "# Library umum\n",
    "import pandas as pd\n",
    "import torch\n",
    "from tqdm import tqdm\n",
    "\n",
    "# Transformers (Hugging Face)\n",
    "from transformers import AutoTokenizer, AutoModelForSequenceClassification\n",
    "from torch.nn.functional import softmax\n"
   ]
  },
  {
   "cell_type": "markdown",
   "id": "5b77114e",
   "metadata": {},
   "source": [
    "## **_load data_**"
   ]
  },
  {
   "cell_type": "code",
   "execution_count": 4,
   "id": "8581e196",
   "metadata": {},
   "outputs": [
    {
     "data": {
      "application/vnd.microsoft.datawrangler.viewer.v0+json": {
       "columns": [
        {
         "name": "index",
         "rawType": "int64",
         "type": "integer"
        },
        {
         "name": "full_text",
         "rawType": "object",
         "type": "string"
        },
        {
         "name": "normalized",
         "rawType": "object",
         "type": "string"
        }
       ],
       "conversionMethod": "pd.DataFrame",
       "ref": "6526834f-c454-4900-8678-0cbf0c550430",
       "rows": [
        [
         "0",
         "@IqbalRa17664055 @rwp1byte aku nyusul kerja aja mau #KaburAjaDulu bawa istri wkwkwk",
         "aku menyusul kerja saja mau kaburajadulu bawa istri wkwkwk"
        ],
        [
         "1",
         "#KaburAjaDulu bole juga ni hashtag",
         "kaburajadulu boleh juga nih hashtag"
        ],
        [
         "2",
         "#KaburAjaDulu",
         "kaburajadulu"
        ],
        [
         "3",
         " Ehhh ini Mas Adith #KaburAjaDulu ya? Mohon maaf ya Siapa ya pemilik asli dari hashtag di atas? Gw cuma ikut ngeramein aja btw ",
         "eh ini mas adith kaburajadulu ya mohon maaf ya siapa ya pemilik asli dari hashtag di atas gue cuma ikut ngeramein saja btw"
        ],
        [
         "4",
         "Dengan ini saya resmikan pemilik hashtag #KaburAjaDulu adalah mz Adith! Sah ya gaes sah!",
         "dengan ini saya resmikan pemilik hashtag kaburajadulu adalah mas adith sah ya gaes sah"
        ]
       ],
       "shape": {
        "columns": 2,
        "rows": 5
       }
      },
      "text/html": [
       "<div>\n",
       "<style scoped>\n",
       "    .dataframe tbody tr th:only-of-type {\n",
       "        vertical-align: middle;\n",
       "    }\n",
       "\n",
       "    .dataframe tbody tr th {\n",
       "        vertical-align: top;\n",
       "    }\n",
       "\n",
       "    .dataframe thead th {\n",
       "        text-align: right;\n",
       "    }\n",
       "</style>\n",
       "<table border=\"1\" class=\"dataframe\">\n",
       "  <thead>\n",
       "    <tr style=\"text-align: right;\">\n",
       "      <th></th>\n",
       "      <th>full_text</th>\n",
       "      <th>normalized</th>\n",
       "    </tr>\n",
       "  </thead>\n",
       "  <tbody>\n",
       "    <tr>\n",
       "      <th>0</th>\n",
       "      <td>@IqbalRa17664055 @rwp1byte aku nyusul kerja aj...</td>\n",
       "      <td>aku menyusul kerja saja mau kaburajadulu bawa ...</td>\n",
       "    </tr>\n",
       "    <tr>\n",
       "      <th>1</th>\n",
       "      <td>#KaburAjaDulu bole juga ni hashtag</td>\n",
       "      <td>kaburajadulu boleh juga nih hashtag</td>\n",
       "    </tr>\n",
       "    <tr>\n",
       "      <th>2</th>\n",
       "      <td>#KaburAjaDulu</td>\n",
       "      <td>kaburajadulu</td>\n",
       "    </tr>\n",
       "    <tr>\n",
       "      <th>3</th>\n",
       "      <td>Ehhh ini Mas Adith #KaburAjaDulu ya? Mohon ma...</td>\n",
       "      <td>eh ini mas adith kaburajadulu ya mohon maaf ya...</td>\n",
       "    </tr>\n",
       "    <tr>\n",
       "      <th>4</th>\n",
       "      <td>Dengan ini saya resmikan pemilik hashtag #Kabu...</td>\n",
       "      <td>dengan ini saya resmikan pemilik hashtag kabur...</td>\n",
       "    </tr>\n",
       "  </tbody>\n",
       "</table>\n",
       "</div>"
      ],
      "text/plain": [
       "                                           full_text  \\\n",
       "0  @IqbalRa17664055 @rwp1byte aku nyusul kerja aj...   \n",
       "1                 #KaburAjaDulu bole juga ni hashtag   \n",
       "2                                      #KaburAjaDulu   \n",
       "3   Ehhh ini Mas Adith #KaburAjaDulu ya? Mohon ma...   \n",
       "4  Dengan ini saya resmikan pemilik hashtag #Kabu...   \n",
       "\n",
       "                                          normalized  \n",
       "0  aku menyusul kerja saja mau kaburajadulu bawa ...  \n",
       "1                kaburajadulu boleh juga nih hashtag  \n",
       "2                                       kaburajadulu  \n",
       "3  eh ini mas adith kaburajadulu ya mohon maaf ya...  \n",
       "4  dengan ini saya resmikan pemilik hashtag kabur...  "
      ]
     },
     "execution_count": 4,
     "metadata": {},
     "output_type": "execute_result"
    }
   ],
   "source": [
    "# Load data hasil preprocessing\n",
    "df = pd.read_csv(\"../data/processed/half_cleaned.csv\")\n",
    "\n",
    "# Cek 5 data awal\n",
    "df.head()"
   ]
  },
  {
   "cell_type": "markdown",
   "id": "6e8ecf6d",
   "metadata": {},
   "source": [
    "## _**load model**_"
   ]
  },
  {
   "cell_type": "code",
   "execution_count": 5,
   "id": "3ff8881d",
   "metadata": {},
   "outputs": [],
   "source": [
    "# Gunakan model RoBERTa dari w11wo\n",
    "model_name = \"ayameRushia/bert-base-indonesian-1.5G-sentiment-analysis-smsa\"\n",
    "\n",
    "tokenizer = AutoTokenizer.from_pretrained(model_name)\n",
    "model = AutoModelForSequenceClassification.from_pretrained(model_name)\n",
    "model.eval();  # masuk ke mode evaluasi"
   ]
  },
  {
   "cell_type": "code",
   "execution_count": 6,
   "id": "49a2504b",
   "metadata": {},
   "outputs": [
    {
     "name": "stdout",
     "output_type": "stream",
     "text": [
      "{0: 'Positive', 1: 'Neutral', 2: 'Negative'}\n"
     ]
    }
   ],
   "source": [
    "# Lihat mapping label\n",
    "print(model.config.id2label)\n"
   ]
  },
  {
   "cell_type": "code",
   "execution_count": 7,
   "id": "e8bc24b7",
   "metadata": {},
   "outputs": [],
   "source": [
    "from torch.nn.functional import softmax\n",
    "\n",
    "def predict_sentiment_custom(text):\n",
    "    clean_text = text.lower().strip()\n",
    "\n",
    "    # Jika hanya \"kaburajadulu\" atau \"#kaburajadulu\", langsung return label netral (1)\n",
    "    if clean_text in [\"kaburajadulu\", \"#kaburajadulu\"]:\n",
    "        return 1  # netral\n",
    "\n",
    "    # Prediksi dengan model seperti biasa\n",
    "    inputs = tokenizer(text, return_tensors=\"pt\", truncation=True, padding=True, max_length=256)\n",
    "    with torch.no_grad():\n",
    "        outputs = model(**inputs)\n",
    "        probs = softmax(outputs.logits, dim=1)\n",
    "        predicted = torch.argmax(probs, dim=1).item()\n",
    "    return predicted\n"
   ]
  },
  {
   "cell_type": "code",
   "execution_count": 8,
   "id": "c5e6b13c",
   "metadata": {},
   "outputs": [
    {
     "data": {
      "text/plain": [
       "normalized\n",
       "<class 'str'>    17664\n",
       "Name: count, dtype: int64"
      ]
     },
     "execution_count": 8,
     "metadata": {},
     "output_type": "execute_result"
    }
   ],
   "source": [
    "df['normalized'].apply(lambda x: type(x)).value_counts()"
   ]
  },
  {
   "cell_type": "code",
   "execution_count": 9,
   "id": "bee3e3fc",
   "metadata": {},
   "outputs": [
    {
     "name": "stderr",
     "output_type": "stream",
     "text": [
      "100%|██████████| 17664/17664 [14:45<00:00, 19.95it/s]\n"
     ]
    },
    {
     "data": {
      "application/vnd.microsoft.datawrangler.viewer.v0+json": {
       "columns": [
        {
         "name": "index",
         "rawType": "int64",
         "type": "integer"
        },
        {
         "name": "normalized",
         "rawType": "object",
         "type": "string"
        },
        {
         "name": "label_num",
         "rawType": "int64",
         "type": "integer"
        },
        {
         "name": "pseudo_label",
         "rawType": "object",
         "type": "string"
        }
       ],
       "conversionMethod": "pd.DataFrame",
       "ref": "994596a5-3e12-437a-8422-60a642fc6b8e",
       "rows": [
        [
         "0",
         "aku menyusul kerja saja mau kaburajadulu bawa istri wkwkwk",
         "2",
         "negatif"
        ],
        [
         "1",
         "kaburajadulu boleh juga nih hashtag",
         "1",
         "neutral"
        ],
        [
         "2",
         "kaburajadulu",
         "1",
         "neutral"
        ],
        [
         "3",
         "eh ini mas adith kaburajadulu ya mohon maaf ya siapa ya pemilik asli dari hashtag di atas gue cuma ikut ngeramein saja btw",
         "1",
         "neutral"
        ],
        [
         "4",
         "dengan ini saya resmikan pemilik hashtag kaburajadulu adalah mas adith sah ya gaes sah",
         "1",
         "neutral"
        ],
        [
         "5",
         "sampai akhirnya aku bisa diundang lunch party event company tersebut lalu diterbangkan dari indonesia ke japan padahal belum sah jadi karyawannya tapi berkat itu bisa ketemu seleb kondang twitter sih kaburajadulu karena company tempat kerjanya doi juga paisen",
         "1",
         "neutral"
        ],
        [
         "6",
         "bisa kali ya tahun depan ngikut tren kaburajadulu",
         "2",
         "negatif"
        ],
        [
         "7",
         "kalau yang berkeluarga dan berhasil kaburajadulu ke jepang ada pak",
         "2",
         "negatif"
        ],
        [
         "8",
         "pengin mengajak danilla kaburajadulu ke jepang",
         "1",
         "neutral"
        ],
        [
         "9",
         "teman teman software engineer yang pengin kaburajadulu ke jepang tapi pengin cari company yang tidak mensyaratkan bahasa jepang bisa lihat web ini",
         "1",
         "neutral"
        ]
       ],
       "shape": {
        "columns": 3,
        "rows": 10
       }
      },
      "text/html": [
       "<div>\n",
       "<style scoped>\n",
       "    .dataframe tbody tr th:only-of-type {\n",
       "        vertical-align: middle;\n",
       "    }\n",
       "\n",
       "    .dataframe tbody tr th {\n",
       "        vertical-align: top;\n",
       "    }\n",
       "\n",
       "    .dataframe thead th {\n",
       "        text-align: right;\n",
       "    }\n",
       "</style>\n",
       "<table border=\"1\" class=\"dataframe\">\n",
       "  <thead>\n",
       "    <tr style=\"text-align: right;\">\n",
       "      <th></th>\n",
       "      <th>normalized</th>\n",
       "      <th>label_num</th>\n",
       "      <th>pseudo_label</th>\n",
       "    </tr>\n",
       "  </thead>\n",
       "  <tbody>\n",
       "    <tr>\n",
       "      <th>0</th>\n",
       "      <td>aku menyusul kerja saja mau kaburajadulu bawa ...</td>\n",
       "      <td>2</td>\n",
       "      <td>negatif</td>\n",
       "    </tr>\n",
       "    <tr>\n",
       "      <th>1</th>\n",
       "      <td>kaburajadulu boleh juga nih hashtag</td>\n",
       "      <td>1</td>\n",
       "      <td>neutral</td>\n",
       "    </tr>\n",
       "    <tr>\n",
       "      <th>2</th>\n",
       "      <td>kaburajadulu</td>\n",
       "      <td>1</td>\n",
       "      <td>neutral</td>\n",
       "    </tr>\n",
       "    <tr>\n",
       "      <th>3</th>\n",
       "      <td>eh ini mas adith kaburajadulu ya mohon maaf ya...</td>\n",
       "      <td>1</td>\n",
       "      <td>neutral</td>\n",
       "    </tr>\n",
       "    <tr>\n",
       "      <th>4</th>\n",
       "      <td>dengan ini saya resmikan pemilik hashtag kabur...</td>\n",
       "      <td>1</td>\n",
       "      <td>neutral</td>\n",
       "    </tr>\n",
       "    <tr>\n",
       "      <th>5</th>\n",
       "      <td>sampai akhirnya aku bisa diundang lunch party ...</td>\n",
       "      <td>1</td>\n",
       "      <td>neutral</td>\n",
       "    </tr>\n",
       "    <tr>\n",
       "      <th>6</th>\n",
       "      <td>bisa kali ya tahun depan ngikut tren kaburajadulu</td>\n",
       "      <td>2</td>\n",
       "      <td>negatif</td>\n",
       "    </tr>\n",
       "    <tr>\n",
       "      <th>7</th>\n",
       "      <td>kalau yang berkeluarga dan berhasil kaburajadu...</td>\n",
       "      <td>2</td>\n",
       "      <td>negatif</td>\n",
       "    </tr>\n",
       "    <tr>\n",
       "      <th>8</th>\n",
       "      <td>pengin mengajak danilla kaburajadulu ke jepang</td>\n",
       "      <td>1</td>\n",
       "      <td>neutral</td>\n",
       "    </tr>\n",
       "    <tr>\n",
       "      <th>9</th>\n",
       "      <td>teman teman software engineer yang pengin kabu...</td>\n",
       "      <td>1</td>\n",
       "      <td>neutral</td>\n",
       "    </tr>\n",
       "  </tbody>\n",
       "</table>\n",
       "</div>"
      ],
      "text/plain": [
       "                                          normalized  label_num pseudo_label\n",
       "0  aku menyusul kerja saja mau kaburajadulu bawa ...          2      negatif\n",
       "1                kaburajadulu boleh juga nih hashtag          1      neutral\n",
       "2                                       kaburajadulu          1      neutral\n",
       "3  eh ini mas adith kaburajadulu ya mohon maaf ya...          1      neutral\n",
       "4  dengan ini saya resmikan pemilik hashtag kabur...          1      neutral\n",
       "5  sampai akhirnya aku bisa diundang lunch party ...          1      neutral\n",
       "6  bisa kali ya tahun depan ngikut tren kaburajadulu          2      negatif\n",
       "7  kalau yang berkeluarga dan berhasil kaburajadu...          2      negatif\n",
       "8     pengin mengajak danilla kaburajadulu ke jepang          1      neutral\n",
       "9  teman teman software engineer yang pengin kabu...          1      neutral"
      ]
     },
     "execution_count": 9,
     "metadata": {},
     "output_type": "execute_result"
    }
   ],
   "source": [
    "# Tampilkan progress bar saat proses banyak data\n",
    "tqdm.pandas()\n",
    "\n",
    "# Prediksi label numerik\n",
    "df['label_num'] = df['normalized'].progress_apply(predict_sentiment_custom)\n",
    "\n",
    "# Konversi label angka ke teks\n",
    "label_map = {0: 'positif', 1: 'neutral', 2: 'negatif'}\n",
    "df['pseudo_label'] = df['label_num'].map(label_map)\n",
    "\n",
    "# Lihat hasil awal\n",
    "df[['normalized', 'label_num', 'pseudo_label']].head(10)\n"
   ]
  },
  {
   "cell_type": "code",
   "execution_count": 10,
   "id": "fe0d41a1",
   "metadata": {},
   "outputs": [
    {
     "name": "stdout",
     "output_type": "stream",
     "text": [
      "✅ Dataset berhasil disimpan ke half_cleaned_labeled.csv\n"
     ]
    }
   ],
   "source": [
    "# Simpan ke file untuk digunakan di model training\n",
    "df.to_csv(\"../data/processed/half_cleaned_labeled.csv\", index=False)\n",
    "print(\"✅ Dataset berhasil disimpan ke half_cleaned_labeled.csv\")"
   ]
  },
  {
   "cell_type": "code",
   "execution_count": 11,
   "id": "e4480089",
   "metadata": {},
   "outputs": [
    {
     "name": "stdout",
     "output_type": "stream",
     "text": [
      "label_num\n",
      "2    11759\n",
      "1     4321\n",
      "0     1584\n",
      "Name: count, dtype: int64\n"
     ]
    }
   ],
   "source": [
    "# Mengecek jumlah label 0, 1, dan 2 half cleaned 1.5G\n",
    "label_counts = df['label_num'].value_counts()\n",
    "\n",
    "# Menampilkan hasil\n",
    "print(label_counts)\n"
   ]
  }
 ],
 "metadata": {
  "kernelspec": {
   "display_name": "base",
   "language": "python",
   "name": "python3"
  },
  "language_info": {
   "codemirror_mode": {
    "name": "ipython",
    "version": 3
   },
   "file_extension": ".py",
   "mimetype": "text/x-python",
   "name": "python",
   "nbconvert_exporter": "python",
   "pygments_lexer": "ipython3",
   "version": "3.12.7"
  }
 },
 "nbformat": 4,
 "nbformat_minor": 5
}
