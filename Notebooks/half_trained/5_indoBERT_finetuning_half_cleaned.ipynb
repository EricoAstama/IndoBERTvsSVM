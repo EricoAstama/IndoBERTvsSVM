{
 "cells": [
  {
   "cell_type": "markdown",
   "id": "2f6a99f9",
   "metadata": {},
   "source": [
    "# **Import Librarys**"
   ]
  },
  {
   "cell_type": "code",
   "execution_count": 1,
   "id": "3518f8b1",
   "metadata": {},
   "outputs": [],
   "source": [
    "import pandas as pd\n",
    "import numpy as np\n",
    "import time\n",
    "from sklearn.model_selection import train_test_split\n",
    "from sklearn.metrics import classification_report, confusion_matrix\n",
    "import matplotlib.pyplot as plt\n",
    "import seaborn as sns\n",
    "\n",
    "import torch\n",
    "from torch import softmax\n",
    "from transformers import AutoTokenizer, AutoModelForSequenceClassification, TrainingArguments, Trainer\n",
    "from transformers import DataCollatorWithPadding\n",
    "from datasets import Dataset"
   ]
  },
  {
   "cell_type": "markdown",
   "id": "bc64d93c",
   "metadata": {},
   "source": [
    "# **Tokenizer dan Dataset Format (untuk HuggingFace Trainer)**"
   ]
  },
  {
   "cell_type": "code",
   "execution_count": null,
   "id": "1dfd519f",
   "metadata": {},
   "outputs": [
    {
     "data": {
      "application/vnd.jupyter.widget-view+json": {
       "model_id": "82ef48f2790a42fbac92a1ccb934e250",
       "version_major": 2,
       "version_minor": 0
      },
      "text/plain": [
       "Map:   0%|          | 0/12364 [00:00<?, ? examples/s]"
      ]
     },
     "metadata": {},
     "output_type": "display_data"
    },
    {
     "data": {
      "application/vnd.jupyter.widget-view+json": {
       "model_id": "f6500bee2e6c4aab8470af8a4ff91ae3",
       "version_major": 2,
       "version_minor": 0
      },
      "text/plain": [
       "Map:   0%|          | 0/1766 [00:00<?, ? examples/s]"
      ]
     },
     "metadata": {},
     "output_type": "display_data"
    },
    {
     "data": {
      "application/vnd.jupyter.widget-view+json": {
       "model_id": "27c05000fb7f46b1a6526b6afcd38f85",
       "version_major": 2,
       "version_minor": 0
      },
      "text/plain": [
       "Map:   0%|          | 0/3534 [00:00<?, ? examples/s]"
      ]
     },
     "metadata": {},
     "output_type": "display_data"
    }
   ],
   "source": [
    "# Load tokenizer\n",
    "model_name = \"indobenchmark/indobert-base-p2\"\n",
    "tokenizer = AutoTokenizer.from_pretrained(model_name)\n",
    "\n",
    "# Load data yang telah diproses\n",
    "train_df = pd.read_csv('../data/split_data_half/train_dataset.csv')\n",
    "val_df = pd.read_csv('../data/split_data_half/val_dataset.csv')\n",
    "test_df = pd.read_csv('../data/split_data_half/test_dataset.csv')\n",
    "\n",
    "# Konversi ke Hugging Face Dataset\n",
    "train_dataset = Dataset.from_pandas(train_df)\n",
    "val_dataset = Dataset.from_pandas(val_df)\n",
    "test_dataset = Dataset.from_pandas(test_df)\n",
    "\n",
    "# Fungsi tokenisasi\n",
    "def tokenize_function(examples):\n",
    "    return tokenizer(examples['normalized'], truncation=True,max_length=256)\n",
    "\n",
    "# Tokenisasi dataset\n",
    "train_dataset = train_dataset.map(tokenize_function, batched=True)\n",
    "val_dataset = val_dataset.map(tokenize_function, batched=True)\n",
    "test_dataset = test_dataset.map(tokenize_function, batched=True)"
   ]
  },
  {
   "cell_type": "markdown",
   "id": "63e35ae4",
   "metadata": {},
   "source": [
    "# **Set format dataset ke format PyTorch**"
   ]
  },
  {
   "cell_type": "code",
   "execution_count": null,
   "id": "9dcfd59e",
   "metadata": {},
   "outputs": [],
   "source": [
    "train_dataset = train_dataset.rename_column(\"label_num\", \"labels\")\n",
    "val_dataset = val_dataset.rename_column(\"label_num\", \"labels\")\n",
    "test_dataset = test_dataset.rename_column(\"label_num\", \"labels\")\n",
    "\n",
    "# set format dataset untuk PyTorch\n",
    "train_dataset.set_format(type='torch', columns=['input_ids', 'attention_mask', 'labels'])\n",
    "val_dataset.set_format(type='torch', columns=['input_ids', 'attention_mask', 'labels'])\n",
    "test_dataset.set_format(type='torch', columns=['input_ids', 'attention_mask', 'labels'])"
   ]
  },
  {
   "cell_type": "markdown",
   "id": "bab58b3e",
   "metadata": {},
   "source": [
    "# **Model Setup**"
   ]
  },
  {
   "cell_type": "code",
   "execution_count": 6,
   "id": "1efa5c2c",
   "metadata": {},
   "outputs": [
    {
     "name": "stderr",
     "output_type": "stream",
     "text": [
      "Some weights of BertForSequenceClassification were not initialized from the model checkpoint at indobenchmark/indobert-base-p2 and are newly initialized: ['classifier.bias', 'classifier.weight']\n",
      "You should probably TRAIN this model on a down-stream task to be able to use it for predictions and inference.\n"
     ]
    }
   ],
   "source": [
    "model = AutoModelForSequenceClassification.from_pretrained(model_name, num_labels=3)\n",
    "\n",
    "training_args = TrainingArguments(\n",
    "    output_dir=\"../training_args\",\n",
    "    eval_strategy=\"epoch\",  # Evaluasi dilakukan di akhir setiap epoch\n",
    "    save_strategy=\"epoch\",  # Simpan model di akhir setiap epoch\n",
    "    learning_rate=2e-5,\n",
    "    per_device_train_batch_size=16,\n",
    "    per_device_eval_batch_size=16,\n",
    "    num_train_epochs=4,\n",
    "    weight_decay=0.01,\n",
    "    logging_dir='./logs',\n",
    "    logging_steps=10,\n",
    "    load_best_model_at_end=True,\n",
    "    metric_for_best_model='accuracy'\n",
    ")"
   ]
  },
  {
   "cell_type": "markdown",
   "id": "7af05073",
   "metadata": {},
   "source": [
    "# **Define metric evaluasi**"
   ]
  },
  {
   "cell_type": "code",
   "execution_count": 7,
   "id": "cdf3361f",
   "metadata": {},
   "outputs": [],
   "source": [
    "import evaluate\n",
    "\n",
    "accuracy = evaluate.load(\"accuracy\")\n",
    "f1 = evaluate.load(\"f1\")\n",
    "\n",
    "def compute_metrics(eval_pred):\n",
    "    logits, labels = eval_pred\n",
    "    predictions = logits.argmax(axis=-1)\n",
    "    return {\n",
    "        \"accuracy\": accuracy.compute(predictions=predictions, references=labels)['accuracy'],\n",
    "        \"f1\": f1.compute(predictions=predictions, references=labels, average='macro')['f1']\n",
    "    }\n"
   ]
  },
  {
   "cell_type": "markdown",
   "id": "f91b62ac",
   "metadata": {},
   "source": [
    "# **Trainer Setup**"
   ]
  },
  {
   "cell_type": "code",
   "execution_count": 8,
   "id": "2cf33d54",
   "metadata": {},
   "outputs": [],
   "source": [
    "data_collator = DataCollatorWithPadding(tokenizer=tokenizer)\n",
    "\n",
    "trainer = Trainer(\n",
    "    model=model,\n",
    "    args=training_args,\n",
    "    train_dataset=train_dataset,\n",
    "    eval_dataset=val_dataset,\n",
    "    compute_metrics=compute_metrics,\n",
    "    data_collator=data_collator,\n",
    ")"
   ]
  },
  {
   "cell_type": "markdown",
   "id": "a884448c",
   "metadata": {},
   "source": [
    "# **Fine-tuning IndoBERT**"
   ]
  },
  {
   "cell_type": "code",
   "execution_count": 9,
   "id": "01f8fa1c",
   "metadata": {},
   "outputs": [
    {
     "name": "stdout",
     "output_type": "stream",
     "text": [
      "Requirement already satisfied: accelerate in c:\\users\\erico\\anaconda3\\lib\\site-packages (1.6.0)\n",
      "Requirement already satisfied: numpy<3.0.0,>=1.17 in c:\\users\\erico\\anaconda3\\lib\\site-packages (from accelerate) (1.26.4)\n",
      "Requirement already satisfied: packaging>=20.0 in c:\\users\\erico\\anaconda3\\lib\\site-packages (from accelerate) (24.1)\n",
      "Requirement already satisfied: psutil in c:\\users\\erico\\anaconda3\\lib\\site-packages (from accelerate) (5.9.0)\n",
      "Requirement already satisfied: pyyaml in c:\\users\\erico\\anaconda3\\lib\\site-packages (from accelerate) (6.0.1)\n",
      "Requirement already satisfied: torch>=2.0.0 in c:\\users\\erico\\anaconda3\\lib\\site-packages (from accelerate) (2.5.1+cu118)\n",
      "Requirement already satisfied: huggingface-hub>=0.21.0 in c:\\users\\erico\\anaconda3\\lib\\site-packages (from accelerate) (0.30.1)\n",
      "Requirement already satisfied: safetensors>=0.4.3 in c:\\users\\erico\\anaconda3\\lib\\site-packages (from accelerate) (0.5.3)\n",
      "Requirement already satisfied: filelock in c:\\users\\erico\\anaconda3\\lib\\site-packages (from huggingface-hub>=0.21.0->accelerate) (3.13.1)\n",
      "Requirement already satisfied: fsspec>=2023.5.0 in c:\\users\\erico\\anaconda3\\lib\\site-packages (from huggingface-hub>=0.21.0->accelerate) (2024.6.1)\n",
      "Requirement already satisfied: requests in c:\\users\\erico\\anaconda3\\lib\\site-packages (from huggingface-hub>=0.21.0->accelerate) (2.32.3)\n",
      "Requirement already satisfied: tqdm>=4.42.1 in c:\\users\\erico\\anaconda3\\lib\\site-packages (from huggingface-hub>=0.21.0->accelerate) (4.66.5)\n",
      "Requirement already satisfied: typing-extensions>=3.7.4.3 in c:\\users\\erico\\anaconda3\\lib\\site-packages (from huggingface-hub>=0.21.0->accelerate) (4.11.0)\n",
      "Requirement already satisfied: networkx in c:\\users\\erico\\anaconda3\\lib\\site-packages (from torch>=2.0.0->accelerate) (3.3)\n",
      "Requirement already satisfied: jinja2 in c:\\users\\erico\\anaconda3\\lib\\site-packages (from torch>=2.0.0->accelerate) (3.1.4)\n",
      "Requirement already satisfied: setuptools in c:\\users\\erico\\anaconda3\\lib\\site-packages (from torch>=2.0.0->accelerate) (75.1.0)\n",
      "Requirement already satisfied: sympy==1.13.1 in c:\\users\\erico\\anaconda3\\lib\\site-packages (from torch>=2.0.0->accelerate) (1.13.1)\n",
      "Requirement already satisfied: mpmath<1.4,>=1.1.0 in c:\\users\\erico\\anaconda3\\lib\\site-packages (from sympy==1.13.1->torch>=2.0.0->accelerate) (1.3.0)\n",
      "Requirement already satisfied: colorama in c:\\users\\erico\\anaconda3\\lib\\site-packages (from tqdm>=4.42.1->huggingface-hub>=0.21.0->accelerate) (0.4.6)\n",
      "Requirement already satisfied: MarkupSafe>=2.0 in c:\\users\\erico\\anaconda3\\lib\\site-packages (from jinja2->torch>=2.0.0->accelerate) (2.1.3)\n",
      "Requirement already satisfied: charset-normalizer<4,>=2 in c:\\users\\erico\\anaconda3\\lib\\site-packages (from requests->huggingface-hub>=0.21.0->accelerate) (3.3.2)\n",
      "Requirement already satisfied: idna<4,>=2.5 in c:\\users\\erico\\anaconda3\\lib\\site-packages (from requests->huggingface-hub>=0.21.0->accelerate) (3.7)\n",
      "Requirement already satisfied: urllib3<3,>=1.21.1 in c:\\users\\erico\\anaconda3\\lib\\site-packages (from requests->huggingface-hub>=0.21.0->accelerate) (2.2.3)\n",
      "Requirement already satisfied: certifi>=2017.4.17 in c:\\users\\erico\\anaconda3\\lib\\site-packages (from requests->huggingface-hub>=0.21.0->accelerate) (2025.1.31)\n",
      "Note: you may need to restart the kernel to use updated packages.\n"
     ]
    }
   ],
   "source": [
    "# untuk mempercepat training\n",
    "%pip install accelerate -U"
   ]
  },
  {
   "cell_type": "code",
   "execution_count": 10,
   "id": "55486a03",
   "metadata": {},
   "outputs": [
    {
     "data": {
      "text/html": [
       "\n",
       "    <div>\n",
       "      \n",
       "      <progress value='3092' max='3092' style='width:300px; height:20px; vertical-align: middle;'></progress>\n",
       "      [3092/3092 30:23, Epoch 4/4]\n",
       "    </div>\n",
       "    <table border=\"1\" class=\"dataframe\">\n",
       "  <thead>\n",
       " <tr style=\"text-align: left;\">\n",
       "      <th>Epoch</th>\n",
       "      <th>Training Loss</th>\n",
       "      <th>Validation Loss</th>\n",
       "      <th>Accuracy</th>\n",
       "      <th>F1</th>\n",
       "    </tr>\n",
       "  </thead>\n",
       "  <tbody>\n",
       "    <tr>\n",
       "      <td>1</td>\n",
       "      <td>0.441100</td>\n",
       "      <td>0.360379</td>\n",
       "      <td>0.851642</td>\n",
       "      <td>0.786031</td>\n",
       "    </tr>\n",
       "    <tr>\n",
       "      <td>2</td>\n",
       "      <td>0.234500</td>\n",
       "      <td>0.380900</td>\n",
       "      <td>0.862401</td>\n",
       "      <td>0.808385</td>\n",
       "    </tr>\n",
       "    <tr>\n",
       "      <td>3</td>\n",
       "      <td>0.072100</td>\n",
       "      <td>0.557420</td>\n",
       "      <td>0.856738</td>\n",
       "      <td>0.790742</td>\n",
       "    </tr>\n",
       "    <tr>\n",
       "      <td>4</td>\n",
       "      <td>0.040200</td>\n",
       "      <td>0.710683</td>\n",
       "      <td>0.853341</td>\n",
       "      <td>0.797726</td>\n",
       "    </tr>\n",
       "  </tbody>\n",
       "</table><p>"
      ],
      "text/plain": [
       "<IPython.core.display.HTML object>"
      ]
     },
     "metadata": {},
     "output_type": "display_data"
    },
    {
     "name": "stdout",
     "output_type": "stream",
     "text": [
      "Durasi pelatihan: 0:30:25\n"
     ]
    }
   ],
   "source": [
    "# Mulai mencatat waktu\n",
    "start_time = time.time()\n",
    "\n",
    "# Melatih model\n",
    "trainer.train()\n",
    "\n",
    "# Selesai mencatat waktu\n",
    "end_time = time.time()\n",
    "\n",
    "# Menghitung durasi\n",
    "training_duration = end_time - start_time\n",
    "\n",
    "# Tampilkan durasi dalam format jam:menit:detik\n",
    "import datetime\n",
    "formatted_duration = str(datetime.timedelta(seconds=int(training_duration)))\n",
    "print(f\"Durasi pelatihan: {formatted_duration}\")"
   ]
  },
  {
   "cell_type": "markdown",
   "id": "e897aec7",
   "metadata": {},
   "source": [
    "# **Evaluasi Model**"
   ]
  },
  {
   "cell_type": "code",
   "execution_count": 11,
   "id": "3d2baed7",
   "metadata": {},
   "outputs": [
    {
     "data": {
      "text/html": [],
      "text/plain": [
       "<IPython.core.display.HTML object>"
      ]
     },
     "metadata": {},
     "output_type": "display_data"
    },
    {
     "name": "stdout",
     "output_type": "stream",
     "text": [
      "{'eval_loss': 0.39808717370033264, 'eval_accuracy': 0.855970571590266, 'eval_f1': 0.7812795789967814, 'eval_runtime': 42.6507, 'eval_samples_per_second': 82.859, 'eval_steps_per_second': 5.182, 'epoch': 4.0}\n"
     ]
    }
   ],
   "source": [
    "results = trainer.evaluate(test_dataset)\n",
    "print(results)"
   ]
  },
  {
   "cell_type": "markdown",
   "id": "26755eb3",
   "metadata": {},
   "source": [
    "# **save model**"
   ]
  },
  {
   "cell_type": "code",
   "execution_count": null,
   "id": "8893d46a",
   "metadata": {},
   "outputs": [],
   "source": [
    "# Simpan model\n",
    "trainer.save_model(\"../models/indoBERT_finetuning_half\")"
   ]
  },
  {
   "cell_type": "markdown",
   "id": "bf56506b",
   "metadata": {},
   "source": [
    "# **test model**"
   ]
  },
  {
   "cell_type": "code",
   "execution_count": null,
   "id": "adeeeb39",
   "metadata": {},
   "outputs": [],
   "source": [
    "preds = trainer.predict(test_dataset)\n",
    "pred_labels = preds.predictions.argmax(-1)"
   ]
  },
  {
   "cell_type": "code",
   "execution_count": 16,
   "id": "9e73603c",
   "metadata": {},
   "outputs": [
    {
     "name": "stdout",
     "output_type": "stream",
     "text": [
      "              precision    recall  f1-score   support\n",
      "\n",
      "     positif       0.70      0.61      0.66       315\n",
      "      netral       0.75      0.81      0.78       851\n",
      "     negatif       0.92      0.91      0.91      2368\n",
      "\n",
      "    accuracy                           0.86      3534\n",
      "   macro avg       0.79      0.78      0.78      3534\n",
      "weighted avg       0.86      0.86      0.86      3534\n",
      "\n"
     ]
    }
   ],
   "source": [
    "from sklearn.metrics import classification_report\n",
    "\n",
    "target_names = ['positif', 'netral', 'negatif']\n",
    "print(classification_report(test_dataset[\"labels\"], pred_labels, target_names=target_names))"
   ]
  },
  {
   "cell_type": "code",
   "execution_count": null,
   "id": "7154ece9",
   "metadata": {},
   "outputs": [
    {
     "data": {
      "image/png": "[encoded data removed]",
      "text/plain": [
       "<Figure size 640x480 with 2 Axes>"
      ]
     },
     "metadata": {},
     "output_type": "display_data"
    }
   ],
   "source": [
    "# Confusion matrix\n",
    "cm = confusion_matrix(test_dataset['labels'], pred_labels)\n",
    "sns.heatmap(cm, annot=True, fmt='d', cmap='Blues', xticklabels=['positive', 'neutral', 'negative'], yticklabels=['positive', 'neutral', 'negative'])\n",
    "plt.xlabel('Predicted')\n",
    "plt.ylabel('True')\n",
    "plt.show()"
   ]
  },
  {
   "cell_type": "code",
   "execution_count": 18,
   "id": "55c0e18f",
   "metadata": {},
   "outputs": [
    {
     "name": "stdout",
     "output_type": "stream",
     "text": [
      "positive: 98.583%\n",
      "neutral: 0.236%\n",
      "negative: 1.181%\n",
      "Text: cantik | Label: positive (98.583%)\n"
     ]
    }
   ],
   "source": [
    "def predict_sentiment_debug(text):\n",
    "    device = torch.device(\"cuda\" if torch.cuda.is_available() else \"cpu\")  # Check if CUDA is available\n",
    "    model.to(device)  # Move model to the appropriate device\n",
    "    inputs = tokenizer(text, return_tensors=\"pt\", truncation=True, padding=True, max_length=512).to(device)  # Move inputs to the same device\n",
    "    outputs = model(**inputs)\n",
    "    probs = softmax(outputs.logits, dim=-1)  # Hitung probabilitas\n",
    "    label_map = {0: \"positive\", 1: \"neutral\", 2: \"negative\"}  # Mapping label\n",
    "    for i, prob in enumerate(probs[0]):\n",
    "        print(f\"{label_map[i]}: {prob.item() * 100:.3f}%\")\n",
    "    predicted_class = torch.argmax(probs, dim=-1).item()  # Ambil label prediksi\n",
    "    confidence = probs[0][predicted_class].item() * 100  # Ambil probabilitas prediksi\n",
    "    return label_map[predicted_class], confidence\n",
    "\n",
    "# Contoh teks untuk prediksi\n",
    "text = \"cantik\"\n",
    "label, confidence = predict_sentiment_debug(text)\n",
    "\n",
    "# Output hasil prediksi\n",
    "print(f\"Text: {text} | Label: {label} ({confidence:.3f}%)\")"
   ]
  },
  {
   "cell_type": "code",
   "execution_count": null,
   "id": "4fc9d245",
   "metadata": {},
   "outputs": [],
   "source": []
  }
 ],
 "metadata": {
  "kernelspec": {
   "display_name": "base",
   "language": "python",
   "name": "python3"
  },
  "language_info": {
   "codemirror_mode": {
    "name": "ipython",
    "version": 3
   },
   "file_extension": ".py",
   "mimetype": "text/x-python",
   "name": "python",
   "nbconvert_exporter": "python",
   "pygments_lexer": "ipython3",
   "version": "3.12.7"
  }
 },
 "nbformat": 4,
 "nbformat_minor": 5
}
